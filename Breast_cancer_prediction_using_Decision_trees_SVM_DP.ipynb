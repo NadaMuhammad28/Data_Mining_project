{
  "nbformat": 4,
  "nbformat_minor": 0,
  "metadata": {
    "colab": {
      "name": "Breast_cancer_prediction.ipynb",
      "provenance": [],
      "collapsed_sections": [],
      "authorship_tag": "ABX9TyNOrVgZsjvZ7jffzA8TzGAM",
      "include_colab_link": true
    },
    "kernelspec": {
      "name": "python3",
      "display_name": "Python 3"
    },
    "language_info": {
      "name": "python"
    }
  },
  "cells": [
    {
      "cell_type": "markdown",
      "metadata": {
        "id": "view-in-github",
        "colab_type": "text"
      },
      "source": [
        "<a href=\"https://colab.research.google.com/github/NadaMuhammad28/Data_Mining_project/blob/main/Breast_cancer_prediction_using_Decision_trees_SVM_DP.ipynb\" target=\"_parent\"><img src=\"https://colab.research.google.com/assets/colab-badge.svg\" alt=\"Open In Colab\"/></a>"
      ]
    },
    {
      "cell_type": "code",
      "execution_count": 68,
      "metadata": {
        "id": "wLYm29gcH6BA"
      },
      "outputs": [],
      "source": [
        "import scipy\n",
        "import numpy as np\n",
        "import pandas as pd\n",
        "import seaborn as sns\n",
        "\n",
        "from sklearn import tree\n",
        "import tensorflow as tf\n",
        "\n",
        "from sklearn.preprocessing import StandardScaler\n",
        "from sklearn.model_selection import train_test_split\n",
        "\n",
        "\n",
        "\n",
        "from sklearn.svm import SVC\n",
        "\n",
        "from sklearn.tree import DecisionTreeClassifier\n",
        "\n",
        "\n",
        "#from scikitplot.metrics import plot_roc_curve as auc_roc\n",
        "from sklearn.metrics import accuracy_score, confusion_matrix, classification_report, \\\n",
        "f1_score, roc_auc_score, roc_curve, precision_score, recall_score\n",
        "\n",
        "import matplotlib.pyplot as plt"
      ]
    },
    {
      "cell_type": "markdown",
      "source": [
        "##About DataSet\n",
        "\n",
        ">Breast Cancer Wisconsin (Diagnostic) Data Set\n",
        "Predict whether the cancer is benign or malignant\n",
        "  \n",
        "  **source:**  UCI Machine Learning \n",
        "\n",
        "  \n",
        "Features are computed from a digitized image of a fine needle aspirate (FNA) of a breast mass. \n",
        "\n",
        "\n",
        "Attribute Information:\n",
        "1. ID number\n",
        "2. Diagnosis (M = malignant, B = benign)\n",
        "3-32)\n",
        "Ten real-valued features are computed for each cell nucleus:\n",
        "* radius (mean of distances from center to points on the perimeter)\n",
        "* texture (standard deviation of gray-scale values)\n",
        "* perimeter\n",
        "* area\n",
        "* smoothness (local variation in radius lengths)\n",
        "* compactness (perimeter^2 / area - 1.0)\n",
        "* concavity (severity of concave portions of the contour)\n",
        "*  concave points (number of concave portions of the contour)\n",
        "*  symmetry\n",
        "* fractal dimension (\"coastline approximation\" - 1)\n",
        "\n",
        "\n",
        "\n",
        "\n",
        "The mean, standard error and \"worst\" or largest (mean of the three\n",
        "largest values) of these features were computed for each image,\n",
        "resulting in 30 features. For instance, field 3 is Mean Radius, field\n",
        "13 is Radius SE, field 23 is Worst Radius.\n",
        "\n",
        "All feature values are recoded with four significant digits.\n"
      ],
      "metadata": {
        "id": "dNWMGM453u8k"
      }
    },
    {
      "cell_type": "markdown",
      "source": [
        "##UPLOAD CSV FILE"
      ],
      "metadata": {
        "id": "1R7VtXJKFz3g"
      }
    },
    {
      "cell_type": "code",
      "source": [
        "breast_cancer_data =  pd.read_csv('/content/data.csv',header=0)\n",
        "breast_cancer_data.head()\n"
      ],
      "metadata": {
        "colab": {
          "base_uri": "https://localhost:8080/",
          "height": 317
        },
        "id": "qDf99nKhFyHj",
        "outputId": "5186378c-3646-42e3-dbde-aa9eea1fd69b"
      },
      "execution_count": 69,
      "outputs": [
        {
          "output_type": "execute_result",
          "data": {
            "text/plain": [
              "         id diagnosis  radius_mean  texture_mean  perimeter_mean  area_mean  \\\n",
              "0    842302         M        17.99         10.38          122.80     1001.0   \n",
              "1    842517         M        20.57         17.77          132.90     1326.0   \n",
              "2  84300903         M        19.69         21.25          130.00     1203.0   \n",
              "3  84348301         M        11.42         20.38           77.58      386.1   \n",
              "4  84358402         M        20.29         14.34          135.10     1297.0   \n",
              "\n",
              "   smoothness_mean  compactness_mean  concavity_mean  concave points_mean  \\\n",
              "0          0.11840           0.27760          0.3001              0.14710   \n",
              "1          0.08474           0.07864          0.0869              0.07017   \n",
              "2          0.10960           0.15990          0.1974              0.12790   \n",
              "3          0.14250           0.28390          0.2414              0.10520   \n",
              "4          0.10030           0.13280          0.1980              0.10430   \n",
              "\n",
              "   ...  texture_worst  perimeter_worst  area_worst  smoothness_worst  \\\n",
              "0  ...          17.33           184.60      2019.0            0.1622   \n",
              "1  ...          23.41           158.80      1956.0            0.1238   \n",
              "2  ...          25.53           152.50      1709.0            0.1444   \n",
              "3  ...          26.50            98.87       567.7            0.2098   \n",
              "4  ...          16.67           152.20      1575.0            0.1374   \n",
              "\n",
              "   compactness_worst  concavity_worst  concave points_worst  symmetry_worst  \\\n",
              "0             0.6656           0.7119                0.2654          0.4601   \n",
              "1             0.1866           0.2416                0.1860          0.2750   \n",
              "2             0.4245           0.4504                0.2430          0.3613   \n",
              "3             0.8663           0.6869                0.2575          0.6638   \n",
              "4             0.2050           0.4000                0.1625          0.2364   \n",
              "\n",
              "   fractal_dimension_worst  Unnamed: 32  \n",
              "0                  0.11890          NaN  \n",
              "1                  0.08902          NaN  \n",
              "2                  0.08758          NaN  \n",
              "3                  0.17300          NaN  \n",
              "4                  0.07678          NaN  \n",
              "\n",
              "[5 rows x 33 columns]"
            ],
            "text/html": [
              "\n",
              "  <div id=\"df-08fd4b4d-e1cc-4282-a8ed-233731113498\">\n",
              "    <div class=\"colab-df-container\">\n",
              "      <div>\n",
              "<style scoped>\n",
              "    .dataframe tbody tr th:only-of-type {\n",
              "        vertical-align: middle;\n",
              "    }\n",
              "\n",
              "    .dataframe tbody tr th {\n",
              "        vertical-align: top;\n",
              "    }\n",
              "\n",
              "    .dataframe thead th {\n",
              "        text-align: right;\n",
              "    }\n",
              "</style>\n",
              "<table border=\"1\" class=\"dataframe\">\n",
              "  <thead>\n",
              "    <tr style=\"text-align: right;\">\n",
              "      <th></th>\n",
              "      <th>id</th>\n",
              "      <th>diagnosis</th>\n",
              "      <th>radius_mean</th>\n",
              "      <th>texture_mean</th>\n",
              "      <th>perimeter_mean</th>\n",
              "      <th>area_mean</th>\n",
              "      <th>smoothness_mean</th>\n",
              "      <th>compactness_mean</th>\n",
              "      <th>concavity_mean</th>\n",
              "      <th>concave points_mean</th>\n",
              "      <th>...</th>\n",
              "      <th>texture_worst</th>\n",
              "      <th>perimeter_worst</th>\n",
              "      <th>area_worst</th>\n",
              "      <th>smoothness_worst</th>\n",
              "      <th>compactness_worst</th>\n",
              "      <th>concavity_worst</th>\n",
              "      <th>concave points_worst</th>\n",
              "      <th>symmetry_worst</th>\n",
              "      <th>fractal_dimension_worst</th>\n",
              "      <th>Unnamed: 32</th>\n",
              "    </tr>\n",
              "  </thead>\n",
              "  <tbody>\n",
              "    <tr>\n",
              "      <th>0</th>\n",
              "      <td>842302</td>\n",
              "      <td>M</td>\n",
              "      <td>17.99</td>\n",
              "      <td>10.38</td>\n",
              "      <td>122.80</td>\n",
              "      <td>1001.0</td>\n",
              "      <td>0.11840</td>\n",
              "      <td>0.27760</td>\n",
              "      <td>0.3001</td>\n",
              "      <td>0.14710</td>\n",
              "      <td>...</td>\n",
              "      <td>17.33</td>\n",
              "      <td>184.60</td>\n",
              "      <td>2019.0</td>\n",
              "      <td>0.1622</td>\n",
              "      <td>0.6656</td>\n",
              "      <td>0.7119</td>\n",
              "      <td>0.2654</td>\n",
              "      <td>0.4601</td>\n",
              "      <td>0.11890</td>\n",
              "      <td>NaN</td>\n",
              "    </tr>\n",
              "    <tr>\n",
              "      <th>1</th>\n",
              "      <td>842517</td>\n",
              "      <td>M</td>\n",
              "      <td>20.57</td>\n",
              "      <td>17.77</td>\n",
              "      <td>132.90</td>\n",
              "      <td>1326.0</td>\n",
              "      <td>0.08474</td>\n",
              "      <td>0.07864</td>\n",
              "      <td>0.0869</td>\n",
              "      <td>0.07017</td>\n",
              "      <td>...</td>\n",
              "      <td>23.41</td>\n",
              "      <td>158.80</td>\n",
              "      <td>1956.0</td>\n",
              "      <td>0.1238</td>\n",
              "      <td>0.1866</td>\n",
              "      <td>0.2416</td>\n",
              "      <td>0.1860</td>\n",
              "      <td>0.2750</td>\n",
              "      <td>0.08902</td>\n",
              "      <td>NaN</td>\n",
              "    </tr>\n",
              "    <tr>\n",
              "      <th>2</th>\n",
              "      <td>84300903</td>\n",
              "      <td>M</td>\n",
              "      <td>19.69</td>\n",
              "      <td>21.25</td>\n",
              "      <td>130.00</td>\n",
              "      <td>1203.0</td>\n",
              "      <td>0.10960</td>\n",
              "      <td>0.15990</td>\n",
              "      <td>0.1974</td>\n",
              "      <td>0.12790</td>\n",
              "      <td>...</td>\n",
              "      <td>25.53</td>\n",
              "      <td>152.50</td>\n",
              "      <td>1709.0</td>\n",
              "      <td>0.1444</td>\n",
              "      <td>0.4245</td>\n",
              "      <td>0.4504</td>\n",
              "      <td>0.2430</td>\n",
              "      <td>0.3613</td>\n",
              "      <td>0.08758</td>\n",
              "      <td>NaN</td>\n",
              "    </tr>\n",
              "    <tr>\n",
              "      <th>3</th>\n",
              "      <td>84348301</td>\n",
              "      <td>M</td>\n",
              "      <td>11.42</td>\n",
              "      <td>20.38</td>\n",
              "      <td>77.58</td>\n",
              "      <td>386.1</td>\n",
              "      <td>0.14250</td>\n",
              "      <td>0.28390</td>\n",
              "      <td>0.2414</td>\n",
              "      <td>0.10520</td>\n",
              "      <td>...</td>\n",
              "      <td>26.50</td>\n",
              "      <td>98.87</td>\n",
              "      <td>567.7</td>\n",
              "      <td>0.2098</td>\n",
              "      <td>0.8663</td>\n",
              "      <td>0.6869</td>\n",
              "      <td>0.2575</td>\n",
              "      <td>0.6638</td>\n",
              "      <td>0.17300</td>\n",
              "      <td>NaN</td>\n",
              "    </tr>\n",
              "    <tr>\n",
              "      <th>4</th>\n",
              "      <td>84358402</td>\n",
              "      <td>M</td>\n",
              "      <td>20.29</td>\n",
              "      <td>14.34</td>\n",
              "      <td>135.10</td>\n",
              "      <td>1297.0</td>\n",
              "      <td>0.10030</td>\n",
              "      <td>0.13280</td>\n",
              "      <td>0.1980</td>\n",
              "      <td>0.10430</td>\n",
              "      <td>...</td>\n",
              "      <td>16.67</td>\n",
              "      <td>152.20</td>\n",
              "      <td>1575.0</td>\n",
              "      <td>0.1374</td>\n",
              "      <td>0.2050</td>\n",
              "      <td>0.4000</td>\n",
              "      <td>0.1625</td>\n",
              "      <td>0.2364</td>\n",
              "      <td>0.07678</td>\n",
              "      <td>NaN</td>\n",
              "    </tr>\n",
              "  </tbody>\n",
              "</table>\n",
              "<p>5 rows × 33 columns</p>\n",
              "</div>\n",
              "      <button class=\"colab-df-convert\" onclick=\"convertToInteractive('df-08fd4b4d-e1cc-4282-a8ed-233731113498')\"\n",
              "              title=\"Convert this dataframe to an interactive table.\"\n",
              "              style=\"display:none;\">\n",
              "        \n",
              "  <svg xmlns=\"http://www.w3.org/2000/svg\" height=\"24px\"viewBox=\"0 0 24 24\"\n",
              "       width=\"24px\">\n",
              "    <path d=\"M0 0h24v24H0V0z\" fill=\"none\"/>\n",
              "    <path d=\"M18.56 5.44l.94 2.06.94-2.06 2.06-.94-2.06-.94-.94-2.06-.94 2.06-2.06.94zm-11 1L8.5 8.5l.94-2.06 2.06-.94-2.06-.94L8.5 2.5l-.94 2.06-2.06.94zm10 10l.94 2.06.94-2.06 2.06-.94-2.06-.94-.94-2.06-.94 2.06-2.06.94z\"/><path d=\"M17.41 7.96l-1.37-1.37c-.4-.4-.92-.59-1.43-.59-.52 0-1.04.2-1.43.59L10.3 9.45l-7.72 7.72c-.78.78-.78 2.05 0 2.83L4 21.41c.39.39.9.59 1.41.59.51 0 1.02-.2 1.41-.59l7.78-7.78 2.81-2.81c.8-.78.8-2.07 0-2.86zM5.41 20L4 18.59l7.72-7.72 1.47 1.35L5.41 20z\"/>\n",
              "  </svg>\n",
              "      </button>\n",
              "      \n",
              "  <style>\n",
              "    .colab-df-container {\n",
              "      display:flex;\n",
              "      flex-wrap:wrap;\n",
              "      gap: 12px;\n",
              "    }\n",
              "\n",
              "    .colab-df-convert {\n",
              "      background-color: #E8F0FE;\n",
              "      border: none;\n",
              "      border-radius: 50%;\n",
              "      cursor: pointer;\n",
              "      display: none;\n",
              "      fill: #1967D2;\n",
              "      height: 32px;\n",
              "      padding: 0 0 0 0;\n",
              "      width: 32px;\n",
              "    }\n",
              "\n",
              "    .colab-df-convert:hover {\n",
              "      background-color: #E2EBFA;\n",
              "      box-shadow: 0px 1px 2px rgba(60, 64, 67, 0.3), 0px 1px 3px 1px rgba(60, 64, 67, 0.15);\n",
              "      fill: #174EA6;\n",
              "    }\n",
              "\n",
              "    [theme=dark] .colab-df-convert {\n",
              "      background-color: #3B4455;\n",
              "      fill: #D2E3FC;\n",
              "    }\n",
              "\n",
              "    [theme=dark] .colab-df-convert:hover {\n",
              "      background-color: #434B5C;\n",
              "      box-shadow: 0px 1px 3px 1px rgba(0, 0, 0, 0.15);\n",
              "      filter: drop-shadow(0px 1px 2px rgba(0, 0, 0, 0.3));\n",
              "      fill: #FFFFFF;\n",
              "    }\n",
              "  </style>\n",
              "\n",
              "      <script>\n",
              "        const buttonEl =\n",
              "          document.querySelector('#df-08fd4b4d-e1cc-4282-a8ed-233731113498 button.colab-df-convert');\n",
              "        buttonEl.style.display =\n",
              "          google.colab.kernel.accessAllowed ? 'block' : 'none';\n",
              "\n",
              "        async function convertToInteractive(key) {\n",
              "          const element = document.querySelector('#df-08fd4b4d-e1cc-4282-a8ed-233731113498');\n",
              "          const dataTable =\n",
              "            await google.colab.kernel.invokeFunction('convertToInteractive',\n",
              "                                                     [key], {});\n",
              "          if (!dataTable) return;\n",
              "\n",
              "          const docLinkHtml = 'Like what you see? Visit the ' +\n",
              "            '<a target=\"_blank\" href=https://colab.research.google.com/notebooks/data_table.ipynb>data table notebook</a>'\n",
              "            + ' to learn more about interactive tables.';\n",
              "          element.innerHTML = '';\n",
              "          dataTable['output_type'] = 'display_data';\n",
              "          await google.colab.output.renderOutput(dataTable, element);\n",
              "          const docLink = document.createElement('div');\n",
              "          docLink.innerHTML = docLinkHtml;\n",
              "          element.appendChild(docLink);\n",
              "        }\n",
              "      </script>\n",
              "    </div>\n",
              "  </div>\n",
              "  "
            ]
          },
          "metadata": {},
          "execution_count": 69
        }
      ]
    },
    {
      "cell_type": "code",
      "source": [
        "print(breast_cancer_data.shape)"
      ],
      "metadata": {
        "colab": {
          "base_uri": "https://localhost:8080/"
        },
        "id": "CgkCuh5PG1aN",
        "outputId": "56b54b15-7a06-4199-ad08-56283a2b1c32"
      },
      "execution_count": 70,
      "outputs": [
        {
          "output_type": "stream",
          "name": "stdout",
          "text": [
            "(569, 33)\n"
          ]
        }
      ]
    },
    {
      "cell_type": "code",
      "source": [
        "breast_cancer_data['Unnamed: 32'].unique()"
      ],
      "metadata": {
        "colab": {
          "base_uri": "https://localhost:8080/"
        },
        "id": "9WpfNgkyJv1W",
        "outputId": "9120f9d4-9265-496d-f74d-a2366d3c2c15"
      },
      "execution_count": 71,
      "outputs": [
        {
          "output_type": "execute_result",
          "data": {
            "text/plain": [
              "array([nan])"
            ]
          },
          "metadata": {},
          "execution_count": 71
        }
      ]
    },
    {
      "cell_type": "code",
      "source": [
        "#remove Unnamed 32 attr sinve it's an array of nan values \n",
        "# axis 1 means we are droping the column\n",
        "breast_cancer_data.drop(columns='Unnamed: 32', axis = 1, inplace=True)\n",
        "\n",
        "#remove 'id' attr since it is not useful for the prediction procedure \n",
        "breast_cancer_data.drop(\"id\",axis=1,inplace=True)"
      ],
      "metadata": {
        "id": "LH4kHMAnJ697"
      },
      "execution_count": null,
      "outputs": []
    },
    {
      "cell_type": "code",
      "source": [
        "breast_cancer_data.head()"
      ],
      "metadata": {
        "colab": {
          "base_uri": "https://localhost:8080/",
          "height": 317
        },
        "id": "90nO6AjVKbKM",
        "outputId": "248d5fc8-826d-42a4-b8be-d0b1d26fa21c"
      },
      "execution_count": 83,
      "outputs": [
        {
          "output_type": "execute_result",
          "data": {
            "text/plain": [
              "  diagnosis  radius_mean  texture_mean  perimeter_mean  area_mean  \\\n",
              "0         M        17.99         10.38          122.80     1001.0   \n",
              "1         M        20.57         17.77          132.90     1326.0   \n",
              "2         M        19.69         21.25          130.00     1203.0   \n",
              "3         M        11.42         20.38           77.58      386.1   \n",
              "4         M        20.29         14.34          135.10     1297.0   \n",
              "\n",
              "   smoothness_mean  compactness_mean  concavity_mean  concave points_mean  \\\n",
              "0          0.11840           0.27760          0.3001              0.14710   \n",
              "1          0.08474           0.07864          0.0869              0.07017   \n",
              "2          0.10960           0.15990          0.1974              0.12790   \n",
              "3          0.14250           0.28390          0.2414              0.10520   \n",
              "4          0.10030           0.13280          0.1980              0.10430   \n",
              "\n",
              "   symmetry_mean  ...  texture_worst  perimeter_worst  area_worst  \\\n",
              "0         0.2419  ...          17.33           184.60      2019.0   \n",
              "1         0.1812  ...          23.41           158.80      1956.0   \n",
              "2         0.2069  ...          25.53           152.50      1709.0   \n",
              "3         0.2597  ...          26.50            98.87       567.7   \n",
              "4         0.1809  ...          16.67           152.20      1575.0   \n",
              "\n",
              "   smoothness_worst  compactness_worst  concavity_worst  concave points_worst  \\\n",
              "0            0.1622             0.6656           0.7119                0.2654   \n",
              "1            0.1238             0.1866           0.2416                0.1860   \n",
              "2            0.1444             0.4245           0.4504                0.2430   \n",
              "3            0.2098             0.8663           0.6869                0.2575   \n",
              "4            0.1374             0.2050           0.4000                0.1625   \n",
              "\n",
              "   symmetry_worst  fractal_dimension_worst  Target  \n",
              "0          0.4601                  0.11890       1  \n",
              "1          0.2750                  0.08902       1  \n",
              "2          0.3613                  0.08758       1  \n",
              "3          0.6638                  0.17300       1  \n",
              "4          0.2364                  0.07678       1  \n",
              "\n",
              "[5 rows x 32 columns]"
            ],
            "text/html": [
              "\n",
              "  <div id=\"df-99d3d866-efe7-4ed8-8fee-f5c54e34de28\">\n",
              "    <div class=\"colab-df-container\">\n",
              "      <div>\n",
              "<style scoped>\n",
              "    .dataframe tbody tr th:only-of-type {\n",
              "        vertical-align: middle;\n",
              "    }\n",
              "\n",
              "    .dataframe tbody tr th {\n",
              "        vertical-align: top;\n",
              "    }\n",
              "\n",
              "    .dataframe thead th {\n",
              "        text-align: right;\n",
              "    }\n",
              "</style>\n",
              "<table border=\"1\" class=\"dataframe\">\n",
              "  <thead>\n",
              "    <tr style=\"text-align: right;\">\n",
              "      <th></th>\n",
              "      <th>diagnosis</th>\n",
              "      <th>radius_mean</th>\n",
              "      <th>texture_mean</th>\n",
              "      <th>perimeter_mean</th>\n",
              "      <th>area_mean</th>\n",
              "      <th>smoothness_mean</th>\n",
              "      <th>compactness_mean</th>\n",
              "      <th>concavity_mean</th>\n",
              "      <th>concave points_mean</th>\n",
              "      <th>symmetry_mean</th>\n",
              "      <th>...</th>\n",
              "      <th>texture_worst</th>\n",
              "      <th>perimeter_worst</th>\n",
              "      <th>area_worst</th>\n",
              "      <th>smoothness_worst</th>\n",
              "      <th>compactness_worst</th>\n",
              "      <th>concavity_worst</th>\n",
              "      <th>concave points_worst</th>\n",
              "      <th>symmetry_worst</th>\n",
              "      <th>fractal_dimension_worst</th>\n",
              "      <th>Target</th>\n",
              "    </tr>\n",
              "  </thead>\n",
              "  <tbody>\n",
              "    <tr>\n",
              "      <th>0</th>\n",
              "      <td>M</td>\n",
              "      <td>17.99</td>\n",
              "      <td>10.38</td>\n",
              "      <td>122.80</td>\n",
              "      <td>1001.0</td>\n",
              "      <td>0.11840</td>\n",
              "      <td>0.27760</td>\n",
              "      <td>0.3001</td>\n",
              "      <td>0.14710</td>\n",
              "      <td>0.2419</td>\n",
              "      <td>...</td>\n",
              "      <td>17.33</td>\n",
              "      <td>184.60</td>\n",
              "      <td>2019.0</td>\n",
              "      <td>0.1622</td>\n",
              "      <td>0.6656</td>\n",
              "      <td>0.7119</td>\n",
              "      <td>0.2654</td>\n",
              "      <td>0.4601</td>\n",
              "      <td>0.11890</td>\n",
              "      <td>1</td>\n",
              "    </tr>\n",
              "    <tr>\n",
              "      <th>1</th>\n",
              "      <td>M</td>\n",
              "      <td>20.57</td>\n",
              "      <td>17.77</td>\n",
              "      <td>132.90</td>\n",
              "      <td>1326.0</td>\n",
              "      <td>0.08474</td>\n",
              "      <td>0.07864</td>\n",
              "      <td>0.0869</td>\n",
              "      <td>0.07017</td>\n",
              "      <td>0.1812</td>\n",
              "      <td>...</td>\n",
              "      <td>23.41</td>\n",
              "      <td>158.80</td>\n",
              "      <td>1956.0</td>\n",
              "      <td>0.1238</td>\n",
              "      <td>0.1866</td>\n",
              "      <td>0.2416</td>\n",
              "      <td>0.1860</td>\n",
              "      <td>0.2750</td>\n",
              "      <td>0.08902</td>\n",
              "      <td>1</td>\n",
              "    </tr>\n",
              "    <tr>\n",
              "      <th>2</th>\n",
              "      <td>M</td>\n",
              "      <td>19.69</td>\n",
              "      <td>21.25</td>\n",
              "      <td>130.00</td>\n",
              "      <td>1203.0</td>\n",
              "      <td>0.10960</td>\n",
              "      <td>0.15990</td>\n",
              "      <td>0.1974</td>\n",
              "      <td>0.12790</td>\n",
              "      <td>0.2069</td>\n",
              "      <td>...</td>\n",
              "      <td>25.53</td>\n",
              "      <td>152.50</td>\n",
              "      <td>1709.0</td>\n",
              "      <td>0.1444</td>\n",
              "      <td>0.4245</td>\n",
              "      <td>0.4504</td>\n",
              "      <td>0.2430</td>\n",
              "      <td>0.3613</td>\n",
              "      <td>0.08758</td>\n",
              "      <td>1</td>\n",
              "    </tr>\n",
              "    <tr>\n",
              "      <th>3</th>\n",
              "      <td>M</td>\n",
              "      <td>11.42</td>\n",
              "      <td>20.38</td>\n",
              "      <td>77.58</td>\n",
              "      <td>386.1</td>\n",
              "      <td>0.14250</td>\n",
              "      <td>0.28390</td>\n",
              "      <td>0.2414</td>\n",
              "      <td>0.10520</td>\n",
              "      <td>0.2597</td>\n",
              "      <td>...</td>\n",
              "      <td>26.50</td>\n",
              "      <td>98.87</td>\n",
              "      <td>567.7</td>\n",
              "      <td>0.2098</td>\n",
              "      <td>0.8663</td>\n",
              "      <td>0.6869</td>\n",
              "      <td>0.2575</td>\n",
              "      <td>0.6638</td>\n",
              "      <td>0.17300</td>\n",
              "      <td>1</td>\n",
              "    </tr>\n",
              "    <tr>\n",
              "      <th>4</th>\n",
              "      <td>M</td>\n",
              "      <td>20.29</td>\n",
              "      <td>14.34</td>\n",
              "      <td>135.10</td>\n",
              "      <td>1297.0</td>\n",
              "      <td>0.10030</td>\n",
              "      <td>0.13280</td>\n",
              "      <td>0.1980</td>\n",
              "      <td>0.10430</td>\n",
              "      <td>0.1809</td>\n",
              "      <td>...</td>\n",
              "      <td>16.67</td>\n",
              "      <td>152.20</td>\n",
              "      <td>1575.0</td>\n",
              "      <td>0.1374</td>\n",
              "      <td>0.2050</td>\n",
              "      <td>0.4000</td>\n",
              "      <td>0.1625</td>\n",
              "      <td>0.2364</td>\n",
              "      <td>0.07678</td>\n",
              "      <td>1</td>\n",
              "    </tr>\n",
              "  </tbody>\n",
              "</table>\n",
              "<p>5 rows × 32 columns</p>\n",
              "</div>\n",
              "      <button class=\"colab-df-convert\" onclick=\"convertToInteractive('df-99d3d866-efe7-4ed8-8fee-f5c54e34de28')\"\n",
              "              title=\"Convert this dataframe to an interactive table.\"\n",
              "              style=\"display:none;\">\n",
              "        \n",
              "  <svg xmlns=\"http://www.w3.org/2000/svg\" height=\"24px\"viewBox=\"0 0 24 24\"\n",
              "       width=\"24px\">\n",
              "    <path d=\"M0 0h24v24H0V0z\" fill=\"none\"/>\n",
              "    <path d=\"M18.56 5.44l.94 2.06.94-2.06 2.06-.94-2.06-.94-.94-2.06-.94 2.06-2.06.94zm-11 1L8.5 8.5l.94-2.06 2.06-.94-2.06-.94L8.5 2.5l-.94 2.06-2.06.94zm10 10l.94 2.06.94-2.06 2.06-.94-2.06-.94-.94-2.06-.94 2.06-2.06.94z\"/><path d=\"M17.41 7.96l-1.37-1.37c-.4-.4-.92-.59-1.43-.59-.52 0-1.04.2-1.43.59L10.3 9.45l-7.72 7.72c-.78.78-.78 2.05 0 2.83L4 21.41c.39.39.9.59 1.41.59.51 0 1.02-.2 1.41-.59l7.78-7.78 2.81-2.81c.8-.78.8-2.07 0-2.86zM5.41 20L4 18.59l7.72-7.72 1.47 1.35L5.41 20z\"/>\n",
              "  </svg>\n",
              "      </button>\n",
              "      \n",
              "  <style>\n",
              "    .colab-df-container {\n",
              "      display:flex;\n",
              "      flex-wrap:wrap;\n",
              "      gap: 12px;\n",
              "    }\n",
              "\n",
              "    .colab-df-convert {\n",
              "      background-color: #E8F0FE;\n",
              "      border: none;\n",
              "      border-radius: 50%;\n",
              "      cursor: pointer;\n",
              "      display: none;\n",
              "      fill: #1967D2;\n",
              "      height: 32px;\n",
              "      padding: 0 0 0 0;\n",
              "      width: 32px;\n",
              "    }\n",
              "\n",
              "    .colab-df-convert:hover {\n",
              "      background-color: #E2EBFA;\n",
              "      box-shadow: 0px 1px 2px rgba(60, 64, 67, 0.3), 0px 1px 3px 1px rgba(60, 64, 67, 0.15);\n",
              "      fill: #174EA6;\n",
              "    }\n",
              "\n",
              "    [theme=dark] .colab-df-convert {\n",
              "      background-color: #3B4455;\n",
              "      fill: #D2E3FC;\n",
              "    }\n",
              "\n",
              "    [theme=dark] .colab-df-convert:hover {\n",
              "      background-color: #434B5C;\n",
              "      box-shadow: 0px 1px 3px 1px rgba(0, 0, 0, 0.15);\n",
              "      filter: drop-shadow(0px 1px 2px rgba(0, 0, 0, 0.3));\n",
              "      fill: #FFFFFF;\n",
              "    }\n",
              "  </style>\n",
              "\n",
              "      <script>\n",
              "        const buttonEl =\n",
              "          document.querySelector('#df-99d3d866-efe7-4ed8-8fee-f5c54e34de28 button.colab-df-convert');\n",
              "        buttonEl.style.display =\n",
              "          google.colab.kernel.accessAllowed ? 'block' : 'none';\n",
              "\n",
              "        async function convertToInteractive(key) {\n",
              "          const element = document.querySelector('#df-99d3d866-efe7-4ed8-8fee-f5c54e34de28');\n",
              "          const dataTable =\n",
              "            await google.colab.kernel.invokeFunction('convertToInteractive',\n",
              "                                                     [key], {});\n",
              "          if (!dataTable) return;\n",
              "\n",
              "          const docLinkHtml = 'Like what you see? Visit the ' +\n",
              "            '<a target=\"_blank\" href=https://colab.research.google.com/notebooks/data_table.ipynb>data table notebook</a>'\n",
              "            + ' to learn more about interactive tables.';\n",
              "          element.innerHTML = '';\n",
              "          dataTable['output_type'] = 'display_data';\n",
              "          await google.colab.output.renderOutput(dataTable, element);\n",
              "          const docLink = document.createElement('div');\n",
              "          docLink.innerHTML = docLinkHtml;\n",
              "          element.appendChild(docLink);\n",
              "        }\n",
              "      </script>\n",
              "    </div>\n",
              "  </div>\n",
              "  "
            ]
          },
          "metadata": {},
          "execution_count": 83
        }
      ]
    },
    {
      "cell_type": "markdown",
      "source": [
        "##Checking data types\n",
        "diagnosis --> categrocal attribute ------   remaining attributes --> numerical"
      ],
      "metadata": {
        "id": "UUbeGe5zie52"
      }
    },
    {
      "cell_type": "code",
      "source": [
        "\n",
        "# checking the data types\n",
        "\n",
        "breast_cancer_data.info()\n"
      ],
      "metadata": {
        "colab": {
          "base_uri": "https://localhost:8080/"
        },
        "id": "zDb-8UG0cjK-",
        "outputId": "e2b75abd-1b9d-4b33-ee5f-fd91854e0004"
      },
      "execution_count": 84,
      "outputs": [
        {
          "output_type": "stream",
          "name": "stdout",
          "text": [
            "<class 'pandas.core.frame.DataFrame'>\n",
            "RangeIndex: 569 entries, 0 to 568\n",
            "Data columns (total 32 columns):\n",
            " #   Column                   Non-Null Count  Dtype  \n",
            "---  ------                   --------------  -----  \n",
            " 0   diagnosis                569 non-null    object \n",
            " 1   radius_mean              569 non-null    float64\n",
            " 2   texture_mean             569 non-null    float64\n",
            " 3   perimeter_mean           569 non-null    float64\n",
            " 4   area_mean                569 non-null    float64\n",
            " 5   smoothness_mean          569 non-null    float64\n",
            " 6   compactness_mean         569 non-null    float64\n",
            " 7   concavity_mean           569 non-null    float64\n",
            " 8   concave points_mean      569 non-null    float64\n",
            " 9   symmetry_mean            569 non-null    float64\n",
            " 10  fractal_dimension_mean   569 non-null    float64\n",
            " 11  radius_se                569 non-null    float64\n",
            " 12  texture_se               569 non-null    float64\n",
            " 13  perimeter_se             569 non-null    float64\n",
            " 14  area_se                  569 non-null    float64\n",
            " 15  smoothness_se            569 non-null    float64\n",
            " 16  compactness_se           569 non-null    float64\n",
            " 17  concavity_se             569 non-null    float64\n",
            " 18  concave points_se        569 non-null    float64\n",
            " 19  symmetry_se              569 non-null    float64\n",
            " 20  fractal_dimension_se     569 non-null    float64\n",
            " 21  radius_worst             569 non-null    float64\n",
            " 22  texture_worst            569 non-null    float64\n",
            " 23  perimeter_worst          569 non-null    float64\n",
            " 24  area_worst               569 non-null    float64\n",
            " 25  smoothness_worst         569 non-null    float64\n",
            " 26  compactness_worst        569 non-null    float64\n",
            " 27  concavity_worst          569 non-null    float64\n",
            " 28  concave points_worst     569 non-null    float64\n",
            " 29  symmetry_worst           569 non-null    float64\n",
            " 30  fractal_dimension_worst  569 non-null    float64\n",
            " 31  Target                   569 non-null    int64  \n",
            "dtypes: float64(30), int64(1), object(1)\n",
            "memory usage: 142.4+ KB\n"
          ]
        }
      ]
    },
    {
      "cell_type": "markdown",
      "source": [
        "##Data preprcessing\n",
        "\n",
        "---\n",
        "\n"
      ],
      "metadata": {
        "id": "auGO6kf5rHZC"
      }
    },
    {
      "cell_type": "markdown",
      "source": [
        "convert the categrical attr to a numeric class where M-->1 and B-->0\n"
      ],
      "metadata": {
        "id": "gIYg_7m0vDmU"
      }
    },
    {
      "cell_type": "code",
      "source": [
        "breast_cancer_data['Target']=breast_cancer_data['diagnosis'].map({'M':1,'B':0})"
      ],
      "metadata": {
        "id": "tSYPnJ6ji4zQ"
      },
      "execution_count": 85,
      "outputs": []
    },
    {
      "cell_type": "markdown",
      "source": [
        "remove diagnosis column"
      ],
      "metadata": {
        "id": "eusPDATLvPFp"
      }
    },
    {
      "cell_type": "code",
      "source": [
        "breast_cancer_data.drop(columns='diagnosis', axis = 1, inplace=True)\n"
      ],
      "metadata": {
        "id": "UNSCUNEgmcCO"
      },
      "execution_count": 87,
      "outputs": []
    },
    {
      "cell_type": "code",
      "source": [
        "breast_cancer_data.head()"
      ],
      "metadata": {
        "colab": {
          "base_uri": "https://localhost:8080/",
          "height": 317
        },
        "id": "PTuTID3rtzsa",
        "outputId": "41a618ca-0854-4f1d-c046-de0bcedc266c"
      },
      "execution_count": 88,
      "outputs": [
        {
          "output_type": "execute_result",
          "data": {
            "text/plain": [
              "   radius_mean  texture_mean  perimeter_mean  area_mean  smoothness_mean  \\\n",
              "0        17.99         10.38          122.80     1001.0          0.11840   \n",
              "1        20.57         17.77          132.90     1326.0          0.08474   \n",
              "2        19.69         21.25          130.00     1203.0          0.10960   \n",
              "3        11.42         20.38           77.58      386.1          0.14250   \n",
              "4        20.29         14.34          135.10     1297.0          0.10030   \n",
              "\n",
              "   compactness_mean  concavity_mean  concave points_mean  symmetry_mean  \\\n",
              "0           0.27760          0.3001              0.14710         0.2419   \n",
              "1           0.07864          0.0869              0.07017         0.1812   \n",
              "2           0.15990          0.1974              0.12790         0.2069   \n",
              "3           0.28390          0.2414              0.10520         0.2597   \n",
              "4           0.13280          0.1980              0.10430         0.1809   \n",
              "\n",
              "   fractal_dimension_mean  ...  texture_worst  perimeter_worst  area_worst  \\\n",
              "0                 0.07871  ...          17.33           184.60      2019.0   \n",
              "1                 0.05667  ...          23.41           158.80      1956.0   \n",
              "2                 0.05999  ...          25.53           152.50      1709.0   \n",
              "3                 0.09744  ...          26.50            98.87       567.7   \n",
              "4                 0.05883  ...          16.67           152.20      1575.0   \n",
              "\n",
              "   smoothness_worst  compactness_worst  concavity_worst  concave points_worst  \\\n",
              "0            0.1622             0.6656           0.7119                0.2654   \n",
              "1            0.1238             0.1866           0.2416                0.1860   \n",
              "2            0.1444             0.4245           0.4504                0.2430   \n",
              "3            0.2098             0.8663           0.6869                0.2575   \n",
              "4            0.1374             0.2050           0.4000                0.1625   \n",
              "\n",
              "   symmetry_worst  fractal_dimension_worst  Target  \n",
              "0          0.4601                  0.11890       1  \n",
              "1          0.2750                  0.08902       1  \n",
              "2          0.3613                  0.08758       1  \n",
              "3          0.6638                  0.17300       1  \n",
              "4          0.2364                  0.07678       1  \n",
              "\n",
              "[5 rows x 31 columns]"
            ],
            "text/html": [
              "\n",
              "  <div id=\"df-1b61493d-284d-47c2-a38a-012b6049d50b\">\n",
              "    <div class=\"colab-df-container\">\n",
              "      <div>\n",
              "<style scoped>\n",
              "    .dataframe tbody tr th:only-of-type {\n",
              "        vertical-align: middle;\n",
              "    }\n",
              "\n",
              "    .dataframe tbody tr th {\n",
              "        vertical-align: top;\n",
              "    }\n",
              "\n",
              "    .dataframe thead th {\n",
              "        text-align: right;\n",
              "    }\n",
              "</style>\n",
              "<table border=\"1\" class=\"dataframe\">\n",
              "  <thead>\n",
              "    <tr style=\"text-align: right;\">\n",
              "      <th></th>\n",
              "      <th>radius_mean</th>\n",
              "      <th>texture_mean</th>\n",
              "      <th>perimeter_mean</th>\n",
              "      <th>area_mean</th>\n",
              "      <th>smoothness_mean</th>\n",
              "      <th>compactness_mean</th>\n",
              "      <th>concavity_mean</th>\n",
              "      <th>concave points_mean</th>\n",
              "      <th>symmetry_mean</th>\n",
              "      <th>fractal_dimension_mean</th>\n",
              "      <th>...</th>\n",
              "      <th>texture_worst</th>\n",
              "      <th>perimeter_worst</th>\n",
              "      <th>area_worst</th>\n",
              "      <th>smoothness_worst</th>\n",
              "      <th>compactness_worst</th>\n",
              "      <th>concavity_worst</th>\n",
              "      <th>concave points_worst</th>\n",
              "      <th>symmetry_worst</th>\n",
              "      <th>fractal_dimension_worst</th>\n",
              "      <th>Target</th>\n",
              "    </tr>\n",
              "  </thead>\n",
              "  <tbody>\n",
              "    <tr>\n",
              "      <th>0</th>\n",
              "      <td>17.99</td>\n",
              "      <td>10.38</td>\n",
              "      <td>122.80</td>\n",
              "      <td>1001.0</td>\n",
              "      <td>0.11840</td>\n",
              "      <td>0.27760</td>\n",
              "      <td>0.3001</td>\n",
              "      <td>0.14710</td>\n",
              "      <td>0.2419</td>\n",
              "      <td>0.07871</td>\n",
              "      <td>...</td>\n",
              "      <td>17.33</td>\n",
              "      <td>184.60</td>\n",
              "      <td>2019.0</td>\n",
              "      <td>0.1622</td>\n",
              "      <td>0.6656</td>\n",
              "      <td>0.7119</td>\n",
              "      <td>0.2654</td>\n",
              "      <td>0.4601</td>\n",
              "      <td>0.11890</td>\n",
              "      <td>1</td>\n",
              "    </tr>\n",
              "    <tr>\n",
              "      <th>1</th>\n",
              "      <td>20.57</td>\n",
              "      <td>17.77</td>\n",
              "      <td>132.90</td>\n",
              "      <td>1326.0</td>\n",
              "      <td>0.08474</td>\n",
              "      <td>0.07864</td>\n",
              "      <td>0.0869</td>\n",
              "      <td>0.07017</td>\n",
              "      <td>0.1812</td>\n",
              "      <td>0.05667</td>\n",
              "      <td>...</td>\n",
              "      <td>23.41</td>\n",
              "      <td>158.80</td>\n",
              "      <td>1956.0</td>\n",
              "      <td>0.1238</td>\n",
              "      <td>0.1866</td>\n",
              "      <td>0.2416</td>\n",
              "      <td>0.1860</td>\n",
              "      <td>0.2750</td>\n",
              "      <td>0.08902</td>\n",
              "      <td>1</td>\n",
              "    </tr>\n",
              "    <tr>\n",
              "      <th>2</th>\n",
              "      <td>19.69</td>\n",
              "      <td>21.25</td>\n",
              "      <td>130.00</td>\n",
              "      <td>1203.0</td>\n",
              "      <td>0.10960</td>\n",
              "      <td>0.15990</td>\n",
              "      <td>0.1974</td>\n",
              "      <td>0.12790</td>\n",
              "      <td>0.2069</td>\n",
              "      <td>0.05999</td>\n",
              "      <td>...</td>\n",
              "      <td>25.53</td>\n",
              "      <td>152.50</td>\n",
              "      <td>1709.0</td>\n",
              "      <td>0.1444</td>\n",
              "      <td>0.4245</td>\n",
              "      <td>0.4504</td>\n",
              "      <td>0.2430</td>\n",
              "      <td>0.3613</td>\n",
              "      <td>0.08758</td>\n",
              "      <td>1</td>\n",
              "    </tr>\n",
              "    <tr>\n",
              "      <th>3</th>\n",
              "      <td>11.42</td>\n",
              "      <td>20.38</td>\n",
              "      <td>77.58</td>\n",
              "      <td>386.1</td>\n",
              "      <td>0.14250</td>\n",
              "      <td>0.28390</td>\n",
              "      <td>0.2414</td>\n",
              "      <td>0.10520</td>\n",
              "      <td>0.2597</td>\n",
              "      <td>0.09744</td>\n",
              "      <td>...</td>\n",
              "      <td>26.50</td>\n",
              "      <td>98.87</td>\n",
              "      <td>567.7</td>\n",
              "      <td>0.2098</td>\n",
              "      <td>0.8663</td>\n",
              "      <td>0.6869</td>\n",
              "      <td>0.2575</td>\n",
              "      <td>0.6638</td>\n",
              "      <td>0.17300</td>\n",
              "      <td>1</td>\n",
              "    </tr>\n",
              "    <tr>\n",
              "      <th>4</th>\n",
              "      <td>20.29</td>\n",
              "      <td>14.34</td>\n",
              "      <td>135.10</td>\n",
              "      <td>1297.0</td>\n",
              "      <td>0.10030</td>\n",
              "      <td>0.13280</td>\n",
              "      <td>0.1980</td>\n",
              "      <td>0.10430</td>\n",
              "      <td>0.1809</td>\n",
              "      <td>0.05883</td>\n",
              "      <td>...</td>\n",
              "      <td>16.67</td>\n",
              "      <td>152.20</td>\n",
              "      <td>1575.0</td>\n",
              "      <td>0.1374</td>\n",
              "      <td>0.2050</td>\n",
              "      <td>0.4000</td>\n",
              "      <td>0.1625</td>\n",
              "      <td>0.2364</td>\n",
              "      <td>0.07678</td>\n",
              "      <td>1</td>\n",
              "    </tr>\n",
              "  </tbody>\n",
              "</table>\n",
              "<p>5 rows × 31 columns</p>\n",
              "</div>\n",
              "      <button class=\"colab-df-convert\" onclick=\"convertToInteractive('df-1b61493d-284d-47c2-a38a-012b6049d50b')\"\n",
              "              title=\"Convert this dataframe to an interactive table.\"\n",
              "              style=\"display:none;\">\n",
              "        \n",
              "  <svg xmlns=\"http://www.w3.org/2000/svg\" height=\"24px\"viewBox=\"0 0 24 24\"\n",
              "       width=\"24px\">\n",
              "    <path d=\"M0 0h24v24H0V0z\" fill=\"none\"/>\n",
              "    <path d=\"M18.56 5.44l.94 2.06.94-2.06 2.06-.94-2.06-.94-.94-2.06-.94 2.06-2.06.94zm-11 1L8.5 8.5l.94-2.06 2.06-.94-2.06-.94L8.5 2.5l-.94 2.06-2.06.94zm10 10l.94 2.06.94-2.06 2.06-.94-2.06-.94-.94-2.06-.94 2.06-2.06.94z\"/><path d=\"M17.41 7.96l-1.37-1.37c-.4-.4-.92-.59-1.43-.59-.52 0-1.04.2-1.43.59L10.3 9.45l-7.72 7.72c-.78.78-.78 2.05 0 2.83L4 21.41c.39.39.9.59 1.41.59.51 0 1.02-.2 1.41-.59l7.78-7.78 2.81-2.81c.8-.78.8-2.07 0-2.86zM5.41 20L4 18.59l7.72-7.72 1.47 1.35L5.41 20z\"/>\n",
              "  </svg>\n",
              "      </button>\n",
              "      \n",
              "  <style>\n",
              "    .colab-df-container {\n",
              "      display:flex;\n",
              "      flex-wrap:wrap;\n",
              "      gap: 12px;\n",
              "    }\n",
              "\n",
              "    .colab-df-convert {\n",
              "      background-color: #E8F0FE;\n",
              "      border: none;\n",
              "      border-radius: 50%;\n",
              "      cursor: pointer;\n",
              "      display: none;\n",
              "      fill: #1967D2;\n",
              "      height: 32px;\n",
              "      padding: 0 0 0 0;\n",
              "      width: 32px;\n",
              "    }\n",
              "\n",
              "    .colab-df-convert:hover {\n",
              "      background-color: #E2EBFA;\n",
              "      box-shadow: 0px 1px 2px rgba(60, 64, 67, 0.3), 0px 1px 3px 1px rgba(60, 64, 67, 0.15);\n",
              "      fill: #174EA6;\n",
              "    }\n",
              "\n",
              "    [theme=dark] .colab-df-convert {\n",
              "      background-color: #3B4455;\n",
              "      fill: #D2E3FC;\n",
              "    }\n",
              "\n",
              "    [theme=dark] .colab-df-convert:hover {\n",
              "      background-color: #434B5C;\n",
              "      box-shadow: 0px 1px 3px 1px rgba(0, 0, 0, 0.15);\n",
              "      filter: drop-shadow(0px 1px 2px rgba(0, 0, 0, 0.3));\n",
              "      fill: #FFFFFF;\n",
              "    }\n",
              "  </style>\n",
              "\n",
              "      <script>\n",
              "        const buttonEl =\n",
              "          document.querySelector('#df-1b61493d-284d-47c2-a38a-012b6049d50b button.colab-df-convert');\n",
              "        buttonEl.style.display =\n",
              "          google.colab.kernel.accessAllowed ? 'block' : 'none';\n",
              "\n",
              "        async function convertToInteractive(key) {\n",
              "          const element = document.querySelector('#df-1b61493d-284d-47c2-a38a-012b6049d50b');\n",
              "          const dataTable =\n",
              "            await google.colab.kernel.invokeFunction('convertToInteractive',\n",
              "                                                     [key], {});\n",
              "          if (!dataTable) return;\n",
              "\n",
              "          const docLinkHtml = 'Like what you see? Visit the ' +\n",
              "            '<a target=\"_blank\" href=https://colab.research.google.com/notebooks/data_table.ipynb>data table notebook</a>'\n",
              "            + ' to learn more about interactive tables.';\n",
              "          element.innerHTML = '';\n",
              "          dataTable['output_type'] = 'display_data';\n",
              "          await google.colab.output.renderOutput(dataTable, element);\n",
              "          const docLink = document.createElement('div');\n",
              "          docLink.innerHTML = docLinkHtml;\n",
              "          element.appendChild(docLink);\n",
              "        }\n",
              "      </script>\n",
              "    </div>\n",
              "  </div>\n",
              "  "
            ]
          },
          "metadata": {},
          "execution_count": 88
        }
      ]
    },
    {
      "cell_type": "code",
      "source": [
        "breast_cancer_data[\"Target\"].unique()"
      ],
      "metadata": {
        "colab": {
          "base_uri": "https://localhost:8080/"
        },
        "id": "2MSesV0VuXLi",
        "outputId": "4ae8ea06-233d-499e-bb71-7aecb3a8b147"
      },
      "execution_count": 89,
      "outputs": [
        {
          "output_type": "execute_result",
          "data": {
            "text/plain": [
              "array([1, 0])"
            ]
          },
          "metadata": {},
          "execution_count": 89
        }
      ]
    },
    {
      "cell_type": "markdown",
      "source": [
        "Removal of any Duplicate rows (if any)\n"
      ],
      "metadata": {
        "id": "UCod8950v7EN"
      }
    },
    {
      "cell_type": "code",
      "source": [
        "\n",
        "r,c = breast_cancer_data.shape\n",
        "\n",
        "temp = breast_cancer_data.copy()\n",
        "temp.drop_duplicates(inplace=True)\n",
        "temp.reset_index(drop=True,inplace=True)\n",
        "\n",
        "if temp.shape==(r,c):\n",
        "    print(' The dataset doesn\\'t have any duplicates')\n",
        "else:\n",
        "    print('Duplicates have been dropped ')\n",
        "    breast_cancer_data= temp.copy()"
      ],
      "metadata": {
        "colab": {
          "base_uri": "https://localhost:8080/"
        },
        "id": "pzOfSVVlv3_x",
        "outputId": "704bbe07-34dd-4dd4-8cbb-cc1fa499e5ee"
      },
      "execution_count": 90,
      "outputs": [
        {
          "output_type": "stream",
          "name": "stdout",
          "text": [
            " The dataset doesn't have any duplicates\n"
          ]
        }
      ]
    },
    {
      "cell_type": "markdown",
      "source": [
        "checking for missing values"
      ],
      "metadata": {
        "id": "fJd9YBFpx-mE"
      }
    },
    {
      "cell_type": "code",
      "source": [
        "breast_cancer_data.isnull().sum()"
      ],
      "metadata": {
        "colab": {
          "base_uri": "https://localhost:8080/"
        },
        "id": "pQx6lDMIx_Nm",
        "outputId": "de062a53-7ee1-4027-f239-7dfdcfef52c1"
      },
      "execution_count": 91,
      "outputs": [
        {
          "output_type": "execute_result",
          "data": {
            "text/plain": [
              "radius_mean                0\n",
              "texture_mean               0\n",
              "perimeter_mean             0\n",
              "area_mean                  0\n",
              "smoothness_mean            0\n",
              "compactness_mean           0\n",
              "concavity_mean             0\n",
              "concave points_mean        0\n",
              "symmetry_mean              0\n",
              "fractal_dimension_mean     0\n",
              "radius_se                  0\n",
              "texture_se                 0\n",
              "perimeter_se               0\n",
              "area_se                    0\n",
              "smoothness_se              0\n",
              "compactness_se             0\n",
              "concavity_se               0\n",
              "concave points_se          0\n",
              "symmetry_se                0\n",
              "fractal_dimension_se       0\n",
              "radius_worst               0\n",
              "texture_worst              0\n",
              "perimeter_worst            0\n",
              "area_worst                 0\n",
              "smoothness_worst           0\n",
              "compactness_worst          0\n",
              "concavity_worst            0\n",
              "concave points_worst       0\n",
              "symmetry_worst             0\n",
              "fractal_dimension_worst    0\n",
              "Target                     0\n",
              "dtype: int64"
            ]
          },
          "metadata": {},
          "execution_count": 91
        }
      ]
    },
    {
      "cell_type": "markdown",
      "source": [
        "\n",
        "---\n",
        "\n",
        "\n",
        "REMOVE OUTLIERS\n",
        "\n",
        "---\n",
        "\n"
      ],
      "metadata": {
        "id": "9D_5DCqeI249"
      }
    },
    {
      "cell_type": "markdown",
      "source": [
        "Z score = (x -mean) / std. deviation.\n",
        "If the z score of a data point is more than 3, it indicates that the data point is quite different from the other data points. Such a data point can be an outlier.\n"
      ],
      "metadata": {
        "id": "84vDNyOfFVXg"
      }
    },
    {
      "cell_type": "code",
      "source": [
        "from scipy.stats import zscore\n",
        "z_scores = zscore(breast_cancer_data)\n",
        "#z_scores --> ndarray with zscores of each value \n",
        "\n",
        "abs_z_scores = np.abs(z_scores)\n",
        "\n",
        "filtered_entries = (abs_z_scores < 3).all(axis=1)\n",
        "\n",
        "new_df = breast_cancer_data[filtered_entries]\n"
      ],
      "metadata": {
        "id": "nS8CJEW_I2LJ"
      },
      "execution_count": 92,
      "outputs": []
    },
    {
      "cell_type": "code",
      "source": [
        "breast_cancer_data.shape[0]- new_df.shape[0] \n",
        "#74 outliers were removed \n"
      ],
      "metadata": {
        "colab": {
          "base_uri": "https://localhost:8080/"
        },
        "id": "xdGSWnddVdSD",
        "outputId": "c672ea80-b814-47a1-ce58-9014fc185284"
      },
      "execution_count": 93,
      "outputs": [
        {
          "output_type": "execute_result",
          "data": {
            "text/plain": [
              "74"
            ]
          },
          "metadata": {},
          "execution_count": 93
        }
      ]
    },
    {
      "cell_type": "code",
      "source": [
        "breast_cancer_data= new_df.copy()"
      ],
      "metadata": {
        "id": "q7blsE5bFp06"
      },
      "execution_count": 94,
      "outputs": []
    },
    {
      "cell_type": "markdown",
      "source": [
        "##DATA VISUALIZATION"
      ],
      "metadata": {
        "id": "mlvDNxc08VnJ"
      }
    },
    {
      "cell_type": "code",
      "source": [
        "breast_cancer_data['Target'].value_counts()"
      ],
      "metadata": {
        "colab": {
          "base_uri": "https://localhost:8080/"
        },
        "id": "La0aBbuJAsfT",
        "outputId": "514923a3-2e88-4986-fad5-23ba1760aff9"
      },
      "execution_count": 95,
      "outputs": [
        {
          "output_type": "execute_result",
          "data": {
            "text/plain": [
              "0    332\n",
              "1    163\n",
              "Name: Target, dtype: int64"
            ]
          },
          "metadata": {},
          "execution_count": 95
        }
      ]
    },
    {
      "cell_type": "code",
      "source": [
        "#hist of target class\n",
        "plt.hist(breast_cancer_data ['Target'])\n",
        "plt.show()"
      ],
      "metadata": {
        "colab": {
          "base_uri": "https://localhost:8080/",
          "height": 265
        },
        "id": "qq0hYWie8U_E",
        "outputId": "e70f724d-6b98-4f41-f2ef-d02367132a69"
      },
      "execution_count": 96,
      "outputs": [
        {
          "output_type": "display_data",
          "data": {
            "text/plain": [
              "<Figure size 432x288 with 1 Axes>"
            ],
            "image/png": "[encoded data removed]"
          },
          "metadata": {
            "needs_background": "light"
          }
        }
      ]
    },
    {
      "cell_type": "markdown",
      "source": [
        "plotting the histogram after removing the outliers"
      ],
      "metadata": {
        "id": "PGQRHjPOXToE"
      }
    },
    {
      "cell_type": "markdown",
      "source": [
        "SMOTE --> Synthetic Minority Oversampling Technique\n",
        "for minority class--> link eac point with it neighboures and create another sample in the range/ between this link/ the two data points"
      ],
      "metadata": {
        "id": "wgLjilWLNdMf"
      }
    },
    {
      "cell_type": "code",
      "source": [
        "#Fixing the imbalance using SMOTE Technique\n",
        "from imblearn.over_sampling import SMOTE\n",
        "temp = breast_cancer_data.copy()\n",
        "\n",
        "print('Original class distribution:')\n",
        "print(temp['Target'].value_counts())\n",
        "\n",
        "X = temp.drop(['Target'],axis=1)\n",
        "Y = temp['Target']\n",
        "\n",
        "smote = SMOTE()\n",
        "X, Y = smote.fit_resample(X, Y)\n",
        "\n",
        "temp = pd.DataFrame(X, columns=temp.columns)\n",
        "temp['Target'] = Y\n",
        "\n",
        "print('\\nClass distribution after applying SMOTE Technique:',)\n",
        "print(Y.value_counts())\n",
        "breast_cancer_data = temp.copy()"
      ],
      "metadata": {
        "colab": {
          "base_uri": "https://localhost:8080/"
        },
        "id": "z4lW2rmggw2U",
        "outputId": "c317c06d-6365-4412-a08b-c4155fab8fae"
      },
      "execution_count": 98,
      "outputs": [
        {
          "output_type": "stream",
          "name": "stdout",
          "text": [
            "Original class distribution:\n",
            "0    332\n",
            "1    163\n",
            "Name: Target, dtype: int64\n",
            "\n",
            "Class distribution after applying SMOTE Technique:\n",
            "1    332\n",
            "0    332\n",
            "Name: Target, dtype: int64\n"
          ]
        }
      ]
    },
    {
      "cell_type": "code",
      "source": [
        "\n",
        "plt.hist(breast_cancer_data ['Target'])\n",
        "plt.show()"
      ],
      "metadata": {
        "colab": {
          "base_uri": "https://localhost:8080/",
          "height": 265
        },
        "id": "yVnq8fgcRJuP",
        "outputId": "420e3231-dc53-4100-e080-64bb88d6127f"
      },
      "execution_count": 99,
      "outputs": [
        {
          "output_type": "display_data",
          "data": {
            "text/plain": [
              "<Figure size 432x288 with 1 Axes>"
            ],
            "image/png": "[encoded data removed]"
          },
          "metadata": {
            "needs_background": "light"
          }
        }
      ]
    },
    {
      "cell_type": "markdown",
      "source": [
        "##SPLITING THE DATA INTO  80%--> train, 20%--> test"
      ],
      "metadata": {
        "id": "2F6U0gDKxemV"
      }
    },
    {
      "cell_type": "code",
      "source": [
        "X.shape"
      ],
      "metadata": {
        "colab": {
          "base_uri": "https://localhost:8080/"
        },
        "id": "_KhYuyBtn6B1",
        "outputId": "8289ceaa-351e-4fea-cdb8-7691708def17"
      },
      "execution_count": 100,
      "outputs": [
        {
          "output_type": "execute_result",
          "data": {
            "text/plain": [
              "(664, 30)"
            ]
          },
          "metadata": {},
          "execution_count": 100
        }
      ]
    },
    {
      "cell_type": "code",
      "source": [
        "\n",
        "X_train, X_test, y_train, y_test = train_test_split(X, Y, test_size=0.2, random_state=2)"
      ],
      "metadata": {
        "id": "ep4GneKwxqd_"
      },
      "execution_count": 101,
      "outputs": []
    },
    {
      "cell_type": "code",
      "source": [
        "print( X_train.shape, X_test.shape)"
      ],
      "metadata": {
        "colab": {
          "base_uri": "https://localhost:8080/"
        },
        "id": "btGiHvTR62UP",
        "outputId": "99a21785-1318-4c3d-d8e9-8cebabfb085d"
      },
      "execution_count": 102,
      "outputs": [
        {
          "output_type": "stream",
          "name": "stdout",
          "text": [
            "(531, 30) (133, 30)\n"
          ]
        }
      ]
    },
    {
      "cell_type": "code",
      "source": [
        "from sklearn.preprocessing import StandardScaler\n",
        "scaler = StandardScaler()\n",
        "\n",
        "X_train_std = scaler.fit_transform(X_train)\n",
        "x_train= pd.DataFrame(X_train_std, columns=X.columns)\n",
        "\n",
        "X_test_std = scaler.transform(X_test)\n",
        "x_test= pd.DataFrame(X_test_std, columns=X.columns)\n"
      ],
      "metadata": {
        "id": "vZTgNjNq7x6A"
      },
      "execution_count": 103,
      "outputs": []
    },
    {
      "cell_type": "markdown",
      "source": [
        "## DECISION TREE CLASSIFIER"
      ],
      "metadata": {
        "id": "PLbTG2roXMhn"
      }
    },
    {
      "cell_type": "markdown",
      "source": [
        "> DT steps:\n",
        "1. compute overall entropy (p)\n",
        "2. compute entropy \n",
        "3. computr weighted entrpy (M)\n",
        "4. compute information gain  P-M"
      ],
      "metadata": {
        "id": "4-1UmGkxtzLC"
      }
    },
    {
      "cell_type": "code",
      "source": [
        "from sklearn import tree\n",
        "from sklearn.tree import DecisionTreeClassifier\n",
        "from sklearn.tree import export_graphviz\n",
        "import graphviz \n",
        "\n",
        "\n",
        "# Information gain\n",
        "DT= tree.DecisionTreeClassifier(criterion=\"entropy\", max_depth=5)\n",
        "DT = DT.fit(x_train, y_train)\n",
        "\n",
        "\n",
        "#Vizualizing the tree\n",
        "feature_names = list(X.columns)\n",
        "infoG_tree = tree.export_graphviz(DT, \n",
        "                                feature_names=feature_names,\n",
        "                                class_names=['0','1'],\n",
        "                                filled=True, rounded=True,  \n",
        "                                special_characters=True, node_ids= True)\n",
        "\n",
        "infoG_graph = graphviz.Source(infoG_tree)\n",
        "infoG_graph\n"
      ],
      "metadata": {
        "colab": {
          "base_uri": "https://localhost:8080/",
          "height": 1000
        },
        "id": "bYW9qTaB-oxE",
        "outputId": "c766638d-cc0c-4977-cbd6-e4a092e0b5db"
      },
      "execution_count": 104,
      "outputs": [
        {
          "output_type": "execute_result",
          "data": {
            "text/plain": [
              "<graphviz.files.Source at 0x7f8ac65fbc50>"
            ],
            "image/svg+xml": "<?xml version=\"1.0\" encoding=\"UTF-8\" standalone=\"no\"?>\n<!DOCTYPE svg PUBLIC \"-//W3C//DTD SVG 1.1//EN\"\n \"http://www.w3.org/Graphics/SVG/1.1/DTD/svg11.dtd\">\n<!-- Generated by graphviz version 2.40.1 (20161225.0304)\n -->\n<!-- Title: Tree Pages: 1 -->\n<svg width=\"1312pt\" height=\"761pt\"\n viewBox=\"0.00 0.00 1311.50 761.00\" xmlns=\"http://www.w3.org/2000/svg\" xmlns:xlink=\"http://www.w3.org/1999/xlink\">\n<g id=\"graph0\" class=\"graph\" transform=\"scale(1 1) rotate(0) translate(4 757)\">\n<title>Tree</title>\n<polygon fill=\"#ffffff\" stroke=\"transparent\" points=\"-4,4 -4,-757 1307.5,-757 1307.5,4 -4,4\"/>\n<!-- 0 -->\n<g id=\"node1\" class=\"node\">\n<title>0</title>\n<path fill=\"#fffefd\" stroke=\"#000000\" d=\"M672,-753C672,-753 520,-753 520,-753 514,-753 508,-747 508,-741 508,-741 508,-667 508,-667 508,-661 514,-655 520,-655 520,-655 672,-655 672,-655 678,-655 684,-661 684,-667 684,-667 684,-741 684,-741 684,-747 678,-753 672,-753\"/>\n<text text-anchor=\"start\" x=\"569\" y=\"-737.8\" font-family=\"Helvetica,sans-Serif\" font-size=\"14.00\" fill=\"#000000\">node #0</text>\n<text text-anchor=\"start\" x=\"516\" y=\"-722.8\" font-family=\"Helvetica,sans-Serif\" font-size=\"14.00\" fill=\"#000000\">perimeter_worst ≤ &#45;0.344</text>\n<text text-anchor=\"start\" x=\"553.5\" y=\"-707.8\" font-family=\"Helvetica,sans-Serif\" font-size=\"14.00\" fill=\"#000000\">entropy = 1.0</text>\n<text text-anchor=\"start\" x=\"548\" y=\"-692.8\" font-family=\"Helvetica,sans-Serif\" font-size=\"14.00\" fill=\"#000000\">samples = 531</text>\n<text text-anchor=\"start\" x=\"538\" y=\"-677.8\" font-family=\"Helvetica,sans-Serif\" font-size=\"14.00\" fill=\"#000000\">value = [267, 264]</text>\n<text text-anchor=\"start\" x=\"567\" y=\"-662.8\" font-family=\"Helvetica,sans-Serif\" font-size=\"14.00\" fill=\"#000000\">class = 0</text>\n</g>\n<!-- 1 -->\n<g id=\"node2\" class=\"node\">\n<title>1</title>\n<path fill=\"#e5833c\" stroke=\"#000000\" d=\"M552,-619C552,-619 452,-619 452,-619 446,-619 440,-613 440,-607 440,-607 440,-533 440,-533 440,-527 446,-521 452,-521 452,-521 552,-521 552,-521 558,-521 564,-527 564,-533 564,-533 564,-607 564,-607 564,-613 558,-619 552,-619\"/>\n<text text-anchor=\"start\" x=\"475\" y=\"-603.8\" font-family=\"Helvetica,sans-Serif\" font-size=\"14.00\" fill=\"#000000\">node #1</text>\n<text text-anchor=\"start\" x=\"448\" y=\"-588.8\" font-family=\"Helvetica,sans-Serif\" font-size=\"14.00\" fill=\"#000000\">radius_se ≤ 1.06</text>\n<text text-anchor=\"start\" x=\"451\" y=\"-573.8\" font-family=\"Helvetica,sans-Serif\" font-size=\"14.00\" fill=\"#000000\">entropy = 0.125</text>\n<text text-anchor=\"start\" x=\"454\" y=\"-558.8\" font-family=\"Helvetica,sans-Serif\" font-size=\"14.00\" fill=\"#000000\">samples = 234</text>\n<text text-anchor=\"start\" x=\"452\" y=\"-543.8\" font-family=\"Helvetica,sans-Serif\" font-size=\"14.00\" fill=\"#000000\">value = [230, 4]</text>\n<text text-anchor=\"start\" x=\"473\" y=\"-528.8\" font-family=\"Helvetica,sans-Serif\" font-size=\"14.00\" fill=\"#000000\">class = 0</text>\n</g>\n<!-- 0&#45;&gt;1 -->\n<g id=\"edge1\" class=\"edge\">\n<title>0&#45;&gt;1</title>\n<path fill=\"none\" stroke=\"#000000\" d=\"M561.5316,-654.8642C555.2734,-645.9429 548.6954,-636.5657 542.2873,-627.4309\"/>\n<polygon fill=\"#000000\" stroke=\"#000000\" points=\"545.0724,-625.3064 536.4642,-619.1298 539.3418,-629.3264 545.0724,-625.3064\"/>\n<text text-anchor=\"middle\" x=\"532.1442\" y=\"-640.0538\" font-family=\"Helvetica,sans-Serif\" font-size=\"14.00\" fill=\"#000000\">True</text>\n</g>\n<!-- 12 -->\n<g id=\"node13\" class=\"node\">\n<title>12</title>\n<path fill=\"#55abe9\" stroke=\"#000000\" d=\"M803,-619C803,-619 663,-619 663,-619 657,-619 651,-613 651,-607 651,-607 651,-533 651,-533 651,-527 657,-521 663,-521 663,-521 803,-521 803,-521 809,-521 815,-527 815,-533 815,-533 815,-607 815,-607 815,-613 809,-619 803,-619\"/>\n<text text-anchor=\"start\" x=\"702\" y=\"-603.8\" font-family=\"Helvetica,sans-Serif\" font-size=\"14.00\" fill=\"#000000\">node #12</text>\n<text text-anchor=\"start\" x=\"659\" y=\"-588.8\" font-family=\"Helvetica,sans-Serif\" font-size=\"14.00\" fill=\"#000000\">perimeter_worst ≤ 0.13</text>\n<text text-anchor=\"start\" x=\"682\" y=\"-573.8\" font-family=\"Helvetica,sans-Serif\" font-size=\"14.00\" fill=\"#000000\">entropy = 0.542</text>\n<text text-anchor=\"start\" x=\"685\" y=\"-558.8\" font-family=\"Helvetica,sans-Serif\" font-size=\"14.00\" fill=\"#000000\">samples = 297</text>\n<text text-anchor=\"start\" x=\"679\" y=\"-543.8\" font-family=\"Helvetica,sans-Serif\" font-size=\"14.00\" fill=\"#000000\">value = [37, 260]</text>\n<text text-anchor=\"start\" x=\"704\" y=\"-528.8\" font-family=\"Helvetica,sans-Serif\" font-size=\"14.00\" fill=\"#000000\">class = 1</text>\n</g>\n<!-- 0&#45;&gt;12 -->\n<g id=\"edge12\" class=\"edge\">\n<title>0&#45;&gt;12</title>\n<path fill=\"none\" stroke=\"#000000\" d=\"M646.2358,-654.8642C655.7291,-645.5788 665.7274,-635.7995 675.4257,-626.3136\"/>\n<polygon fill=\"#000000\" stroke=\"#000000\" points=\"678.0687,-628.6243 682.7703,-619.1298 673.174,-623.6201 678.0687,-628.6243\"/>\n<text text-anchor=\"middle\" x=\"682.4935\" y=\"-640.4283\" font-family=\"Helvetica,sans-Serif\" font-size=\"14.00\" fill=\"#000000\">False</text>\n</g>\n<!-- 2 -->\n<g id=\"node3\" class=\"node\">\n<title>2</title>\n<path fill=\"#e5823b\" stroke=\"#000000\" d=\"M306.5,-485C306.5,-485 175.5,-485 175.5,-485 169.5,-485 163.5,-479 163.5,-473 163.5,-473 163.5,-399 163.5,-399 163.5,-393 169.5,-387 175.5,-387 175.5,-387 306.5,-387 306.5,-387 312.5,-387 318.5,-393 318.5,-399 318.5,-399 318.5,-473 318.5,-473 318.5,-479 312.5,-485 306.5,-485\"/>\n<text text-anchor=\"start\" x=\"214\" y=\"-469.8\" font-family=\"Helvetica,sans-Serif\" font-size=\"14.00\" fill=\"#000000\">node #2</text>\n<text text-anchor=\"start\" x=\"171.5\" y=\"-454.8\" font-family=\"Helvetica,sans-Serif\" font-size=\"14.00\" fill=\"#000000\">texture_worst ≤ 1.123</text>\n<text text-anchor=\"start\" x=\"190\" y=\"-439.8\" font-family=\"Helvetica,sans-Serif\" font-size=\"14.00\" fill=\"#000000\">entropy = 0.072</text>\n<text text-anchor=\"start\" x=\"193\" y=\"-424.8\" font-family=\"Helvetica,sans-Serif\" font-size=\"14.00\" fill=\"#000000\">samples = 231</text>\n<text text-anchor=\"start\" x=\"191\" y=\"-409.8\" font-family=\"Helvetica,sans-Serif\" font-size=\"14.00\" fill=\"#000000\">value = [229, 2]</text>\n<text text-anchor=\"start\" x=\"212\" y=\"-394.8\" font-family=\"Helvetica,sans-Serif\" font-size=\"14.00\" fill=\"#000000\">class = 0</text>\n</g>\n<!-- 1&#45;&gt;2 -->\n<g id=\"edge2\" class=\"edge\">\n<title>1&#45;&gt;2</title>\n<path fill=\"none\" stroke=\"#000000\" d=\"M439.8156,-538.0739C406.3169,-520.8754 364.4544,-499.3827 327.7944,-480.5611\"/>\n<polygon fill=\"#000000\" stroke=\"#000000\" points=\"329.089,-477.2915 318.5944,-475.8377 325.8918,-483.5187 329.089,-477.2915\"/>\n</g>\n<!-- 9 -->\n<g id=\"node10\" class=\"node\">\n<title>9</title>\n<path fill=\"#9ccef2\" stroke=\"#000000\" d=\"M579.5,-485C579.5,-485 424.5,-485 424.5,-485 418.5,-485 412.5,-479 412.5,-473 412.5,-473 412.5,-399 412.5,-399 412.5,-393 418.5,-387 424.5,-387 424.5,-387 579.5,-387 579.5,-387 585.5,-387 591.5,-393 591.5,-399 591.5,-399 591.5,-473 591.5,-473 591.5,-479 585.5,-485 579.5,-485\"/>\n<text text-anchor=\"start\" x=\"475\" y=\"-469.8\" font-family=\"Helvetica,sans-Serif\" font-size=\"14.00\" fill=\"#000000\">node #9</text>\n<text text-anchor=\"start\" x=\"420.5\" y=\"-454.8\" font-family=\"Helvetica,sans-Serif\" font-size=\"14.00\" fill=\"#000000\">concavity_mean ≤ &#45;0.955</text>\n<text text-anchor=\"start\" x=\"451\" y=\"-439.8\" font-family=\"Helvetica,sans-Serif\" font-size=\"14.00\" fill=\"#000000\">entropy = 0.918</text>\n<text text-anchor=\"start\" x=\"462.5\" y=\"-424.8\" font-family=\"Helvetica,sans-Serif\" font-size=\"14.00\" fill=\"#000000\">samples = 3</text>\n<text text-anchor=\"start\" x=\"460.5\" y=\"-409.8\" font-family=\"Helvetica,sans-Serif\" font-size=\"14.00\" fill=\"#000000\">value = [1, 2]</text>\n<text text-anchor=\"start\" x=\"473\" y=\"-394.8\" font-family=\"Helvetica,sans-Serif\" font-size=\"14.00\" fill=\"#000000\">class = 1</text>\n</g>\n<!-- 1&#45;&gt;9 -->\n<g id=\"edge9\" class=\"edge\">\n<title>1&#45;&gt;9</title>\n<path fill=\"none\" stroke=\"#000000\" d=\"M502,-520.8642C502,-512.5802 502,-503.903 502,-495.3918\"/>\n<polygon fill=\"#000000\" stroke=\"#000000\" points=\"505.5001,-495.1298 502,-485.1298 498.5001,-495.1299 505.5001,-495.1298\"/>\n</g>\n<!-- 3 -->\n<g id=\"node4\" class=\"node\">\n<title>3</title>\n<path fill=\"#e58139\" stroke=\"#000000\" d=\"M104,-343.5C104,-343.5 12,-343.5 12,-343.5 6,-343.5 0,-337.5 0,-331.5 0,-331.5 0,-272.5 0,-272.5 0,-266.5 6,-260.5 12,-260.5 12,-260.5 104,-260.5 104,-260.5 110,-260.5 116,-266.5 116,-272.5 116,-272.5 116,-331.5 116,-331.5 116,-337.5 110,-343.5 104,-343.5\"/>\n<text text-anchor=\"start\" x=\"31\" y=\"-328.3\" font-family=\"Helvetica,sans-Serif\" font-size=\"14.00\" fill=\"#000000\">node #3</text>\n<text text-anchor=\"start\" x=\"15.5\" y=\"-313.3\" font-family=\"Helvetica,sans-Serif\" font-size=\"14.00\" fill=\"#000000\">entropy = 0.0</text>\n<text text-anchor=\"start\" x=\"10\" y=\"-298.3\" font-family=\"Helvetica,sans-Serif\" font-size=\"14.00\" fill=\"#000000\">samples = 212</text>\n<text text-anchor=\"start\" x=\"8\" y=\"-283.3\" font-family=\"Helvetica,sans-Serif\" font-size=\"14.00\" fill=\"#000000\">value = [212, 0]</text>\n<text text-anchor=\"start\" x=\"29\" y=\"-268.3\" font-family=\"Helvetica,sans-Serif\" font-size=\"14.00\" fill=\"#000000\">class = 0</text>\n</g>\n<!-- 2&#45;&gt;3 -->\n<g id=\"edge3\" class=\"edge\">\n<title>2&#45;&gt;3</title>\n<path fill=\"none\" stroke=\"#000000\" d=\"M173.8967,-386.8642C157.3921,-374.7789 139.7451,-361.857 123.3258,-349.8342\"/>\n<polygon fill=\"#000000\" stroke=\"#000000\" points=\"125.0001,-346.7222 114.864,-343.6381 120.8645,-352.37 125.0001,-346.7222\"/>\n</g>\n<!-- 4 -->\n<g id=\"node5\" class=\"node\">\n<title>4</title>\n<path fill=\"#e89050\" stroke=\"#000000\" d=\"M336,-351C336,-351 146,-351 146,-351 140,-351 134,-345 134,-339 134,-339 134,-265 134,-265 134,-259 140,-253 146,-253 146,-253 336,-253 336,-253 342,-253 348,-259 348,-265 348,-265 348,-339 348,-339 348,-345 342,-351 336,-351\"/>\n<text text-anchor=\"start\" x=\"214\" y=\"-335.8\" font-family=\"Helvetica,sans-Serif\" font-size=\"14.00\" fill=\"#000000\">node #4</text>\n<text text-anchor=\"start\" x=\"142\" y=\"-320.8\" font-family=\"Helvetica,sans-Serif\" font-size=\"14.00\" fill=\"#000000\">concave points_worst ≤ &#45;0.508</text>\n<text text-anchor=\"start\" x=\"190\" y=\"-305.8\" font-family=\"Helvetica,sans-Serif\" font-size=\"14.00\" fill=\"#000000\">entropy = 0.485</text>\n<text text-anchor=\"start\" x=\"197\" y=\"-290.8\" font-family=\"Helvetica,sans-Serif\" font-size=\"14.00\" fill=\"#000000\">samples = 19</text>\n<text text-anchor=\"start\" x=\"195.5\" y=\"-275.8\" font-family=\"Helvetica,sans-Serif\" font-size=\"14.00\" fill=\"#000000\">value = [17, 2]</text>\n<text text-anchor=\"start\" x=\"212\" y=\"-260.8\" font-family=\"Helvetica,sans-Serif\" font-size=\"14.00\" fill=\"#000000\">class = 0</text>\n</g>\n<!-- 2&#45;&gt;4 -->\n<g id=\"edge4\" class=\"edge\">\n<title>2&#45;&gt;4</title>\n<path fill=\"none\" stroke=\"#000000\" d=\"M241,-386.8642C241,-378.5802 241,-369.903 241,-361.3918\"/>\n<polygon fill=\"#000000\" stroke=\"#000000\" points=\"244.5001,-361.1298 241,-351.1298 237.5001,-361.1299 244.5001,-361.1298\"/>\n</g>\n<!-- 5 -->\n<g id=\"node6\" class=\"node\">\n<title>5</title>\n<path fill=\"#e58139\" stroke=\"#000000\" d=\"M162.5,-209.5C162.5,-209.5 79.5,-209.5 79.5,-209.5 73.5,-209.5 67.5,-203.5 67.5,-197.5 67.5,-197.5 67.5,-138.5 67.5,-138.5 67.5,-132.5 73.5,-126.5 79.5,-126.5 79.5,-126.5 162.5,-126.5 162.5,-126.5 168.5,-126.5 174.5,-132.5 174.5,-138.5 174.5,-138.5 174.5,-197.5 174.5,-197.5 174.5,-203.5 168.5,-209.5 162.5,-209.5\"/>\n<text text-anchor=\"start\" x=\"94\" y=\"-194.3\" font-family=\"Helvetica,sans-Serif\" font-size=\"14.00\" fill=\"#000000\">node #5</text>\n<text text-anchor=\"start\" x=\"78.5\" y=\"-179.3\" font-family=\"Helvetica,sans-Serif\" font-size=\"14.00\" fill=\"#000000\">entropy = 0.0</text>\n<text text-anchor=\"start\" x=\"77\" y=\"-164.3\" font-family=\"Helvetica,sans-Serif\" font-size=\"14.00\" fill=\"#000000\">samples = 16</text>\n<text text-anchor=\"start\" x=\"75.5\" y=\"-149.3\" font-family=\"Helvetica,sans-Serif\" font-size=\"14.00\" fill=\"#000000\">value = [16, 0]</text>\n<text text-anchor=\"start\" x=\"92\" y=\"-134.3\" font-family=\"Helvetica,sans-Serif\" font-size=\"14.00\" fill=\"#000000\">class = 0</text>\n</g>\n<!-- 4&#45;&gt;5 -->\n<g id=\"edge5\" class=\"edge\">\n<title>4&#45;&gt;5</title>\n<path fill=\"none\" stroke=\"#000000\" d=\"M196.9978,-252.8642C186.5723,-241.2224 175.4516,-228.8043 165.0251,-217.1613\"/>\n<polygon fill=\"#000000\" stroke=\"#000000\" points=\"167.5664,-214.7527 158.2879,-209.6381 162.3518,-219.4226 167.5664,-214.7527\"/>\n</g>\n<!-- 6 -->\n<g id=\"node7\" class=\"node\">\n<title>6</title>\n<path fill=\"#9ccef2\" stroke=\"#000000\" d=\"M399.5,-217C399.5,-217 204.5,-217 204.5,-217 198.5,-217 192.5,-211 192.5,-205 192.5,-205 192.5,-131 192.5,-131 192.5,-125 198.5,-119 204.5,-119 204.5,-119 399.5,-119 399.5,-119 405.5,-119 411.5,-125 411.5,-131 411.5,-131 411.5,-205 411.5,-205 411.5,-211 405.5,-217 399.5,-217\"/>\n<text text-anchor=\"start\" x=\"275\" y=\"-201.8\" font-family=\"Helvetica,sans-Serif\" font-size=\"14.00\" fill=\"#000000\">node #6</text>\n<text text-anchor=\"start\" x=\"200.5\" y=\"-186.8\" font-family=\"Helvetica,sans-Serif\" font-size=\"14.00\" fill=\"#000000\">fractal_dimension_mean ≤ 1.28</text>\n<text text-anchor=\"start\" x=\"251\" y=\"-171.8\" font-family=\"Helvetica,sans-Serif\" font-size=\"14.00\" fill=\"#000000\">entropy = 0.918</text>\n<text text-anchor=\"start\" x=\"262.5\" y=\"-156.8\" font-family=\"Helvetica,sans-Serif\" font-size=\"14.00\" fill=\"#000000\">samples = 3</text>\n<text text-anchor=\"start\" x=\"260.5\" y=\"-141.8\" font-family=\"Helvetica,sans-Serif\" font-size=\"14.00\" fill=\"#000000\">value = [1, 2]</text>\n<text text-anchor=\"start\" x=\"273\" y=\"-126.8\" font-family=\"Helvetica,sans-Serif\" font-size=\"14.00\" fill=\"#000000\">class = 1</text>\n</g>\n<!-- 4&#45;&gt;6 -->\n<g id=\"edge6\" class=\"edge\">\n<title>4&#45;&gt;6</title>\n<path fill=\"none\" stroke=\"#000000\" d=\"M263.3678,-252.8642C267.3046,-244.216 271.4365,-235.1394 275.4739,-226.2704\"/>\n<polygon fill=\"#000000\" stroke=\"#000000\" points=\"278.6772,-227.6813 279.6349,-217.1298 272.3063,-224.7811 278.6772,-227.6813\"/>\n</g>\n<!-- 7 -->\n<g id=\"node8\" class=\"node\">\n<title>7</title>\n<path fill=\"#399de5\" stroke=\"#000000\" d=\"M280.5,-83C280.5,-83 203.5,-83 203.5,-83 197.5,-83 191.5,-77 191.5,-71 191.5,-71 191.5,-12 191.5,-12 191.5,-6 197.5,0 203.5,0 203.5,0 280.5,0 280.5,0 286.5,0 292.5,-6 292.5,-12 292.5,-12 292.5,-71 292.5,-71 292.5,-77 286.5,-83 280.5,-83\"/>\n<text text-anchor=\"start\" x=\"215\" y=\"-67.8\" font-family=\"Helvetica,sans-Serif\" font-size=\"14.00\" fill=\"#000000\">node #7</text>\n<text text-anchor=\"start\" x=\"199.5\" y=\"-52.8\" font-family=\"Helvetica,sans-Serif\" font-size=\"14.00\" fill=\"#000000\">entropy = 0.0</text>\n<text text-anchor=\"start\" x=\"202.5\" y=\"-37.8\" font-family=\"Helvetica,sans-Serif\" font-size=\"14.00\" fill=\"#000000\">samples = 2</text>\n<text text-anchor=\"start\" x=\"200.5\" y=\"-22.8\" font-family=\"Helvetica,sans-Serif\" font-size=\"14.00\" fill=\"#000000\">value = [0, 2]</text>\n<text text-anchor=\"start\" x=\"213\" y=\"-7.8\" font-family=\"Helvetica,sans-Serif\" font-size=\"14.00\" fill=\"#000000\">class = 1</text>\n</g>\n<!-- 6&#45;&gt;7 -->\n<g id=\"edge7\" class=\"edge\">\n<title>6&#45;&gt;7</title>\n<path fill=\"none\" stroke=\"#000000\" d=\"M278.6306,-118.7296C274.5227,-110.0688 270.2402,-101.0398 266.1125,-92.3372\"/>\n<polygon fill=\"#000000\" stroke=\"#000000\" points=\"269.1577,-90.5902 261.7099,-83.055 262.8331,-93.5901 269.1577,-90.5902\"/>\n</g>\n<!-- 8 -->\n<g id=\"node9\" class=\"node\">\n<title>8</title>\n<path fill=\"#e58139\" stroke=\"#000000\" d=\"M399.5,-83C399.5,-83 322.5,-83 322.5,-83 316.5,-83 310.5,-77 310.5,-71 310.5,-71 310.5,-12 310.5,-12 310.5,-6 316.5,0 322.5,0 322.5,0 399.5,0 399.5,0 405.5,0 411.5,-6 411.5,-12 411.5,-12 411.5,-71 411.5,-71 411.5,-77 405.5,-83 399.5,-83\"/>\n<text text-anchor=\"start\" x=\"334\" y=\"-67.8\" font-family=\"Helvetica,sans-Serif\" font-size=\"14.00\" fill=\"#000000\">node #8</text>\n<text text-anchor=\"start\" x=\"318.5\" y=\"-52.8\" font-family=\"Helvetica,sans-Serif\" font-size=\"14.00\" fill=\"#000000\">entropy = 0.0</text>\n<text text-anchor=\"start\" x=\"321.5\" y=\"-37.8\" font-family=\"Helvetica,sans-Serif\" font-size=\"14.00\" fill=\"#000000\">samples = 1</text>\n<text text-anchor=\"start\" x=\"319.5\" y=\"-22.8\" font-family=\"Helvetica,sans-Serif\" font-size=\"14.00\" fill=\"#000000\">value = [1, 0]</text>\n<text text-anchor=\"start\" x=\"332\" y=\"-7.8\" font-family=\"Helvetica,sans-Serif\" font-size=\"14.00\" fill=\"#000000\">class = 0</text>\n</g>\n<!-- 6&#45;&gt;8 -->\n<g id=\"edge8\" class=\"edge\">\n<title>6&#45;&gt;8</title>\n<path fill=\"none\" stroke=\"#000000\" d=\"M324.9799,-118.7296C329.0193,-110.0688 333.2304,-101.0398 337.2893,-92.3372\"/>\n<polygon fill=\"#000000\" stroke=\"#000000\" points=\"340.5636,-93.5971 341.6186,-83.055 334.2197,-90.6383 340.5636,-93.5971\"/>\n</g>\n<!-- 10 -->\n<g id=\"node11\" class=\"node\">\n<title>10</title>\n<path fill=\"#399de5\" stroke=\"#000000\" d=\"M455.5,-343.5C455.5,-343.5 378.5,-343.5 378.5,-343.5 372.5,-343.5 366.5,-337.5 366.5,-331.5 366.5,-331.5 366.5,-272.5 366.5,-272.5 366.5,-266.5 372.5,-260.5 378.5,-260.5 378.5,-260.5 455.5,-260.5 455.5,-260.5 461.5,-260.5 467.5,-266.5 467.5,-272.5 467.5,-272.5 467.5,-331.5 467.5,-331.5 467.5,-337.5 461.5,-343.5 455.5,-343.5\"/>\n<text text-anchor=\"start\" x=\"386\" y=\"-328.3\" font-family=\"Helvetica,sans-Serif\" font-size=\"14.00\" fill=\"#000000\">node #10</text>\n<text text-anchor=\"start\" x=\"374.5\" y=\"-313.3\" font-family=\"Helvetica,sans-Serif\" font-size=\"14.00\" fill=\"#000000\">entropy = 0.0</text>\n<text text-anchor=\"start\" x=\"377.5\" y=\"-298.3\" font-family=\"Helvetica,sans-Serif\" font-size=\"14.00\" fill=\"#000000\">samples = 2</text>\n<text text-anchor=\"start\" x=\"375.5\" y=\"-283.3\" font-family=\"Helvetica,sans-Serif\" font-size=\"14.00\" fill=\"#000000\">value = [0, 2]</text>\n<text text-anchor=\"start\" x=\"388\" y=\"-268.3\" font-family=\"Helvetica,sans-Serif\" font-size=\"14.00\" fill=\"#000000\">class = 1</text>\n</g>\n<!-- 9&#45;&gt;10 -->\n<g id=\"edge10\" class=\"edge\">\n<title>9&#45;&gt;10</title>\n<path fill=\"none\" stroke=\"#000000\" d=\"M470.8318,-386.8642C463.658,-375.555 456.0196,-363.5133 448.8187,-352.1612\"/>\n<polygon fill=\"#000000\" stroke=\"#000000\" points=\"451.7244,-350.2077 443.4123,-343.6381 445.8133,-353.9573 451.7244,-350.2077\"/>\n</g>\n<!-- 11 -->\n<g id=\"node12\" class=\"node\">\n<title>11</title>\n<path fill=\"#e58139\" stroke=\"#000000\" d=\"M574.5,-343.5C574.5,-343.5 497.5,-343.5 497.5,-343.5 491.5,-343.5 485.5,-337.5 485.5,-331.5 485.5,-331.5 485.5,-272.5 485.5,-272.5 485.5,-266.5 491.5,-260.5 497.5,-260.5 497.5,-260.5 574.5,-260.5 574.5,-260.5 580.5,-260.5 586.5,-266.5 586.5,-272.5 586.5,-272.5 586.5,-331.5 586.5,-331.5 586.5,-337.5 580.5,-343.5 574.5,-343.5\"/>\n<text text-anchor=\"start\" x=\"505\" y=\"-328.3\" font-family=\"Helvetica,sans-Serif\" font-size=\"14.00\" fill=\"#000000\">node #11</text>\n<text text-anchor=\"start\" x=\"493.5\" y=\"-313.3\" font-family=\"Helvetica,sans-Serif\" font-size=\"14.00\" fill=\"#000000\">entropy = 0.0</text>\n<text text-anchor=\"start\" x=\"496.5\" y=\"-298.3\" font-family=\"Helvetica,sans-Serif\" font-size=\"14.00\" fill=\"#000000\">samples = 1</text>\n<text text-anchor=\"start\" x=\"494.5\" y=\"-283.3\" font-family=\"Helvetica,sans-Serif\" font-size=\"14.00\" fill=\"#000000\">value = [1, 0]</text>\n<text text-anchor=\"start\" x=\"507\" y=\"-268.3\" font-family=\"Helvetica,sans-Serif\" font-size=\"14.00\" fill=\"#000000\">class = 0</text>\n</g>\n<!-- 9&#45;&gt;11 -->\n<g id=\"edge11\" class=\"edge\">\n<title>9&#45;&gt;11</title>\n<path fill=\"none\" stroke=\"#000000\" d=\"M514.4673,-386.8642C517.2243,-375.9985 520.1528,-364.4566 522.9329,-353.4998\"/>\n<polygon fill=\"#000000\" stroke=\"#000000\" points=\"526.3681,-354.1918 525.4351,-343.6381 519.5831,-352.4702 526.3681,-354.1918\"/>\n</g>\n<!-- 13 -->\n<g id=\"node14\" class=\"node\">\n<title>13</title>\n<path fill=\"#b4daf5\" stroke=\"#000000\" d=\"M801,-485C801,-485 665,-485 665,-485 659,-485 653,-479 653,-473 653,-473 653,-399 653,-399 653,-393 659,-387 665,-387 665,-387 801,-387 801,-387 807,-387 813,-393 813,-399 813,-399 813,-473 813,-473 813,-479 807,-485 801,-485\"/>\n<text text-anchor=\"start\" x=\"702\" y=\"-469.8\" font-family=\"Helvetica,sans-Serif\" font-size=\"14.00\" fill=\"#000000\">node #13</text>\n<text text-anchor=\"start\" x=\"661\" y=\"-454.8\" font-family=\"Helvetica,sans-Serif\" font-size=\"14.00\" fill=\"#000000\">texture_worst ≤ &#45;0.016</text>\n<text text-anchor=\"start\" x=\"686\" y=\"-439.8\" font-family=\"Helvetica,sans-Serif\" font-size=\"14.00\" fill=\"#000000\">entropy = 0.96</text>\n<text text-anchor=\"start\" x=\"689\" y=\"-424.8\" font-family=\"Helvetica,sans-Serif\" font-size=\"14.00\" fill=\"#000000\">samples = 94</text>\n<text text-anchor=\"start\" x=\"683\" y=\"-409.8\" font-family=\"Helvetica,sans-Serif\" font-size=\"14.00\" fill=\"#000000\">value = [36, 58]</text>\n<text text-anchor=\"start\" x=\"704\" y=\"-394.8\" font-family=\"Helvetica,sans-Serif\" font-size=\"14.00\" fill=\"#000000\">class = 1</text>\n</g>\n<!-- 12&#45;&gt;13 -->\n<g id=\"edge13\" class=\"edge\">\n<title>12&#45;&gt;13</title>\n<path fill=\"none\" stroke=\"#000000\" d=\"M733,-520.8642C733,-512.5802 733,-503.903 733,-495.3918\"/>\n<polygon fill=\"#000000\" stroke=\"#000000\" points=\"736.5001,-495.1298 733,-485.1298 729.5001,-495.1299 736.5001,-495.1298\"/>\n</g>\n<!-- 26 -->\n<g id=\"node27\" class=\"node\">\n<title>26</title>\n<path fill=\"#3a9de5\" stroke=\"#000000\" d=\"M1152.5,-485C1152.5,-485 995.5,-485 995.5,-485 989.5,-485 983.5,-479 983.5,-473 983.5,-473 983.5,-399 983.5,-399 983.5,-393 989.5,-387 995.5,-387 995.5,-387 1152.5,-387 1152.5,-387 1158.5,-387 1164.5,-393 1164.5,-399 1164.5,-399 1164.5,-473 1164.5,-473 1164.5,-479 1158.5,-485 1152.5,-485\"/>\n<text text-anchor=\"start\" x=\"1043\" y=\"-469.8\" font-family=\"Helvetica,sans-Serif\" font-size=\"14.00\" fill=\"#000000\">node #26</text>\n<text text-anchor=\"start\" x=\"991.5\" y=\"-454.8\" font-family=\"Helvetica,sans-Serif\" font-size=\"14.00\" fill=\"#000000\">symmetry_mean ≤ &#45;2.087</text>\n<text text-anchor=\"start\" x=\"1023\" y=\"-439.8\" font-family=\"Helvetica,sans-Serif\" font-size=\"14.00\" fill=\"#000000\">entropy = 0.045</text>\n<text text-anchor=\"start\" x=\"1026\" y=\"-424.8\" font-family=\"Helvetica,sans-Serif\" font-size=\"14.00\" fill=\"#000000\">samples = 203</text>\n<text text-anchor=\"start\" x=\"1024\" y=\"-409.8\" font-family=\"Helvetica,sans-Serif\" font-size=\"14.00\" fill=\"#000000\">value = [1, 202]</text>\n<text text-anchor=\"start\" x=\"1045\" y=\"-394.8\" font-family=\"Helvetica,sans-Serif\" font-size=\"14.00\" fill=\"#000000\">class = 1</text>\n</g>\n<!-- 12&#45;&gt;26 -->\n<g id=\"edge26\" class=\"edge\">\n<title>12&#45;&gt;26</title>\n<path fill=\"none\" stroke=\"#000000\" d=\"M815.1119,-537.7331C862.8849,-518.9602 923.4543,-495.1587 973.9939,-475.2986\"/>\n<polygon fill=\"#000000\" stroke=\"#000000\" points=\"975.2816,-478.5532 983.3087,-471.6382 972.7214,-472.0381 975.2816,-478.5532\"/>\n</g>\n<!-- 14 -->\n<g id=\"node15\" class=\"node\">\n<title>14</title>\n<path fill=\"#e88f4f\" stroke=\"#000000\" d=\"M783.5,-351C783.5,-351 616.5,-351 616.5,-351 610.5,-351 604.5,-345 604.5,-339 604.5,-339 604.5,-265 604.5,-265 604.5,-259 610.5,-253 616.5,-253 616.5,-253 783.5,-253 783.5,-253 789.5,-253 795.5,-259 795.5,-265 795.5,-265 795.5,-339 795.5,-339 795.5,-345 789.5,-351 783.5,-351\"/>\n<text text-anchor=\"start\" x=\"669\" y=\"-335.8\" font-family=\"Helvetica,sans-Serif\" font-size=\"14.00\" fill=\"#000000\">node #14</text>\n<text text-anchor=\"start\" x=\"612.5\" y=\"-320.8\" font-family=\"Helvetica,sans-Serif\" font-size=\"14.00\" fill=\"#000000\">smoothness_worst ≤ 0.318</text>\n<text text-anchor=\"start\" x=\"649\" y=\"-305.8\" font-family=\"Helvetica,sans-Serif\" font-size=\"14.00\" fill=\"#000000\">entropy = 0.469</text>\n<text text-anchor=\"start\" x=\"656\" y=\"-290.8\" font-family=\"Helvetica,sans-Serif\" font-size=\"14.00\" fill=\"#000000\">samples = 30</text>\n<text text-anchor=\"start\" x=\"654.5\" y=\"-275.8\" font-family=\"Helvetica,sans-Serif\" font-size=\"14.00\" fill=\"#000000\">value = [27, 3]</text>\n<text text-anchor=\"start\" x=\"671\" y=\"-260.8\" font-family=\"Helvetica,sans-Serif\" font-size=\"14.00\" fill=\"#000000\">class = 0</text>\n</g>\n<!-- 13&#45;&gt;14 -->\n<g id=\"edge14\" class=\"edge\">\n<title>13&#45;&gt;14</title>\n<path fill=\"none\" stroke=\"#000000\" d=\"M720.8994,-386.8642C718.8369,-378.4891 716.6754,-369.7123 714.5573,-361.1113\"/>\n<polygon fill=\"#000000\" stroke=\"#000000\" points=\"717.8889,-360.0028 712.0991,-351.1298 711.092,-361.6767 717.8889,-360.0028\"/>\n</g>\n<!-- 19 -->\n<g id=\"node20\" class=\"node\">\n<title>19</title>\n<path fill=\"#59ade9\" stroke=\"#000000\" d=\"M993.5,-351C993.5,-351 828.5,-351 828.5,-351 822.5,-351 816.5,-345 816.5,-339 816.5,-339 816.5,-265 816.5,-265 816.5,-259 822.5,-253 828.5,-253 828.5,-253 993.5,-253 993.5,-253 999.5,-253 1005.5,-259 1005.5,-265 1005.5,-265 1005.5,-339 1005.5,-339 1005.5,-345 999.5,-351 993.5,-351\"/>\n<text text-anchor=\"start\" x=\"880\" y=\"-335.8\" font-family=\"Helvetica,sans-Serif\" font-size=\"14.00\" fill=\"#000000\">node #19</text>\n<text text-anchor=\"start\" x=\"824.5\" y=\"-320.8\" font-family=\"Helvetica,sans-Serif\" font-size=\"14.00\" fill=\"#000000\">smoothness_mean ≤ &#45;0.49</text>\n<text text-anchor=\"start\" x=\"860\" y=\"-305.8\" font-family=\"Helvetica,sans-Serif\" font-size=\"14.00\" fill=\"#000000\">entropy = 0.586</text>\n<text text-anchor=\"start\" x=\"867\" y=\"-290.8\" font-family=\"Helvetica,sans-Serif\" font-size=\"14.00\" fill=\"#000000\">samples = 64</text>\n<text text-anchor=\"start\" x=\"865.5\" y=\"-275.8\" font-family=\"Helvetica,sans-Serif\" font-size=\"14.00\" fill=\"#000000\">value = [9, 55]</text>\n<text text-anchor=\"start\" x=\"882\" y=\"-260.8\" font-family=\"Helvetica,sans-Serif\" font-size=\"14.00\" fill=\"#000000\">class = 1</text>\n</g>\n<!-- 13&#45;&gt;19 -->\n<g id=\"edge19\" class=\"edge\">\n<title>13&#45;&gt;19</title>\n<path fill=\"none\" stroke=\"#000000\" d=\"M798.2699,-386.8642C811.088,-377.2147 824.6146,-367.0317 837.676,-357.199\"/>\n<polygon fill=\"#000000\" stroke=\"#000000\" points=\"839.8538,-359.9405 845.738,-351.1298 835.6437,-354.348 839.8538,-359.9405\"/>\n</g>\n<!-- 15 -->\n<g id=\"node16\" class=\"node\">\n<title>15</title>\n<path fill=\"#e58139\" stroke=\"#000000\" d=\"M586.5,-209.5C586.5,-209.5 503.5,-209.5 503.5,-209.5 497.5,-209.5 491.5,-203.5 491.5,-197.5 491.5,-197.5 491.5,-138.5 491.5,-138.5 491.5,-132.5 497.5,-126.5 503.5,-126.5 503.5,-126.5 586.5,-126.5 586.5,-126.5 592.5,-126.5 598.5,-132.5 598.5,-138.5 598.5,-138.5 598.5,-197.5 598.5,-197.5 598.5,-203.5 592.5,-209.5 586.5,-209.5\"/>\n<text text-anchor=\"start\" x=\"514\" y=\"-194.3\" font-family=\"Helvetica,sans-Serif\" font-size=\"14.00\" fill=\"#000000\">node #15</text>\n<text text-anchor=\"start\" x=\"502.5\" y=\"-179.3\" font-family=\"Helvetica,sans-Serif\" font-size=\"14.00\" fill=\"#000000\">entropy = 0.0</text>\n<text text-anchor=\"start\" x=\"501\" y=\"-164.3\" font-family=\"Helvetica,sans-Serif\" font-size=\"14.00\" fill=\"#000000\">samples = 26</text>\n<text text-anchor=\"start\" x=\"499.5\" y=\"-149.3\" font-family=\"Helvetica,sans-Serif\" font-size=\"14.00\" fill=\"#000000\">value = [26, 0]</text>\n<text text-anchor=\"start\" x=\"516\" y=\"-134.3\" font-family=\"Helvetica,sans-Serif\" font-size=\"14.00\" fill=\"#000000\">class = 0</text>\n</g>\n<!-- 14&#45;&gt;15 -->\n<g id=\"edge15\" class=\"edge\">\n<title>14&#45;&gt;15</title>\n<path fill=\"none\" stroke=\"#000000\" d=\"M643.1639,-252.8642C629.4411,-241.0007 614.7858,-228.3309 601.0971,-216.4969\"/>\n<polygon fill=\"#000000\" stroke=\"#000000\" points=\"603.0175,-213.5304 593.1635,-209.6381 598.4395,-218.8259 603.0175,-213.5304\"/>\n</g>\n<!-- 16 -->\n<g id=\"node17\" class=\"node\">\n<title>16</title>\n<path fill=\"#7bbeee\" stroke=\"#000000\" d=\"M767,-217C767,-217 629,-217 629,-217 623,-217 617,-211 617,-205 617,-205 617,-131 617,-131 617,-125 623,-119 629,-119 629,-119 767,-119 767,-119 773,-119 779,-125 779,-131 779,-131 779,-205 779,-205 779,-211 773,-217 767,-217\"/>\n<text text-anchor=\"start\" x=\"667\" y=\"-201.8\" font-family=\"Helvetica,sans-Serif\" font-size=\"14.00\" fill=\"#000000\">node #16</text>\n<text text-anchor=\"start\" x=\"625\" y=\"-186.8\" font-family=\"Helvetica,sans-Serif\" font-size=\"14.00\" fill=\"#000000\">texture_mean ≤ &#45;1.568</text>\n<text text-anchor=\"start\" x=\"647\" y=\"-171.8\" font-family=\"Helvetica,sans-Serif\" font-size=\"14.00\" fill=\"#000000\">entropy = 0.811</text>\n<text text-anchor=\"start\" x=\"658.5\" y=\"-156.8\" font-family=\"Helvetica,sans-Serif\" font-size=\"14.00\" fill=\"#000000\">samples = 4</text>\n<text text-anchor=\"start\" x=\"656.5\" y=\"-141.8\" font-family=\"Helvetica,sans-Serif\" font-size=\"14.00\" fill=\"#000000\">value = [1, 3]</text>\n<text text-anchor=\"start\" x=\"669\" y=\"-126.8\" font-family=\"Helvetica,sans-Serif\" font-size=\"14.00\" fill=\"#000000\">class = 1</text>\n</g>\n<!-- 14&#45;&gt;16 -->\n<g id=\"edge16\" class=\"edge\">\n<title>14&#45;&gt;16</title>\n<path fill=\"none\" stroke=\"#000000\" d=\"M699.2666,-252.8642C699.143,-244.5802 699.0135,-235.903 698.8864,-227.3918\"/>\n<polygon fill=\"#000000\" stroke=\"#000000\" points=\"702.3822,-227.0764 698.7333,-217.1298 695.383,-227.181 702.3822,-227.0764\"/>\n</g>\n<!-- 17 -->\n<g id=\"node18\" class=\"node\">\n<title>17</title>\n<path fill=\"#e58139\" stroke=\"#000000\" d=\"M625.5,-83C625.5,-83 548.5,-83 548.5,-83 542.5,-83 536.5,-77 536.5,-71 536.5,-71 536.5,-12 536.5,-12 536.5,-6 542.5,0 548.5,0 548.5,0 625.5,0 625.5,0 631.5,0 637.5,-6 637.5,-12 637.5,-12 637.5,-71 637.5,-71 637.5,-77 631.5,-83 625.5,-83\"/>\n<text text-anchor=\"start\" x=\"556\" y=\"-67.8\" font-family=\"Helvetica,sans-Serif\" font-size=\"14.00\" fill=\"#000000\">node #17</text>\n<text text-anchor=\"start\" x=\"544.5\" y=\"-52.8\" font-family=\"Helvetica,sans-Serif\" font-size=\"14.00\" fill=\"#000000\">entropy = 0.0</text>\n<text text-anchor=\"start\" x=\"547.5\" y=\"-37.8\" font-family=\"Helvetica,sans-Serif\" font-size=\"14.00\" fill=\"#000000\">samples = 1</text>\n<text text-anchor=\"start\" x=\"545.5\" y=\"-22.8\" font-family=\"Helvetica,sans-Serif\" font-size=\"14.00\" fill=\"#000000\">value = [1, 0]</text>\n<text text-anchor=\"start\" x=\"558\" y=\"-7.8\" font-family=\"Helvetica,sans-Serif\" font-size=\"14.00\" fill=\"#000000\">class = 0</text>\n</g>\n<!-- 16&#45;&gt;17 -->\n<g id=\"edge17\" class=\"edge\">\n<title>16&#45;&gt;17</title>\n<path fill=\"none\" stroke=\"#000000\" d=\"M654.7667,-118.7296C646.682,-109.5159 638.2317,-99.8857 630.1496,-90.675\"/>\n<polygon fill=\"#000000\" stroke=\"#000000\" points=\"632.6896,-88.2631 623.4632,-83.055 627.428,-92.88 632.6896,-88.2631\"/>\n</g>\n<!-- 18 -->\n<g id=\"node19\" class=\"node\">\n<title>18</title>\n<path fill=\"#399de5\" stroke=\"#000000\" d=\"M744.5,-83C744.5,-83 667.5,-83 667.5,-83 661.5,-83 655.5,-77 655.5,-71 655.5,-71 655.5,-12 655.5,-12 655.5,-6 661.5,0 667.5,0 667.5,0 744.5,0 744.5,0 750.5,0 756.5,-6 756.5,-12 756.5,-12 756.5,-71 756.5,-71 756.5,-77 750.5,-83 744.5,-83\"/>\n<text text-anchor=\"start\" x=\"675\" y=\"-67.8\" font-family=\"Helvetica,sans-Serif\" font-size=\"14.00\" fill=\"#000000\">node #18</text>\n<text text-anchor=\"start\" x=\"663.5\" y=\"-52.8\" font-family=\"Helvetica,sans-Serif\" font-size=\"14.00\" fill=\"#000000\">entropy = 0.0</text>\n<text text-anchor=\"start\" x=\"666.5\" y=\"-37.8\" font-family=\"Helvetica,sans-Serif\" font-size=\"14.00\" fill=\"#000000\">samples = 3</text>\n<text text-anchor=\"start\" x=\"664.5\" y=\"-22.8\" font-family=\"Helvetica,sans-Serif\" font-size=\"14.00\" fill=\"#000000\">value = [0, 3]</text>\n<text text-anchor=\"start\" x=\"677\" y=\"-7.8\" font-family=\"Helvetica,sans-Serif\" font-size=\"14.00\" fill=\"#000000\">class = 1</text>\n</g>\n<!-- 16&#45;&gt;18 -->\n<g id=\"edge18\" class=\"edge\">\n<title>16&#45;&gt;18</title>\n<path fill=\"none\" stroke=\"#000000\" d=\"M701.1159,-118.7296C701.6462,-110.3452 702.1982,-101.6158 702.7322,-93.1714\"/>\n<polygon fill=\"#000000\" stroke=\"#000000\" points=\"706.2338,-93.256 703.372,-83.055 699.2478,-92.8141 706.2338,-93.256\"/>\n</g>\n<!-- 20 -->\n<g id=\"node21\" class=\"node\">\n<title>20</title>\n<path fill=\"#f5d0b5\" stroke=\"#000000\" d=\"M1017,-217C1017,-217 809,-217 809,-217 803,-217 797,-211 797,-205 797,-205 797,-131 797,-131 797,-125 803,-119 809,-119 809,-119 1017,-119 1017,-119 1023,-119 1029,-125 1029,-131 1029,-131 1029,-205 1029,-205 1029,-211 1023,-217 1017,-217\"/>\n<text text-anchor=\"start\" x=\"882\" y=\"-201.8\" font-family=\"Helvetica,sans-Serif\" font-size=\"14.00\" fill=\"#000000\">node #20</text>\n<text text-anchor=\"start\" x=\"805\" y=\"-186.8\" font-family=\"Helvetica,sans-Serif\" font-size=\"14.00\" fill=\"#000000\">fractal_dimension_mean ≤ &#45;1.006</text>\n<text text-anchor=\"start\" x=\"862\" y=\"-171.8\" font-family=\"Helvetica,sans-Serif\" font-size=\"14.00\" fill=\"#000000\">entropy = 0.961</text>\n<text text-anchor=\"start\" x=\"869\" y=\"-156.8\" font-family=\"Helvetica,sans-Serif\" font-size=\"14.00\" fill=\"#000000\">samples = 13</text>\n<text text-anchor=\"start\" x=\"871.5\" y=\"-141.8\" font-family=\"Helvetica,sans-Serif\" font-size=\"14.00\" fill=\"#000000\">value = [8, 5]</text>\n<text text-anchor=\"start\" x=\"884\" y=\"-126.8\" font-family=\"Helvetica,sans-Serif\" font-size=\"14.00\" fill=\"#000000\">class = 0</text>\n</g>\n<!-- 19&#45;&gt;20 -->\n<g id=\"edge20\" class=\"edge\">\n<title>19&#45;&gt;20</title>\n<path fill=\"none\" stroke=\"#000000\" d=\"M911.7334,-252.8642C911.857,-244.5802 911.9865,-235.903 912.1136,-227.3918\"/>\n<polygon fill=\"#000000\" stroke=\"#000000\" points=\"915.617,-227.181 912.2667,-217.1298 908.6178,-227.0764 915.617,-227.181\"/>\n</g>\n<!-- 23 -->\n<g id=\"node24\" class=\"node\">\n<title>23</title>\n<path fill=\"#3d9fe6\" stroke=\"#000000\" d=\"M1212.5,-217C1212.5,-217 1059.5,-217 1059.5,-217 1053.5,-217 1047.5,-211 1047.5,-205 1047.5,-205 1047.5,-131 1047.5,-131 1047.5,-125 1053.5,-119 1059.5,-119 1059.5,-119 1212.5,-119 1212.5,-119 1218.5,-119 1224.5,-125 1224.5,-131 1224.5,-131 1224.5,-205 1224.5,-205 1224.5,-211 1218.5,-217 1212.5,-217\"/>\n<text text-anchor=\"start\" x=\"1105\" y=\"-201.8\" font-family=\"Helvetica,sans-Serif\" font-size=\"14.00\" fill=\"#000000\">node #23</text>\n<text text-anchor=\"start\" x=\"1055.5\" y=\"-186.8\" font-family=\"Helvetica,sans-Serif\" font-size=\"14.00\" fill=\"#000000\">concavity_worst ≤ &#45;0.503</text>\n<text text-anchor=\"start\" x=\"1085\" y=\"-171.8\" font-family=\"Helvetica,sans-Serif\" font-size=\"14.00\" fill=\"#000000\">entropy = 0.139</text>\n<text text-anchor=\"start\" x=\"1092\" y=\"-156.8\" font-family=\"Helvetica,sans-Serif\" font-size=\"14.00\" fill=\"#000000\">samples = 51</text>\n<text text-anchor=\"start\" x=\"1090.5\" y=\"-141.8\" font-family=\"Helvetica,sans-Serif\" font-size=\"14.00\" fill=\"#000000\">value = [1, 50]</text>\n<text text-anchor=\"start\" x=\"1107\" y=\"-126.8\" font-family=\"Helvetica,sans-Serif\" font-size=\"14.00\" fill=\"#000000\">class = 1</text>\n</g>\n<!-- 19&#45;&gt;23 -->\n<g id=\"edge23\" class=\"edge\">\n<title>19&#45;&gt;23</title>\n<path fill=\"none\" stroke=\"#000000\" d=\"M993.5041,-252.8642C1010.1653,-242.9416 1027.7735,-232.4549 1044.7155,-222.365\"/>\n<polygon fill=\"#000000\" stroke=\"#000000\" points=\"1046.7051,-225.2538 1053.5059,-217.1298 1043.1232,-219.2396 1046.7051,-225.2538\"/>\n</g>\n<!-- 21 -->\n<g id=\"node22\" class=\"node\">\n<title>21</title>\n<path fill=\"#399de5\" stroke=\"#000000\" d=\"M894.5,-83C894.5,-83 817.5,-83 817.5,-83 811.5,-83 805.5,-77 805.5,-71 805.5,-71 805.5,-12 805.5,-12 805.5,-6 811.5,0 817.5,0 817.5,0 894.5,0 894.5,0 900.5,0 906.5,-6 906.5,-12 906.5,-12 906.5,-71 906.5,-71 906.5,-77 900.5,-83 894.5,-83\"/>\n<text text-anchor=\"start\" x=\"825\" y=\"-67.8\" font-family=\"Helvetica,sans-Serif\" font-size=\"14.00\" fill=\"#000000\">node #21</text>\n<text text-anchor=\"start\" x=\"813.5\" y=\"-52.8\" font-family=\"Helvetica,sans-Serif\" font-size=\"14.00\" fill=\"#000000\">entropy = 0.0</text>\n<text text-anchor=\"start\" x=\"816.5\" y=\"-37.8\" font-family=\"Helvetica,sans-Serif\" font-size=\"14.00\" fill=\"#000000\">samples = 4</text>\n<text text-anchor=\"start\" x=\"814.5\" y=\"-22.8\" font-family=\"Helvetica,sans-Serif\" font-size=\"14.00\" fill=\"#000000\">value = [0, 4]</text>\n<text text-anchor=\"start\" x=\"827\" y=\"-7.8\" font-family=\"Helvetica,sans-Serif\" font-size=\"14.00\" fill=\"#000000\">class = 1</text>\n</g>\n<!-- 20&#45;&gt;21 -->\n<g id=\"edge21\" class=\"edge\">\n<title>20&#45;&gt;21</title>\n<path fill=\"none\" stroke=\"#000000\" d=\"M890.7991,-118.7296C886.8966,-110.0688 882.8282,-101.0398 878.9069,-92.3372\"/>\n<polygon fill=\"#000000\" stroke=\"#000000\" points=\"882.0236,-90.7343 874.7244,-83.055 875.6415,-93.61 882.0236,-90.7343\"/>\n</g>\n<!-- 22 -->\n<g id=\"node23\" class=\"node\">\n<title>22</title>\n<path fill=\"#e89152\" stroke=\"#000000\" d=\"M1031,-83C1031,-83 937,-83 937,-83 931,-83 925,-77 925,-71 925,-71 925,-12 925,-12 925,-6 931,0 937,0 937,0 1031,0 1031,0 1037,0 1043,-6 1043,-12 1043,-12 1043,-71 1043,-71 1043,-77 1037,-83 1031,-83\"/>\n<text text-anchor=\"start\" x=\"953\" y=\"-67.8\" font-family=\"Helvetica,sans-Serif\" font-size=\"14.00\" fill=\"#000000\">node #22</text>\n<text text-anchor=\"start\" x=\"933\" y=\"-52.8\" font-family=\"Helvetica,sans-Serif\" font-size=\"14.00\" fill=\"#000000\">entropy = 0.503</text>\n<text text-anchor=\"start\" x=\"944.5\" y=\"-37.8\" font-family=\"Helvetica,sans-Serif\" font-size=\"14.00\" fill=\"#000000\">samples = 9</text>\n<text text-anchor=\"start\" x=\"942.5\" y=\"-22.8\" font-family=\"Helvetica,sans-Serif\" font-size=\"14.00\" fill=\"#000000\">value = [8, 1]</text>\n<text text-anchor=\"start\" x=\"955\" y=\"-7.8\" font-family=\"Helvetica,sans-Serif\" font-size=\"14.00\" fill=\"#000000\">class = 0</text>\n</g>\n<!-- 20&#45;&gt;22 -->\n<g id=\"edge22\" class=\"edge\">\n<title>20&#45;&gt;22</title>\n<path fill=\"none\" stroke=\"#000000\" d=\"M940.6538,-118.7296C945.6182,-109.8845 950.7981,-100.6555 955.7784,-91.7822\"/>\n<polygon fill=\"#000000\" stroke=\"#000000\" points=\"958.8343,-93.4884 960.6767,-83.055 952.7301,-90.0623 958.8343,-93.4884\"/>\n</g>\n<!-- 24 -->\n<g id=\"node25\" class=\"node\">\n<title>24</title>\n<path fill=\"#e58139\" stroke=\"#000000\" d=\"M1166.5,-83C1166.5,-83 1089.5,-83 1089.5,-83 1083.5,-83 1077.5,-77 1077.5,-71 1077.5,-71 1077.5,-12 1077.5,-12 1077.5,-6 1083.5,0 1089.5,0 1089.5,0 1166.5,0 1166.5,0 1172.5,0 1178.5,-6 1178.5,-12 1178.5,-12 1178.5,-71 1178.5,-71 1178.5,-77 1172.5,-83 1166.5,-83\"/>\n<text text-anchor=\"start\" x=\"1097\" y=\"-67.8\" font-family=\"Helvetica,sans-Serif\" font-size=\"14.00\" fill=\"#000000\">node #24</text>\n<text text-anchor=\"start\" x=\"1085.5\" y=\"-52.8\" font-family=\"Helvetica,sans-Serif\" font-size=\"14.00\" fill=\"#000000\">entropy = 0.0</text>\n<text text-anchor=\"start\" x=\"1088.5\" y=\"-37.8\" font-family=\"Helvetica,sans-Serif\" font-size=\"14.00\" fill=\"#000000\">samples = 1</text>\n<text text-anchor=\"start\" x=\"1086.5\" y=\"-22.8\" font-family=\"Helvetica,sans-Serif\" font-size=\"14.00\" fill=\"#000000\">value = [1, 0]</text>\n<text text-anchor=\"start\" x=\"1099\" y=\"-7.8\" font-family=\"Helvetica,sans-Serif\" font-size=\"14.00\" fill=\"#000000\">class = 0</text>\n</g>\n<!-- 23&#45;&gt;24 -->\n<g id=\"edge24\" class=\"edge\">\n<title>23&#45;&gt;24</title>\n<path fill=\"none\" stroke=\"#000000\" d=\"M1132.8841,-118.7296C1132.3538,-110.3452 1131.8018,-101.6158 1131.2678,-93.1714\"/>\n<polygon fill=\"#000000\" stroke=\"#000000\" points=\"1134.7522,-92.8141 1130.628,-83.055 1127.7662,-93.256 1134.7522,-92.8141\"/>\n</g>\n<!-- 25 -->\n<g id=\"node26\" class=\"node\">\n<title>25</title>\n<path fill=\"#399de5\" stroke=\"#000000\" d=\"M1291.5,-83C1291.5,-83 1208.5,-83 1208.5,-83 1202.5,-83 1196.5,-77 1196.5,-71 1196.5,-71 1196.5,-12 1196.5,-12 1196.5,-6 1202.5,0 1208.5,0 1208.5,0 1291.5,0 1291.5,0 1297.5,0 1303.5,-6 1303.5,-12 1303.5,-12 1303.5,-71 1303.5,-71 1303.5,-77 1297.5,-83 1291.5,-83\"/>\n<text text-anchor=\"start\" x=\"1219\" y=\"-67.8\" font-family=\"Helvetica,sans-Serif\" font-size=\"14.00\" fill=\"#000000\">node #25</text>\n<text text-anchor=\"start\" x=\"1207.5\" y=\"-52.8\" font-family=\"Helvetica,sans-Serif\" font-size=\"14.00\" fill=\"#000000\">entropy = 0.0</text>\n<text text-anchor=\"start\" x=\"1206\" y=\"-37.8\" font-family=\"Helvetica,sans-Serif\" font-size=\"14.00\" fill=\"#000000\">samples = 50</text>\n<text text-anchor=\"start\" x=\"1204.5\" y=\"-22.8\" font-family=\"Helvetica,sans-Serif\" font-size=\"14.00\" fill=\"#000000\">value = [0, 50]</text>\n<text text-anchor=\"start\" x=\"1221\" y=\"-7.8\" font-family=\"Helvetica,sans-Serif\" font-size=\"14.00\" fill=\"#000000\">class = 1</text>\n</g>\n<!-- 23&#45;&gt;25 -->\n<g id=\"edge25\" class=\"edge\">\n<title>23&#45;&gt;25</title>\n<path fill=\"none\" stroke=\"#000000\" d=\"M1180.4018,-118.7296C1188.705,-109.5159 1197.3836,-99.8857 1205.6842,-90.675\"/>\n<polygon fill=\"#000000\" stroke=\"#000000\" points=\"1208.4567,-92.8266 1212.5513,-83.055 1203.2567,-88.1405 1208.4567,-92.8266\"/>\n</g>\n<!-- 27 -->\n<g id=\"node28\" class=\"node\">\n<title>27</title>\n<path fill=\"#e58139\" stroke=\"#000000\" d=\"M1112.5,-343.5C1112.5,-343.5 1035.5,-343.5 1035.5,-343.5 1029.5,-343.5 1023.5,-337.5 1023.5,-331.5 1023.5,-331.5 1023.5,-272.5 1023.5,-272.5 1023.5,-266.5 1029.5,-260.5 1035.5,-260.5 1035.5,-260.5 1112.5,-260.5 1112.5,-260.5 1118.5,-260.5 1124.5,-266.5 1124.5,-272.5 1124.5,-272.5 1124.5,-331.5 1124.5,-331.5 1124.5,-337.5 1118.5,-343.5 1112.5,-343.5\"/>\n<text text-anchor=\"start\" x=\"1043\" y=\"-328.3\" font-family=\"Helvetica,sans-Serif\" font-size=\"14.00\" fill=\"#000000\">node #27</text>\n<text text-anchor=\"start\" x=\"1031.5\" y=\"-313.3\" font-family=\"Helvetica,sans-Serif\" font-size=\"14.00\" fill=\"#000000\">entropy = 0.0</text>\n<text text-anchor=\"start\" x=\"1034.5\" y=\"-298.3\" font-family=\"Helvetica,sans-Serif\" font-size=\"14.00\" fill=\"#000000\">samples = 1</text>\n<text text-anchor=\"start\" x=\"1032.5\" y=\"-283.3\" font-family=\"Helvetica,sans-Serif\" font-size=\"14.00\" fill=\"#000000\">value = [1, 0]</text>\n<text text-anchor=\"start\" x=\"1045\" y=\"-268.3\" font-family=\"Helvetica,sans-Serif\" font-size=\"14.00\" fill=\"#000000\">class = 0</text>\n</g>\n<!-- 26&#45;&gt;27 -->\n<g id=\"edge27\" class=\"edge\">\n<title>26&#45;&gt;27</title>\n<path fill=\"none\" stroke=\"#000000\" d=\"M1074,-386.8642C1074,-376.1094 1074,-364.6921 1074,-353.8354\"/>\n<polygon fill=\"#000000\" stroke=\"#000000\" points=\"1077.5001,-353.6381 1074,-343.6381 1070.5001,-353.6382 1077.5001,-353.6381\"/>\n</g>\n<!-- 28 -->\n<g id=\"node29\" class=\"node\">\n<title>28</title>\n<path fill=\"#399de5\" stroke=\"#000000\" d=\"M1247,-343.5C1247,-343.5 1155,-343.5 1155,-343.5 1149,-343.5 1143,-337.5 1143,-331.5 1143,-331.5 1143,-272.5 1143,-272.5 1143,-266.5 1149,-260.5 1155,-260.5 1155,-260.5 1247,-260.5 1247,-260.5 1253,-260.5 1259,-266.5 1259,-272.5 1259,-272.5 1259,-331.5 1259,-331.5 1259,-337.5 1253,-343.5 1247,-343.5\"/>\n<text text-anchor=\"start\" x=\"1170\" y=\"-328.3\" font-family=\"Helvetica,sans-Serif\" font-size=\"14.00\" fill=\"#000000\">node #28</text>\n<text text-anchor=\"start\" x=\"1158.5\" y=\"-313.3\" font-family=\"Helvetica,sans-Serif\" font-size=\"14.00\" fill=\"#000000\">entropy = 0.0</text>\n<text text-anchor=\"start\" x=\"1153\" y=\"-298.3\" font-family=\"Helvetica,sans-Serif\" font-size=\"14.00\" fill=\"#000000\">samples = 202</text>\n<text text-anchor=\"start\" x=\"1151\" y=\"-283.3\" font-family=\"Helvetica,sans-Serif\" font-size=\"14.00\" fill=\"#000000\">value = [0, 202]</text>\n<text text-anchor=\"start\" x=\"1172\" y=\"-268.3\" font-family=\"Helvetica,sans-Serif\" font-size=\"14.00\" fill=\"#000000\">class = 1</text>\n</g>\n<!-- 26&#45;&gt;28 -->\n<g id=\"edge28\" class=\"edge\">\n<title>26&#45;&gt;28</title>\n<path fill=\"none\" stroke=\"#000000\" d=\"M1120.569,-386.8642C1131.6026,-375.2224 1143.372,-362.8043 1154.4068,-351.1613\"/>\n<polygon fill=\"#000000\" stroke=\"#000000\" points=\"1157.1984,-353.3039 1161.537,-343.6381 1152.1177,-348.4886 1157.1984,-353.3039\"/>\n</g>\n</g>\n</svg>\n"
          },
          "metadata": {},
          "execution_count": 104
        }
      ]
    },
    {
      "cell_type": "code",
      "source": [
        "from sklearn.metrics import accuracy_score, confusion_matrix\n",
        "\n",
        "#model evaluation\n",
        "y_test_pred = DT.predict(x_test)               \n",
        "infoG_matrix = confusion_matrix(y_test, y_test_pred)\n",
        "print (infoG_matrix) \n",
        "\n",
        "import seaborn as sns\n",
        "\n",
        "ax = sns.heatmap(infoG_matrix, annot=True, cmap='Greens_r')\n",
        "\n",
        "ax.set_title('Confusion Matrix \\n\\n');\n",
        "ax.set_xlabel('\\nPredicted Values')\n",
        "ax.set_ylabel('Actual Values ');\n",
        "\n",
        "## Ticket labels - List must be in alphabetical order\n",
        "ax.xaxis.set_ticklabels(['False','True'])\n",
        "ax.yaxis.set_ticklabels(['False','True'])\n",
        "\n",
        "## Display the visualization of the Confusion Matrix.\n",
        "plt.show()"
      ],
      "metadata": {
        "colab": {
          "base_uri": "https://localhost:8080/",
          "height": 372
        },
        "id": "Q-gUxJcXCgTl",
        "outputId": "c27e7e27-fcd1-46d6-e3a6-f1ca548e0da5"
      },
      "execution_count": 105,
      "outputs": [
        {
          "output_type": "stream",
          "name": "stdout",
          "text": [
            "[[60  5]\n",
            " [ 3 65]]\n"
          ]
        },
        {
          "output_type": "display_data",
          "data": {
            "text/plain": [
              "<Figure size 432x288 with 2 Axes>"
            ],
            "image/png": "[encoded data removed]"
          },
          "metadata": {
            "needs_background": "light"
          }
        }
      ]
    },
    {
      "cell_type": "code",
      "source": [
        "print(\"Accuracy:\",accuracy_score(y_test, y_test_pred)*100)"
      ],
      "metadata": {
        "colab": {
          "base_uri": "https://localhost:8080/"
        },
        "id": "U_EO1cqHCuXg",
        "outputId": "98437153-5aaa-4ff2-d0bf-e54b5e6fcd28"
      },
      "execution_count": 106,
      "outputs": [
        {
          "output_type": "stream",
          "name": "stdout",
          "text": [
            "Accuracy: 93.98496240601504\n"
          ]
        }
      ]
    },
    {
      "cell_type": "markdown",
      "source": [
        "without pre-pruning\n",
        "\n",
        "---\n",
        "\n",
        "\n",
        "\n",
        "---\n",
        "\n"
      ],
      "metadata": {
        "id": "dZmZvN4OdkbV"
      }
    },
    {
      "cell_type": "code",
      "source": [
        "from sklearn import tree\n",
        "from sklearn.tree import DecisionTreeClassifier\n",
        "from sklearn.tree import export_graphviz\n",
        "import graphviz \n",
        "\n",
        "\n",
        "# Information gain\n",
        "DT= DecisionTreeClassifier(criterion=\"entropy\")\n",
        "DT = DT.fit(x_train, y_train)\n",
        "\n",
        "\n",
        "#Vizualizing the tree\n",
        "feature_names = list(X.columns)\n",
        "infoG_tree = tree.export_graphviz(DT, out_file= None, \n",
        "                                feature_names=feature_names,\n",
        "                                class_names=['0','1'],\n",
        "                                filled=True, rounded=True,  \n",
        "                                special_characters=True)\n",
        "\n",
        "infoG_graph = graphviz.Source(infoG_tree)\n",
        "infoG_graph\n"
      ],
      "metadata": {
        "colab": {
          "base_uri": "https://localhost:8080/",
          "height": 1000
        },
        "id": "PsxGhAcWdoUa",
        "outputId": "ee68e8c6-f5ad-4e6a-86d0-aeb787a9dc1b"
      },
      "execution_count": 107,
      "outputs": [
        {
          "output_type": "execute_result",
          "data": {
            "text/plain": [
              "<graphviz.files.Source at 0x7f8ac64dddd0>"
            ],
            "image/svg+xml": "<?xml version=\"1.0\" encoding=\"UTF-8\" standalone=\"no\"?>\n<!DOCTYPE svg PUBLIC \"-//W3C//DTD SVG 1.1//EN\"\n \"http://www.w3.org/Graphics/SVG/1.1/DTD/svg11.dtd\">\n<!-- Generated by graphviz version 2.40.1 (20161225.0304)\n -->\n<!-- Title: Tree Pages: 1 -->\n<svg width=\"1266pt\" height=\"790pt\"\n viewBox=\"0.00 0.00 1265.50 790.00\" xmlns=\"http://www.w3.org/2000/svg\" xmlns:xlink=\"http://www.w3.org/1999/xlink\">\n<g id=\"graph0\" class=\"graph\" transform=\"scale(1 1) rotate(0) translate(4 786)\">\n<title>Tree</title>\n<polygon fill=\"#ffffff\" stroke=\"transparent\" points=\"-4,4 -4,-786 1261.5,-786 1261.5,4 -4,4\"/>\n<!-- 0 -->\n<g id=\"node1\" class=\"node\">\n<title>0</title>\n<path fill=\"#fffefd\" stroke=\"#000000\" d=\"M624,-782C624,-782 472,-782 472,-782 466,-782 460,-776 460,-770 460,-770 460,-711 460,-711 460,-705 466,-699 472,-699 472,-699 624,-699 624,-699 630,-699 636,-705 636,-711 636,-711 636,-770 636,-770 636,-776 630,-782 624,-782\"/>\n<text text-anchor=\"start\" x=\"468\" y=\"-766.8\" font-family=\"Helvetica,sans-Serif\" font-size=\"14.00\" fill=\"#000000\">perimeter_worst ≤ &#45;0.344</text>\n<text text-anchor=\"start\" x=\"505.5\" y=\"-751.8\" font-family=\"Helvetica,sans-Serif\" font-size=\"14.00\" fill=\"#000000\">entropy = 1.0</text>\n<text text-anchor=\"start\" x=\"500\" y=\"-736.8\" font-family=\"Helvetica,sans-Serif\" font-size=\"14.00\" fill=\"#000000\">samples = 531</text>\n<text text-anchor=\"start\" x=\"490\" y=\"-721.8\" font-family=\"Helvetica,sans-Serif\" font-size=\"14.00\" fill=\"#000000\">value = [267, 264]</text>\n<text text-anchor=\"start\" x=\"519\" y=\"-706.8\" font-family=\"Helvetica,sans-Serif\" font-size=\"14.00\" fill=\"#000000\">class = 0</text>\n</g>\n<!-- 1 -->\n<g id=\"node2\" class=\"node\">\n<title>1</title>\n<path fill=\"#e5833c\" stroke=\"#000000\" d=\"M500,-663C500,-663 402,-663 402,-663 396,-663 390,-657 390,-651 390,-651 390,-592 390,-592 390,-586 396,-580 402,-580 402,-580 500,-580 500,-580 506,-580 512,-586 512,-592 512,-592 512,-651 512,-651 512,-657 506,-663 500,-663\"/>\n<text text-anchor=\"start\" x=\"398\" y=\"-647.8\" font-family=\"Helvetica,sans-Serif\" font-size=\"14.00\" fill=\"#000000\">area_se ≤ 0.261</text>\n<text text-anchor=\"start\" x=\"400\" y=\"-632.8\" font-family=\"Helvetica,sans-Serif\" font-size=\"14.00\" fill=\"#000000\">entropy = 0.125</text>\n<text text-anchor=\"start\" x=\"403\" y=\"-617.8\" font-family=\"Helvetica,sans-Serif\" font-size=\"14.00\" fill=\"#000000\">samples = 234</text>\n<text text-anchor=\"start\" x=\"401\" y=\"-602.8\" font-family=\"Helvetica,sans-Serif\" font-size=\"14.00\" fill=\"#000000\">value = [230, 4]</text>\n<text text-anchor=\"start\" x=\"422\" y=\"-587.8\" font-family=\"Helvetica,sans-Serif\" font-size=\"14.00\" fill=\"#000000\">class = 0</text>\n</g>\n<!-- 0&#45;&gt;1 -->\n<g id=\"edge1\" class=\"edge\">\n<title>0&#45;&gt;1</title>\n<path fill=\"none\" stroke=\"#000000\" d=\"M514.0741,-698.8796C506.8062,-689.9633 499.057,-680.4565 491.5672,-671.268\"/>\n<polygon fill=\"#000000\" stroke=\"#000000\" points=\"494.1018,-668.8379 485.0707,-663.2981 488.676,-673.2606 494.1018,-668.8379\"/>\n<text text-anchor=\"middle\" x=\"482.5375\" y=\"-684.4694\" font-family=\"Helvetica,sans-Serif\" font-size=\"14.00\" fill=\"#000000\">True</text>\n</g>\n<!-- 12 -->\n<g id=\"node13\" class=\"node\">\n<title>12</title>\n<path fill=\"#55abe9\" stroke=\"#000000\" d=\"M736,-663C736,-663 596,-663 596,-663 590,-663 584,-657 584,-651 584,-651 584,-592 584,-592 584,-586 590,-580 596,-580 596,-580 736,-580 736,-580 742,-580 748,-586 748,-592 748,-592 748,-651 748,-651 748,-657 742,-663 736,-663\"/>\n<text text-anchor=\"start\" x=\"592\" y=\"-647.8\" font-family=\"Helvetica,sans-Serif\" font-size=\"14.00\" fill=\"#000000\">perimeter_worst ≤ 0.13</text>\n<text text-anchor=\"start\" x=\"615\" y=\"-632.8\" font-family=\"Helvetica,sans-Serif\" font-size=\"14.00\" fill=\"#000000\">entropy = 0.542</text>\n<text text-anchor=\"start\" x=\"618\" y=\"-617.8\" font-family=\"Helvetica,sans-Serif\" font-size=\"14.00\" fill=\"#000000\">samples = 297</text>\n<text text-anchor=\"start\" x=\"612\" y=\"-602.8\" font-family=\"Helvetica,sans-Serif\" font-size=\"14.00\" fill=\"#000000\">value = [37, 260]</text>\n<text text-anchor=\"start\" x=\"637\" y=\"-587.8\" font-family=\"Helvetica,sans-Serif\" font-size=\"14.00\" fill=\"#000000\">class = 1</text>\n</g>\n<!-- 0&#45;&gt;12 -->\n<g id=\"edge12\" class=\"edge\">\n<title>0&#45;&gt;12</title>\n<path fill=\"none\" stroke=\"#000000\" d=\"M589.2707,-698.8796C598.3799,-689.6931 608.1108,-679.8798 617.4776,-670.4336\"/>\n<polygon fill=\"#000000\" stroke=\"#000000\" points=\"619.9973,-672.8634 624.5532,-663.2981 615.0267,-667.9345 619.9973,-672.8634\"/>\n<text text-anchor=\"middle\" x=\"624.6587\" y=\"-684.5978\" font-family=\"Helvetica,sans-Serif\" font-size=\"14.00\" fill=\"#000000\">False</text>\n</g>\n<!-- 2 -->\n<g id=\"node3\" class=\"node\">\n<title>2</title>\n<path fill=\"#e5823b\" stroke=\"#000000\" d=\"M277.5,-544C277.5,-544 146.5,-544 146.5,-544 140.5,-544 134.5,-538 134.5,-532 134.5,-532 134.5,-473 134.5,-473 134.5,-467 140.5,-461 146.5,-461 146.5,-461 277.5,-461 277.5,-461 283.5,-461 289.5,-467 289.5,-473 289.5,-473 289.5,-532 289.5,-532 289.5,-538 283.5,-544 277.5,-544\"/>\n<text text-anchor=\"start\" x=\"142.5\" y=\"-528.8\" font-family=\"Helvetica,sans-Serif\" font-size=\"14.00\" fill=\"#000000\">texture_worst ≤ 1.123</text>\n<text text-anchor=\"start\" x=\"161\" y=\"-513.8\" font-family=\"Helvetica,sans-Serif\" font-size=\"14.00\" fill=\"#000000\">entropy = 0.072</text>\n<text text-anchor=\"start\" x=\"164\" y=\"-498.8\" font-family=\"Helvetica,sans-Serif\" font-size=\"14.00\" fill=\"#000000\">samples = 231</text>\n<text text-anchor=\"start\" x=\"162\" y=\"-483.8\" font-family=\"Helvetica,sans-Serif\" font-size=\"14.00\" fill=\"#000000\">value = [229, 2]</text>\n<text text-anchor=\"start\" x=\"183\" y=\"-468.8\" font-family=\"Helvetica,sans-Serif\" font-size=\"14.00\" fill=\"#000000\">class = 0</text>\n</g>\n<!-- 1&#45;&gt;2 -->\n<g id=\"edge2\" class=\"edge\">\n<title>1&#45;&gt;2</title>\n<path fill=\"none\" stroke=\"#000000\" d=\"M389.7619,-591.0091C362.1873,-577.2794 329.133,-560.8214 299.0479,-545.8418\"/>\n<polygon fill=\"#000000\" stroke=\"#000000\" points=\"300.3276,-542.5692 289.8158,-541.2451 297.2075,-548.8354 300.3276,-542.5692\"/>\n</g>\n<!-- 9 -->\n<g id=\"node10\" class=\"node\">\n<title>9</title>\n<path fill=\"#9ccef2\" stroke=\"#000000\" d=\"M536,-544C536,-544 366,-544 366,-544 360,-544 354,-538 354,-532 354,-532 354,-473 354,-473 354,-467 360,-461 366,-461 366,-461 536,-461 536,-461 542,-461 548,-467 548,-473 548,-473 548,-532 548,-532 548,-538 542,-544 536,-544\"/>\n<text text-anchor=\"start\" x=\"362\" y=\"-528.8\" font-family=\"Helvetica,sans-Serif\" font-size=\"14.00\" fill=\"#000000\">compactness_worst ≤ &#45;1.32</text>\n<text text-anchor=\"start\" x=\"400\" y=\"-513.8\" font-family=\"Helvetica,sans-Serif\" font-size=\"14.00\" fill=\"#000000\">entropy = 0.918</text>\n<text text-anchor=\"start\" x=\"411.5\" y=\"-498.8\" font-family=\"Helvetica,sans-Serif\" font-size=\"14.00\" fill=\"#000000\">samples = 3</text>\n<text text-anchor=\"start\" x=\"409.5\" y=\"-483.8\" font-family=\"Helvetica,sans-Serif\" font-size=\"14.00\" fill=\"#000000\">value = [1, 2]</text>\n<text text-anchor=\"start\" x=\"422\" y=\"-468.8\" font-family=\"Helvetica,sans-Serif\" font-size=\"14.00\" fill=\"#000000\">class = 1</text>\n</g>\n<!-- 1&#45;&gt;9 -->\n<g id=\"edge9\" class=\"edge\">\n<title>1&#45;&gt;9</title>\n<path fill=\"none\" stroke=\"#000000\" d=\"M451,-579.8796C451,-571.6838 451,-562.9891 451,-554.5013\"/>\n<polygon fill=\"#000000\" stroke=\"#000000\" points=\"454.5001,-554.298 451,-544.2981 447.5001,-554.2981 454.5001,-554.298\"/>\n</g>\n<!-- 3 -->\n<g id=\"node4\" class=\"node\">\n<title>3</title>\n<path fill=\"#e58139\" stroke=\"#000000\" d=\"M104,-417.5C104,-417.5 12,-417.5 12,-417.5 6,-417.5 0,-411.5 0,-405.5 0,-405.5 0,-361.5 0,-361.5 0,-355.5 6,-349.5 12,-349.5 12,-349.5 104,-349.5 104,-349.5 110,-349.5 116,-355.5 116,-361.5 116,-361.5 116,-405.5 116,-405.5 116,-411.5 110,-417.5 104,-417.5\"/>\n<text text-anchor=\"start\" x=\"15.5\" y=\"-402.3\" font-family=\"Helvetica,sans-Serif\" font-size=\"14.00\" fill=\"#000000\">entropy = 0.0</text>\n<text text-anchor=\"start\" x=\"10\" y=\"-387.3\" font-family=\"Helvetica,sans-Serif\" font-size=\"14.00\" fill=\"#000000\">samples = 212</text>\n<text text-anchor=\"start\" x=\"8\" y=\"-372.3\" font-family=\"Helvetica,sans-Serif\" font-size=\"14.00\" fill=\"#000000\">value = [212, 0]</text>\n<text text-anchor=\"start\" x=\"29\" y=\"-357.3\" font-family=\"Helvetica,sans-Serif\" font-size=\"14.00\" fill=\"#000000\">class = 0</text>\n</g>\n<!-- 2&#45;&gt;3 -->\n<g id=\"edge3\" class=\"edge\">\n<title>2&#45;&gt;3</title>\n<path fill=\"none\" stroke=\"#000000\" d=\"M158.1383,-460.8796C142.7696,-449.0038 126.0453,-436.0804 110.7441,-424.2568\"/>\n<polygon fill=\"#000000\" stroke=\"#000000\" points=\"112.4605,-421.1599 102.4076,-417.8149 108.1804,-426.699 112.4605,-421.1599\"/>\n</g>\n<!-- 4 -->\n<g id=\"node5\" class=\"node\">\n<title>4</title>\n<path fill=\"#e89050\" stroke=\"#000000\" d=\"M277.5,-425C277.5,-425 146.5,-425 146.5,-425 140.5,-425 134.5,-419 134.5,-413 134.5,-413 134.5,-354 134.5,-354 134.5,-348 140.5,-342 146.5,-342 146.5,-342 277.5,-342 277.5,-342 283.5,-342 289.5,-348 289.5,-354 289.5,-354 289.5,-413 289.5,-413 289.5,-419 283.5,-425 277.5,-425\"/>\n<text text-anchor=\"start\" x=\"142.5\" y=\"-409.8\" font-family=\"Helvetica,sans-Serif\" font-size=\"14.00\" fill=\"#000000\">radius_worst ≤ &#45;0.599</text>\n<text text-anchor=\"start\" x=\"161\" y=\"-394.8\" font-family=\"Helvetica,sans-Serif\" font-size=\"14.00\" fill=\"#000000\">entropy = 0.485</text>\n<text text-anchor=\"start\" x=\"168\" y=\"-379.8\" font-family=\"Helvetica,sans-Serif\" font-size=\"14.00\" fill=\"#000000\">samples = 19</text>\n<text text-anchor=\"start\" x=\"166.5\" y=\"-364.8\" font-family=\"Helvetica,sans-Serif\" font-size=\"14.00\" fill=\"#000000\">value = [17, 2]</text>\n<text text-anchor=\"start\" x=\"183\" y=\"-349.8\" font-family=\"Helvetica,sans-Serif\" font-size=\"14.00\" fill=\"#000000\">class = 0</text>\n</g>\n<!-- 2&#45;&gt;4 -->\n<g id=\"edge4\" class=\"edge\">\n<title>2&#45;&gt;4</title>\n<path fill=\"none\" stroke=\"#000000\" d=\"M212,-460.8796C212,-452.6838 212,-443.9891 212,-435.5013\"/>\n<polygon fill=\"#000000\" stroke=\"#000000\" points=\"215.5001,-435.298 212,-425.2981 208.5001,-435.2981 215.5001,-435.298\"/>\n</g>\n<!-- 5 -->\n<g id=\"node6\" class=\"node\">\n<title>5</title>\n<path fill=\"#e58139\" stroke=\"#000000\" d=\"M137.5,-298.5C137.5,-298.5 54.5,-298.5 54.5,-298.5 48.5,-298.5 42.5,-292.5 42.5,-286.5 42.5,-286.5 42.5,-242.5 42.5,-242.5 42.5,-236.5 48.5,-230.5 54.5,-230.5 54.5,-230.5 137.5,-230.5 137.5,-230.5 143.5,-230.5 149.5,-236.5 149.5,-242.5 149.5,-242.5 149.5,-286.5 149.5,-286.5 149.5,-292.5 143.5,-298.5 137.5,-298.5\"/>\n<text text-anchor=\"start\" x=\"53.5\" y=\"-283.3\" font-family=\"Helvetica,sans-Serif\" font-size=\"14.00\" fill=\"#000000\">entropy = 0.0</text>\n<text text-anchor=\"start\" x=\"52\" y=\"-268.3\" font-family=\"Helvetica,sans-Serif\" font-size=\"14.00\" fill=\"#000000\">samples = 16</text>\n<text text-anchor=\"start\" x=\"50.5\" y=\"-253.3\" font-family=\"Helvetica,sans-Serif\" font-size=\"14.00\" fill=\"#000000\">value = [16, 0]</text>\n<text text-anchor=\"start\" x=\"67\" y=\"-238.3\" font-family=\"Helvetica,sans-Serif\" font-size=\"14.00\" fill=\"#000000\">class = 0</text>\n</g>\n<!-- 4&#45;&gt;5 -->\n<g id=\"edge5\" class=\"edge\">\n<title>4&#45;&gt;5</title>\n<path fill=\"none\" stroke=\"#000000\" d=\"M171.4288,-341.8796C160.174,-330.3337 147.9539,-317.7976 136.6922,-306.2446\"/>\n<polygon fill=\"#000000\" stroke=\"#000000\" points=\"138.9364,-303.5326 129.4499,-298.8149 133.9238,-308.4188 138.9364,-303.5326\"/>\n</g>\n<!-- 6 -->\n<g id=\"node7\" class=\"node\">\n<title>6</title>\n<path fill=\"#9ccef2\" stroke=\"#000000\" d=\"M370,-306C370,-306 180,-306 180,-306 174,-306 168,-300 168,-294 168,-294 168,-235 168,-235 168,-229 174,-223 180,-223 180,-223 370,-223 370,-223 376,-223 382,-229 382,-235 382,-235 382,-294 382,-294 382,-300 376,-306 370,-306\"/>\n<text text-anchor=\"start\" x=\"176\" y=\"-290.8\" font-family=\"Helvetica,sans-Serif\" font-size=\"14.00\" fill=\"#000000\">concave points_worst ≤ &#45;0.792</text>\n<text text-anchor=\"start\" x=\"224\" y=\"-275.8\" font-family=\"Helvetica,sans-Serif\" font-size=\"14.00\" fill=\"#000000\">entropy = 0.918</text>\n<text text-anchor=\"start\" x=\"235.5\" y=\"-260.8\" font-family=\"Helvetica,sans-Serif\" font-size=\"14.00\" fill=\"#000000\">samples = 3</text>\n<text text-anchor=\"start\" x=\"233.5\" y=\"-245.8\" font-family=\"Helvetica,sans-Serif\" font-size=\"14.00\" fill=\"#000000\">value = [1, 2]</text>\n<text text-anchor=\"start\" x=\"246\" y=\"-230.8\" font-family=\"Helvetica,sans-Serif\" font-size=\"14.00\" fill=\"#000000\">class = 1</text>\n</g>\n<!-- 4&#45;&gt;6 -->\n<g id=\"edge6\" class=\"edge\">\n<title>4&#45;&gt;6</title>\n<path fill=\"none\" stroke=\"#000000\" d=\"M234.0343,-341.8796C238.564,-333.3236 243.3815,-324.2238 248.0618,-315.3833\"/>\n<polygon fill=\"#000000\" stroke=\"#000000\" points=\"251.2859,-316.7736 252.8716,-306.2981 245.0994,-313.4983 251.2859,-316.7736\"/>\n</g>\n<!-- 7 -->\n<g id=\"node8\" class=\"node\">\n<title>7</title>\n<path fill=\"#e58139\" stroke=\"#000000\" d=\"M253.5,-179.5C253.5,-179.5 176.5,-179.5 176.5,-179.5 170.5,-179.5 164.5,-173.5 164.5,-167.5 164.5,-167.5 164.5,-123.5 164.5,-123.5 164.5,-117.5 170.5,-111.5 176.5,-111.5 176.5,-111.5 253.5,-111.5 253.5,-111.5 259.5,-111.5 265.5,-117.5 265.5,-123.5 265.5,-123.5 265.5,-167.5 265.5,-167.5 265.5,-173.5 259.5,-179.5 253.5,-179.5\"/>\n<text text-anchor=\"start\" x=\"172.5\" y=\"-164.3\" font-family=\"Helvetica,sans-Serif\" font-size=\"14.00\" fill=\"#000000\">entropy = 0.0</text>\n<text text-anchor=\"start\" x=\"175.5\" y=\"-149.3\" font-family=\"Helvetica,sans-Serif\" font-size=\"14.00\" fill=\"#000000\">samples = 1</text>\n<text text-anchor=\"start\" x=\"173.5\" y=\"-134.3\" font-family=\"Helvetica,sans-Serif\" font-size=\"14.00\" fill=\"#000000\">value = [1, 0]</text>\n<text text-anchor=\"start\" x=\"186\" y=\"-119.3\" font-family=\"Helvetica,sans-Serif\" font-size=\"14.00\" fill=\"#000000\">class = 0</text>\n</g>\n<!-- 6&#45;&gt;7 -->\n<g id=\"edge7\" class=\"edge\">\n<title>6&#45;&gt;7</title>\n<path fill=\"none\" stroke=\"#000000\" d=\"M254.0149,-222.8796C248.4707,-211.8835 242.4736,-199.9893 236.8831,-188.9015\"/>\n<polygon fill=\"#000000\" stroke=\"#000000\" points=\"239.9291,-187.1684 232.3016,-179.8149 233.6786,-190.3199 239.9291,-187.1684\"/>\n</g>\n<!-- 8 -->\n<g id=\"node9\" class=\"node\">\n<title>8</title>\n<path fill=\"#399de5\" stroke=\"#000000\" d=\"M372.5,-179.5C372.5,-179.5 295.5,-179.5 295.5,-179.5 289.5,-179.5 283.5,-173.5 283.5,-167.5 283.5,-167.5 283.5,-123.5 283.5,-123.5 283.5,-117.5 289.5,-111.5 295.5,-111.5 295.5,-111.5 372.5,-111.5 372.5,-111.5 378.5,-111.5 384.5,-117.5 384.5,-123.5 384.5,-123.5 384.5,-167.5 384.5,-167.5 384.5,-173.5 378.5,-179.5 372.5,-179.5\"/>\n<text text-anchor=\"start\" x=\"291.5\" y=\"-164.3\" font-family=\"Helvetica,sans-Serif\" font-size=\"14.00\" fill=\"#000000\">entropy = 0.0</text>\n<text text-anchor=\"start\" x=\"294.5\" y=\"-149.3\" font-family=\"Helvetica,sans-Serif\" font-size=\"14.00\" fill=\"#000000\">samples = 2</text>\n<text text-anchor=\"start\" x=\"292.5\" y=\"-134.3\" font-family=\"Helvetica,sans-Serif\" font-size=\"14.00\" fill=\"#000000\">value = [0, 2]</text>\n<text text-anchor=\"start\" x=\"305\" y=\"-119.3\" font-family=\"Helvetica,sans-Serif\" font-size=\"14.00\" fill=\"#000000\">class = 1</text>\n</g>\n<!-- 6&#45;&gt;8 -->\n<g id=\"edge8\" class=\"edge\">\n<title>6&#45;&gt;8</title>\n<path fill=\"none\" stroke=\"#000000\" d=\"M295.6353,-222.8796C301.0872,-211.8835 306.9843,-199.9893 312.4816,-188.9015\"/>\n<polygon fill=\"#000000\" stroke=\"#000000\" points=\"315.6804,-190.3289 316.9867,-179.8149 309.4089,-187.2195 315.6804,-190.3289\"/>\n</g>\n<!-- 10 -->\n<g id=\"node11\" class=\"node\">\n<title>10</title>\n<path fill=\"#399de5\" stroke=\"#000000\" d=\"M396.5,-417.5C396.5,-417.5 319.5,-417.5 319.5,-417.5 313.5,-417.5 307.5,-411.5 307.5,-405.5 307.5,-405.5 307.5,-361.5 307.5,-361.5 307.5,-355.5 313.5,-349.5 319.5,-349.5 319.5,-349.5 396.5,-349.5 396.5,-349.5 402.5,-349.5 408.5,-355.5 408.5,-361.5 408.5,-361.5 408.5,-405.5 408.5,-405.5 408.5,-411.5 402.5,-417.5 396.5,-417.5\"/>\n<text text-anchor=\"start\" x=\"315.5\" y=\"-402.3\" font-family=\"Helvetica,sans-Serif\" font-size=\"14.00\" fill=\"#000000\">entropy = 0.0</text>\n<text text-anchor=\"start\" x=\"318.5\" y=\"-387.3\" font-family=\"Helvetica,sans-Serif\" font-size=\"14.00\" fill=\"#000000\">samples = 2</text>\n<text text-anchor=\"start\" x=\"316.5\" y=\"-372.3\" font-family=\"Helvetica,sans-Serif\" font-size=\"14.00\" fill=\"#000000\">value = [0, 2]</text>\n<text text-anchor=\"start\" x=\"329\" y=\"-357.3\" font-family=\"Helvetica,sans-Serif\" font-size=\"14.00\" fill=\"#000000\">class = 1</text>\n</g>\n<!-- 9&#45;&gt;10 -->\n<g id=\"edge10\" class=\"edge\">\n<title>9&#45;&gt;10</title>\n<path fill=\"none\" stroke=\"#000000\" d=\"M418.4731,-460.8796C409.6217,-449.5536 400.0257,-437.2748 391.1407,-425.9058\"/>\n<polygon fill=\"#000000\" stroke=\"#000000\" points=\"393.7331,-423.539 384.8176,-417.8149 388.2176,-427.8494 393.7331,-423.539\"/>\n</g>\n<!-- 11 -->\n<g id=\"node12\" class=\"node\">\n<title>11</title>\n<path fill=\"#e58139\" stroke=\"#000000\" d=\"M515.5,-417.5C515.5,-417.5 438.5,-417.5 438.5,-417.5 432.5,-417.5 426.5,-411.5 426.5,-405.5 426.5,-405.5 426.5,-361.5 426.5,-361.5 426.5,-355.5 432.5,-349.5 438.5,-349.5 438.5,-349.5 515.5,-349.5 515.5,-349.5 521.5,-349.5 527.5,-355.5 527.5,-361.5 527.5,-361.5 527.5,-405.5 527.5,-405.5 527.5,-411.5 521.5,-417.5 515.5,-417.5\"/>\n<text text-anchor=\"start\" x=\"434.5\" y=\"-402.3\" font-family=\"Helvetica,sans-Serif\" font-size=\"14.00\" fill=\"#000000\">entropy = 0.0</text>\n<text text-anchor=\"start\" x=\"437.5\" y=\"-387.3\" font-family=\"Helvetica,sans-Serif\" font-size=\"14.00\" fill=\"#000000\">samples = 1</text>\n<text text-anchor=\"start\" x=\"435.5\" y=\"-372.3\" font-family=\"Helvetica,sans-Serif\" font-size=\"14.00\" fill=\"#000000\">value = [1, 0]</text>\n<text text-anchor=\"start\" x=\"448\" y=\"-357.3\" font-family=\"Helvetica,sans-Serif\" font-size=\"14.00\" fill=\"#000000\">class = 0</text>\n</g>\n<!-- 9&#45;&gt;11 -->\n<g id=\"edge11\" class=\"edge\">\n<title>9&#45;&gt;11</title>\n<path fill=\"none\" stroke=\"#000000\" d=\"M460.0935,-460.8796C462.424,-450.2134 464.939,-438.7021 467.2988,-427.9015\"/>\n<polygon fill=\"#000000\" stroke=\"#000000\" points=\"470.7874,-428.3316 469.5026,-417.8149 463.9487,-426.8374 470.7874,-428.3316\"/>\n</g>\n<!-- 13 -->\n<g id=\"node14\" class=\"node\">\n<title>13</title>\n<path fill=\"#b4daf5\" stroke=\"#000000\" d=\"M734,-544C734,-544 598,-544 598,-544 592,-544 586,-538 586,-532 586,-532 586,-473 586,-473 586,-467 592,-461 598,-461 598,-461 734,-461 734,-461 740,-461 746,-467 746,-473 746,-473 746,-532 746,-532 746,-538 740,-544 734,-544\"/>\n<text text-anchor=\"start\" x=\"594\" y=\"-528.8\" font-family=\"Helvetica,sans-Serif\" font-size=\"14.00\" fill=\"#000000\">texture_worst ≤ &#45;0.016</text>\n<text text-anchor=\"start\" x=\"619\" y=\"-513.8\" font-family=\"Helvetica,sans-Serif\" font-size=\"14.00\" fill=\"#000000\">entropy = 0.96</text>\n<text text-anchor=\"start\" x=\"622\" y=\"-498.8\" font-family=\"Helvetica,sans-Serif\" font-size=\"14.00\" fill=\"#000000\">samples = 94</text>\n<text text-anchor=\"start\" x=\"616\" y=\"-483.8\" font-family=\"Helvetica,sans-Serif\" font-size=\"14.00\" fill=\"#000000\">value = [36, 58]</text>\n<text text-anchor=\"start\" x=\"637\" y=\"-468.8\" font-family=\"Helvetica,sans-Serif\" font-size=\"14.00\" fill=\"#000000\">class = 1</text>\n</g>\n<!-- 12&#45;&gt;13 -->\n<g id=\"edge13\" class=\"edge\">\n<title>12&#45;&gt;13</title>\n<path fill=\"none\" stroke=\"#000000\" d=\"M666,-579.8796C666,-571.6838 666,-562.9891 666,-554.5013\"/>\n<polygon fill=\"#000000\" stroke=\"#000000\" points=\"669.5001,-554.298 666,-544.2981 662.5001,-554.2981 669.5001,-554.298\"/>\n</g>\n<!-- 28 -->\n<g id=\"node29\" class=\"node\">\n<title>28</title>\n<path fill=\"#3a9de5\" stroke=\"#000000\" d=\"M1088.5,-544C1088.5,-544 935.5,-544 935.5,-544 929.5,-544 923.5,-538 923.5,-532 923.5,-532 923.5,-473 923.5,-473 923.5,-467 929.5,-461 935.5,-461 935.5,-461 1088.5,-461 1088.5,-461 1094.5,-461 1100.5,-467 1100.5,-473 1100.5,-473 1100.5,-532 1100.5,-532 1100.5,-538 1094.5,-544 1088.5,-544\"/>\n<text text-anchor=\"start\" x=\"931.5\" y=\"-528.8\" font-family=\"Helvetica,sans-Serif\" font-size=\"14.00\" fill=\"#000000\">concavity_worst ≤ &#45;0.978</text>\n<text text-anchor=\"start\" x=\"961\" y=\"-513.8\" font-family=\"Helvetica,sans-Serif\" font-size=\"14.00\" fill=\"#000000\">entropy = 0.045</text>\n<text text-anchor=\"start\" x=\"964\" y=\"-498.8\" font-family=\"Helvetica,sans-Serif\" font-size=\"14.00\" fill=\"#000000\">samples = 203</text>\n<text text-anchor=\"start\" x=\"962\" y=\"-483.8\" font-family=\"Helvetica,sans-Serif\" font-size=\"14.00\" fill=\"#000000\">value = [1, 202]</text>\n<text text-anchor=\"start\" x=\"983\" y=\"-468.8\" font-family=\"Helvetica,sans-Serif\" font-size=\"14.00\" fill=\"#000000\">class = 1</text>\n</g>\n<!-- 12&#45;&gt;28 -->\n<g id=\"edge28\" class=\"edge\">\n<title>12&#45;&gt;28</title>\n<path fill=\"none\" stroke=\"#000000\" d=\"M748.436,-593.1477C798.0189,-576.0947 861.424,-554.2877 913.619,-536.3362\"/>\n<polygon fill=\"#000000\" stroke=\"#000000\" points=\"914.9106,-539.5933 923.2286,-533.0312 912.6339,-532.9739 914.9106,-539.5933\"/>\n</g>\n<!-- 14 -->\n<g id=\"node15\" class=\"node\">\n<title>14</title>\n<path fill=\"#e88f4f\" stroke=\"#000000\" d=\"M724.5,-425C724.5,-425 557.5,-425 557.5,-425 551.5,-425 545.5,-419 545.5,-413 545.5,-413 545.5,-354 545.5,-354 545.5,-348 551.5,-342 557.5,-342 557.5,-342 724.5,-342 724.5,-342 730.5,-342 736.5,-348 736.5,-354 736.5,-354 736.5,-413 736.5,-413 736.5,-419 730.5,-425 724.5,-425\"/>\n<text text-anchor=\"start\" x=\"553.5\" y=\"-409.8\" font-family=\"Helvetica,sans-Serif\" font-size=\"14.00\" fill=\"#000000\">smoothness_worst ≤ 0.318</text>\n<text text-anchor=\"start\" x=\"590\" y=\"-394.8\" font-family=\"Helvetica,sans-Serif\" font-size=\"14.00\" fill=\"#000000\">entropy = 0.469</text>\n<text text-anchor=\"start\" x=\"597\" y=\"-379.8\" font-family=\"Helvetica,sans-Serif\" font-size=\"14.00\" fill=\"#000000\">samples = 30</text>\n<text text-anchor=\"start\" x=\"595.5\" y=\"-364.8\" font-family=\"Helvetica,sans-Serif\" font-size=\"14.00\" fill=\"#000000\">value = [27, 3]</text>\n<text text-anchor=\"start\" x=\"612\" y=\"-349.8\" font-family=\"Helvetica,sans-Serif\" font-size=\"14.00\" fill=\"#000000\">class = 0</text>\n</g>\n<!-- 13&#45;&gt;14 -->\n<g id=\"edge14\" class=\"edge\">\n<title>13&#45;&gt;14</title>\n<path fill=\"none\" stroke=\"#000000\" d=\"M657.2562,-460.8796C655.5155,-452.5938 653.6676,-443.798 651.8659,-435.2216\"/>\n<polygon fill=\"#000000\" stroke=\"#000000\" points=\"655.2624,-434.3648 649.7811,-425.2981 648.4119,-435.8041 655.2624,-434.3648\"/>\n</g>\n<!-- 19 -->\n<g id=\"node20\" class=\"node\">\n<title>19</title>\n<path fill=\"#59ade9\" stroke=\"#000000\" d=\"M931.5,-425C931.5,-425 766.5,-425 766.5,-425 760.5,-425 754.5,-419 754.5,-413 754.5,-413 754.5,-354 754.5,-354 754.5,-348 760.5,-342 766.5,-342 766.5,-342 931.5,-342 931.5,-342 937.5,-342 943.5,-348 943.5,-354 943.5,-354 943.5,-413 943.5,-413 943.5,-419 937.5,-425 931.5,-425\"/>\n<text text-anchor=\"start\" x=\"762.5\" y=\"-409.8\" font-family=\"Helvetica,sans-Serif\" font-size=\"14.00\" fill=\"#000000\">smoothness_mean ≤ &#45;0.49</text>\n<text text-anchor=\"start\" x=\"798\" y=\"-394.8\" font-family=\"Helvetica,sans-Serif\" font-size=\"14.00\" fill=\"#000000\">entropy = 0.586</text>\n<text text-anchor=\"start\" x=\"805\" y=\"-379.8\" font-family=\"Helvetica,sans-Serif\" font-size=\"14.00\" fill=\"#000000\">samples = 64</text>\n<text text-anchor=\"start\" x=\"803.5\" y=\"-364.8\" font-family=\"Helvetica,sans-Serif\" font-size=\"14.00\" fill=\"#000000\">value = [9, 55]</text>\n<text text-anchor=\"start\" x=\"820\" y=\"-349.8\" font-family=\"Helvetica,sans-Serif\" font-size=\"14.00\" fill=\"#000000\">class = 1</text>\n</g>\n<!-- 13&#45;&gt;19 -->\n<g id=\"edge19\" class=\"edge\">\n<title>13&#45;&gt;19</title>\n<path fill=\"none\" stroke=\"#000000\" d=\"M730.0045,-460.8796C745.0495,-451.0962 761.1879,-440.6019 776.5733,-430.5971\"/>\n<polygon fill=\"#000000\" stroke=\"#000000\" points=\"778.5563,-433.4827 785.0316,-425.0969 774.7402,-427.6143 778.5563,-433.4827\"/>\n</g>\n<!-- 15 -->\n<g id=\"node16\" class=\"node\">\n<title>15</title>\n<path fill=\"#e58139\" stroke=\"#000000\" d=\"M551.5,-298.5C551.5,-298.5 468.5,-298.5 468.5,-298.5 462.5,-298.5 456.5,-292.5 456.5,-286.5 456.5,-286.5 456.5,-242.5 456.5,-242.5 456.5,-236.5 462.5,-230.5 468.5,-230.5 468.5,-230.5 551.5,-230.5 551.5,-230.5 557.5,-230.5 563.5,-236.5 563.5,-242.5 563.5,-242.5 563.5,-286.5 563.5,-286.5 563.5,-292.5 557.5,-298.5 551.5,-298.5\"/>\n<text text-anchor=\"start\" x=\"467.5\" y=\"-283.3\" font-family=\"Helvetica,sans-Serif\" font-size=\"14.00\" fill=\"#000000\">entropy = 0.0</text>\n<text text-anchor=\"start\" x=\"466\" y=\"-268.3\" font-family=\"Helvetica,sans-Serif\" font-size=\"14.00\" fill=\"#000000\">samples = 26</text>\n<text text-anchor=\"start\" x=\"464.5\" y=\"-253.3\" font-family=\"Helvetica,sans-Serif\" font-size=\"14.00\" fill=\"#000000\">value = [26, 0]</text>\n<text text-anchor=\"start\" x=\"481\" y=\"-238.3\" font-family=\"Helvetica,sans-Serif\" font-size=\"14.00\" fill=\"#000000\">class = 0</text>\n</g>\n<!-- 14&#45;&gt;15 -->\n<g id=\"edge15\" class=\"edge\">\n<title>14&#45;&gt;15</title>\n<path fill=\"none\" stroke=\"#000000\" d=\"M595.1826,-341.8796C582.2303,-330.1138 568.146,-317.3197 555.2286,-305.5855\"/>\n<polygon fill=\"#000000\" stroke=\"#000000\" points=\"557.5306,-302.9482 547.7753,-298.8149 552.8239,-308.1296 557.5306,-302.9482\"/>\n</g>\n<!-- 16 -->\n<g id=\"node17\" class=\"node\">\n<title>16</title>\n<path fill=\"#7bbeee\" stroke=\"#000000\" d=\"M698,-306C698,-306 594,-306 594,-306 588,-306 582,-300 582,-294 582,-294 582,-235 582,-235 582,-229 588,-223 594,-223 594,-223 698,-223 698,-223 704,-223 710,-229 710,-235 710,-235 710,-294 710,-294 710,-300 704,-306 698,-306\"/>\n<text text-anchor=\"start\" x=\"590\" y=\"-290.8\" font-family=\"Helvetica,sans-Serif\" font-size=\"14.00\" fill=\"#000000\">radius_se ≤ &#45;0.86</text>\n<text text-anchor=\"start\" x=\"595\" y=\"-275.8\" font-family=\"Helvetica,sans-Serif\" font-size=\"14.00\" fill=\"#000000\">entropy = 0.811</text>\n<text text-anchor=\"start\" x=\"606.5\" y=\"-260.8\" font-family=\"Helvetica,sans-Serif\" font-size=\"14.00\" fill=\"#000000\">samples = 4</text>\n<text text-anchor=\"start\" x=\"604.5\" y=\"-245.8\" font-family=\"Helvetica,sans-Serif\" font-size=\"14.00\" fill=\"#000000\">value = [1, 3]</text>\n<text text-anchor=\"start\" x=\"617\" y=\"-230.8\" font-family=\"Helvetica,sans-Serif\" font-size=\"14.00\" fill=\"#000000\">class = 1</text>\n</g>\n<!-- 14&#45;&gt;16 -->\n<g id=\"edge16\" class=\"edge\">\n<title>14&#45;&gt;16</title>\n<path fill=\"none\" stroke=\"#000000\" d=\"M642.7488,-341.8796C643.0931,-333.6838 643.4584,-324.9891 643.8151,-316.5013\"/>\n<polygon fill=\"#000000\" stroke=\"#000000\" points=\"647.3208,-316.4362 644.2438,-306.2981 640.327,-316.1423 647.3208,-316.4362\"/>\n</g>\n<!-- 17 -->\n<g id=\"node18\" class=\"node\">\n<title>17</title>\n<path fill=\"#e58139\" stroke=\"#000000\" d=\"M568.5,-179.5C568.5,-179.5 491.5,-179.5 491.5,-179.5 485.5,-179.5 479.5,-173.5 479.5,-167.5 479.5,-167.5 479.5,-123.5 479.5,-123.5 479.5,-117.5 485.5,-111.5 491.5,-111.5 491.5,-111.5 568.5,-111.5 568.5,-111.5 574.5,-111.5 580.5,-117.5 580.5,-123.5 580.5,-123.5 580.5,-167.5 580.5,-167.5 580.5,-173.5 574.5,-179.5 568.5,-179.5\"/>\n<text text-anchor=\"start\" x=\"487.5\" y=\"-164.3\" font-family=\"Helvetica,sans-Serif\" font-size=\"14.00\" fill=\"#000000\">entropy = 0.0</text>\n<text text-anchor=\"start\" x=\"490.5\" y=\"-149.3\" font-family=\"Helvetica,sans-Serif\" font-size=\"14.00\" fill=\"#000000\">samples = 1</text>\n<text text-anchor=\"start\" x=\"488.5\" y=\"-134.3\" font-family=\"Helvetica,sans-Serif\" font-size=\"14.00\" fill=\"#000000\">value = [1, 0]</text>\n<text text-anchor=\"start\" x=\"501\" y=\"-119.3\" font-family=\"Helvetica,sans-Serif\" font-size=\"14.00\" fill=\"#000000\">class = 0</text>\n</g>\n<!-- 16&#45;&gt;17 -->\n<g id=\"edge17\" class=\"edge\">\n<title>16&#45;&gt;17</title>\n<path fill=\"none\" stroke=\"#000000\" d=\"M605.4288,-222.8796C594.174,-211.3337 581.9539,-198.7976 570.6922,-187.2446\"/>\n<polygon fill=\"#000000\" stroke=\"#000000\" points=\"572.9364,-184.5326 563.4499,-179.8149 567.9238,-189.4188 572.9364,-184.5326\"/>\n</g>\n<!-- 18 -->\n<g id=\"node19\" class=\"node\">\n<title>18</title>\n<path fill=\"#399de5\" stroke=\"#000000\" d=\"M687.5,-179.5C687.5,-179.5 610.5,-179.5 610.5,-179.5 604.5,-179.5 598.5,-173.5 598.5,-167.5 598.5,-167.5 598.5,-123.5 598.5,-123.5 598.5,-117.5 604.5,-111.5 610.5,-111.5 610.5,-111.5 687.5,-111.5 687.5,-111.5 693.5,-111.5 699.5,-117.5 699.5,-123.5 699.5,-123.5 699.5,-167.5 699.5,-167.5 699.5,-173.5 693.5,-179.5 687.5,-179.5\"/>\n<text text-anchor=\"start\" x=\"606.5\" y=\"-164.3\" font-family=\"Helvetica,sans-Serif\" font-size=\"14.00\" fill=\"#000000\">entropy = 0.0</text>\n<text text-anchor=\"start\" x=\"609.5\" y=\"-149.3\" font-family=\"Helvetica,sans-Serif\" font-size=\"14.00\" fill=\"#000000\">samples = 3</text>\n<text text-anchor=\"start\" x=\"607.5\" y=\"-134.3\" font-family=\"Helvetica,sans-Serif\" font-size=\"14.00\" fill=\"#000000\">value = [0, 3]</text>\n<text text-anchor=\"start\" x=\"620\" y=\"-119.3\" font-family=\"Helvetica,sans-Serif\" font-size=\"14.00\" fill=\"#000000\">class = 1</text>\n</g>\n<!-- 16&#45;&gt;18 -->\n<g id=\"edge18\" class=\"edge\">\n<title>16&#45;&gt;18</title>\n<path fill=\"none\" stroke=\"#000000\" d=\"M647.0493,-222.8796C647.3182,-212.2134 647.6084,-200.7021 647.8806,-189.9015\"/>\n<polygon fill=\"#000000\" stroke=\"#000000\" points=\"651.3817,-189.9 648.1349,-179.8149 644.3839,-189.7235 651.3817,-189.9\"/>\n</g>\n<!-- 20 -->\n<g id=\"node21\" class=\"node\">\n<title>20</title>\n<path fill=\"#f5d0b5\" stroke=\"#000000\" d=\"M952,-306C952,-306 744,-306 744,-306 738,-306 732,-300 732,-294 732,-294 732,-235 732,-235 732,-229 738,-223 744,-223 744,-223 952,-223 952,-223 958,-223 964,-229 964,-235 964,-235 964,-294 964,-294 964,-300 958,-306 952,-306\"/>\n<text text-anchor=\"start\" x=\"740\" y=\"-290.8\" font-family=\"Helvetica,sans-Serif\" font-size=\"14.00\" fill=\"#000000\">fractal_dimension_mean ≤ &#45;1.006</text>\n<text text-anchor=\"start\" x=\"797\" y=\"-275.8\" font-family=\"Helvetica,sans-Serif\" font-size=\"14.00\" fill=\"#000000\">entropy = 0.961</text>\n<text text-anchor=\"start\" x=\"804\" y=\"-260.8\" font-family=\"Helvetica,sans-Serif\" font-size=\"14.00\" fill=\"#000000\">samples = 13</text>\n<text text-anchor=\"start\" x=\"806.5\" y=\"-245.8\" font-family=\"Helvetica,sans-Serif\" font-size=\"14.00\" fill=\"#000000\">value = [8, 5]</text>\n<text text-anchor=\"start\" x=\"819\" y=\"-230.8\" font-family=\"Helvetica,sans-Serif\" font-size=\"14.00\" fill=\"#000000\">class = 0</text>\n</g>\n<!-- 19&#45;&gt;20 -->\n<g id=\"edge20\" class=\"edge\">\n<title>19&#45;&gt;20</title>\n<path fill=\"none\" stroke=\"#000000\" d=\"M848.6502,-341.8796C848.5814,-333.6838 848.5083,-324.9891 848.437,-316.5013\"/>\n<polygon fill=\"#000000\" stroke=\"#000000\" points=\"851.9352,-316.2683 848.3512,-306.2981 844.9355,-316.3272 851.9352,-316.2683\"/>\n</g>\n<!-- 25 -->\n<g id=\"node26\" class=\"node\">\n<title>25</title>\n<path fill=\"#3d9fe6\" stroke=\"#000000\" d=\"M1173.5,-306C1173.5,-306 994.5,-306 994.5,-306 988.5,-306 982.5,-300 982.5,-294 982.5,-294 982.5,-235 982.5,-235 982.5,-229 988.5,-223 994.5,-223 994.5,-223 1173.5,-223 1173.5,-223 1179.5,-223 1185.5,-229 1185.5,-235 1185.5,-235 1185.5,-294 1185.5,-294 1185.5,-300 1179.5,-306 1173.5,-306\"/>\n<text text-anchor=\"start\" x=\"990.5\" y=\"-290.8\" font-family=\"Helvetica,sans-Serif\" font-size=\"14.00\" fill=\"#000000\">compactness_worst ≤ &#45;0.885</text>\n<text text-anchor=\"start\" x=\"1033\" y=\"-275.8\" font-family=\"Helvetica,sans-Serif\" font-size=\"14.00\" fill=\"#000000\">entropy = 0.139</text>\n<text text-anchor=\"start\" x=\"1040\" y=\"-260.8\" font-family=\"Helvetica,sans-Serif\" font-size=\"14.00\" fill=\"#000000\">samples = 51</text>\n<text text-anchor=\"start\" x=\"1038.5\" y=\"-245.8\" font-family=\"Helvetica,sans-Serif\" font-size=\"14.00\" fill=\"#000000\">value = [1, 50]</text>\n<text text-anchor=\"start\" x=\"1055\" y=\"-230.8\" font-family=\"Helvetica,sans-Serif\" font-size=\"14.00\" fill=\"#000000\">class = 1</text>\n</g>\n<!-- 19&#45;&gt;25 -->\n<g id=\"edge25\" class=\"edge\">\n<title>19&#45;&gt;25</title>\n<path fill=\"none\" stroke=\"#000000\" d=\"M931.1916,-341.8796C951.1378,-331.7791 972.5805,-320.9209 992.9108,-310.626\"/>\n<polygon fill=\"#000000\" stroke=\"#000000\" points=\"994.5146,-313.7371 1001.8548,-306.0969 991.3522,-307.4921 994.5146,-313.7371\"/>\n</g>\n<!-- 21 -->\n<g id=\"node22\" class=\"node\">\n<title>21</title>\n<path fill=\"#399de5\" stroke=\"#000000\" d=\"M827.5,-179.5C827.5,-179.5 750.5,-179.5 750.5,-179.5 744.5,-179.5 738.5,-173.5 738.5,-167.5 738.5,-167.5 738.5,-123.5 738.5,-123.5 738.5,-117.5 744.5,-111.5 750.5,-111.5 750.5,-111.5 827.5,-111.5 827.5,-111.5 833.5,-111.5 839.5,-117.5 839.5,-123.5 839.5,-123.5 839.5,-167.5 839.5,-167.5 839.5,-173.5 833.5,-179.5 827.5,-179.5\"/>\n<text text-anchor=\"start\" x=\"746.5\" y=\"-164.3\" font-family=\"Helvetica,sans-Serif\" font-size=\"14.00\" fill=\"#000000\">entropy = 0.0</text>\n<text text-anchor=\"start\" x=\"749.5\" y=\"-149.3\" font-family=\"Helvetica,sans-Serif\" font-size=\"14.00\" fill=\"#000000\">samples = 4</text>\n<text text-anchor=\"start\" x=\"747.5\" y=\"-134.3\" font-family=\"Helvetica,sans-Serif\" font-size=\"14.00\" fill=\"#000000\">value = [0, 4]</text>\n<text text-anchor=\"start\" x=\"760\" y=\"-119.3\" font-family=\"Helvetica,sans-Serif\" font-size=\"14.00\" fill=\"#000000\">class = 1</text>\n</g>\n<!-- 20&#45;&gt;21 -->\n<g id=\"edge21\" class=\"edge\">\n<title>20&#45;&gt;21</title>\n<path fill=\"none\" stroke=\"#000000\" d=\"M827.3647,-222.8796C821.9128,-211.8835 816.0157,-199.9893 810.5184,-188.9015\"/>\n<polygon fill=\"#000000\" stroke=\"#000000\" points=\"813.5911,-187.2195 806.0133,-179.8149 807.3196,-190.3289 813.5911,-187.2195\"/>\n</g>\n<!-- 22 -->\n<g id=\"node23\" class=\"node\">\n<title>22</title>\n<path fill=\"#e89152\" stroke=\"#000000\" d=\"M990.5,-187C990.5,-187 869.5,-187 869.5,-187 863.5,-187 857.5,-181 857.5,-175 857.5,-175 857.5,-116 857.5,-116 857.5,-110 863.5,-104 869.5,-104 869.5,-104 990.5,-104 990.5,-104 996.5,-104 1002.5,-110 1002.5,-116 1002.5,-116 1002.5,-175 1002.5,-175 1002.5,-181 996.5,-187 990.5,-187\"/>\n<text text-anchor=\"start\" x=\"865.5\" y=\"-171.8\" font-family=\"Helvetica,sans-Serif\" font-size=\"14.00\" fill=\"#000000\">area_worst ≤ &#45;0.047</text>\n<text text-anchor=\"start\" x=\"879\" y=\"-156.8\" font-family=\"Helvetica,sans-Serif\" font-size=\"14.00\" fill=\"#000000\">entropy = 0.503</text>\n<text text-anchor=\"start\" x=\"890.5\" y=\"-141.8\" font-family=\"Helvetica,sans-Serif\" font-size=\"14.00\" fill=\"#000000\">samples = 9</text>\n<text text-anchor=\"start\" x=\"888.5\" y=\"-126.8\" font-family=\"Helvetica,sans-Serif\" font-size=\"14.00\" fill=\"#000000\">value = [8, 1]</text>\n<text text-anchor=\"start\" x=\"901\" y=\"-111.8\" font-family=\"Helvetica,sans-Serif\" font-size=\"14.00\" fill=\"#000000\">class = 0</text>\n</g>\n<!-- 20&#45;&gt;22 -->\n<g id=\"edge22\" class=\"edge\">\n<title>20&#45;&gt;22</title>\n<path fill=\"none\" stroke=\"#000000\" d=\"M876.6796,-222.8796C882.7615,-214.0534 889.2422,-204.6485 895.5141,-195.5466\"/>\n<polygon fill=\"#000000\" stroke=\"#000000\" points=\"898.4059,-197.5184 901.198,-187.2981 892.6418,-193.5465 898.4059,-197.5184\"/>\n</g>\n<!-- 23 -->\n<g id=\"node24\" class=\"node\">\n<title>23</title>\n<path fill=\"#e58139\" stroke=\"#000000\" d=\"M908.5,-68C908.5,-68 831.5,-68 831.5,-68 825.5,-68 819.5,-62 819.5,-56 819.5,-56 819.5,-12 819.5,-12 819.5,-6 825.5,0 831.5,0 831.5,0 908.5,0 908.5,0 914.5,0 920.5,-6 920.5,-12 920.5,-12 920.5,-56 920.5,-56 920.5,-62 914.5,-68 908.5,-68\"/>\n<text text-anchor=\"start\" x=\"827.5\" y=\"-52.8\" font-family=\"Helvetica,sans-Serif\" font-size=\"14.00\" fill=\"#000000\">entropy = 0.0</text>\n<text text-anchor=\"start\" x=\"830.5\" y=\"-37.8\" font-family=\"Helvetica,sans-Serif\" font-size=\"14.00\" fill=\"#000000\">samples = 8</text>\n<text text-anchor=\"start\" x=\"828.5\" y=\"-22.8\" font-family=\"Helvetica,sans-Serif\" font-size=\"14.00\" fill=\"#000000\">value = [8, 0]</text>\n<text text-anchor=\"start\" x=\"841\" y=\"-7.8\" font-family=\"Helvetica,sans-Serif\" font-size=\"14.00\" fill=\"#000000\">class = 0</text>\n</g>\n<!-- 22&#45;&gt;23 -->\n<g id=\"edge23\" class=\"edge\">\n<title>22&#45;&gt;23</title>\n<path fill=\"none\" stroke=\"#000000\" d=\"M907.6582,-103.9815C902.9598,-95.2504 897.9929,-86.0202 893.2617,-77.2281\"/>\n<polygon fill=\"#000000\" stroke=\"#000000\" points=\"896.2586,-75.4111 888.4379,-68.2637 890.0944,-78.7282 896.2586,-75.4111\"/>\n</g>\n<!-- 24 -->\n<g id=\"node25\" class=\"node\">\n<title>24</title>\n<path fill=\"#399de5\" stroke=\"#000000\" d=\"M1027.5,-68C1027.5,-68 950.5,-68 950.5,-68 944.5,-68 938.5,-62 938.5,-56 938.5,-56 938.5,-12 938.5,-12 938.5,-6 944.5,0 950.5,0 950.5,0 1027.5,0 1027.5,0 1033.5,0 1039.5,-6 1039.5,-12 1039.5,-12 1039.5,-56 1039.5,-56 1039.5,-62 1033.5,-68 1027.5,-68\"/>\n<text text-anchor=\"start\" x=\"946.5\" y=\"-52.8\" font-family=\"Helvetica,sans-Serif\" font-size=\"14.00\" fill=\"#000000\">entropy = 0.0</text>\n<text text-anchor=\"start\" x=\"949.5\" y=\"-37.8\" font-family=\"Helvetica,sans-Serif\" font-size=\"14.00\" fill=\"#000000\">samples = 1</text>\n<text text-anchor=\"start\" x=\"947.5\" y=\"-22.8\" font-family=\"Helvetica,sans-Serif\" font-size=\"14.00\" fill=\"#000000\">value = [0, 1]</text>\n<text text-anchor=\"start\" x=\"960\" y=\"-7.8\" font-family=\"Helvetica,sans-Serif\" font-size=\"14.00\" fill=\"#000000\">class = 1</text>\n</g>\n<!-- 22&#45;&gt;24 -->\n<g id=\"edge24\" class=\"edge\">\n<title>22&#45;&gt;24</title>\n<path fill=\"none\" stroke=\"#000000\" d=\"M951.9694,-103.9815C956.5895,-95.2504 961.4736,-86.0202 966.126,-77.2281\"/>\n<polygon fill=\"#000000\" stroke=\"#000000\" points=\"969.2859,-78.7395 970.8694,-68.2637 963.0987,-75.4655 969.2859,-78.7395\"/>\n</g>\n<!-- 26 -->\n<g id=\"node27\" class=\"node\">\n<title>26</title>\n<path fill=\"#e58139\" stroke=\"#000000\" d=\"M1120.5,-179.5C1120.5,-179.5 1043.5,-179.5 1043.5,-179.5 1037.5,-179.5 1031.5,-173.5 1031.5,-167.5 1031.5,-167.5 1031.5,-123.5 1031.5,-123.5 1031.5,-117.5 1037.5,-111.5 1043.5,-111.5 1043.5,-111.5 1120.5,-111.5 1120.5,-111.5 1126.5,-111.5 1132.5,-117.5 1132.5,-123.5 1132.5,-123.5 1132.5,-167.5 1132.5,-167.5 1132.5,-173.5 1126.5,-179.5 1120.5,-179.5\"/>\n<text text-anchor=\"start\" x=\"1039.5\" y=\"-164.3\" font-family=\"Helvetica,sans-Serif\" font-size=\"14.00\" fill=\"#000000\">entropy = 0.0</text>\n<text text-anchor=\"start\" x=\"1042.5\" y=\"-149.3\" font-family=\"Helvetica,sans-Serif\" font-size=\"14.00\" fill=\"#000000\">samples = 1</text>\n<text text-anchor=\"start\" x=\"1040.5\" y=\"-134.3\" font-family=\"Helvetica,sans-Serif\" font-size=\"14.00\" fill=\"#000000\">value = [1, 0]</text>\n<text text-anchor=\"start\" x=\"1053\" y=\"-119.3\" font-family=\"Helvetica,sans-Serif\" font-size=\"14.00\" fill=\"#000000\">class = 0</text>\n</g>\n<!-- 25&#45;&gt;26 -->\n<g id=\"edge26\" class=\"edge\">\n<title>25&#45;&gt;26</title>\n<path fill=\"none\" stroke=\"#000000\" d=\"M1083.3005,-222.8796C1083.1212,-212.2134 1082.9278,-200.7021 1082.7462,-189.9015\"/>\n<polygon fill=\"#000000\" stroke=\"#000000\" points=\"1086.2444,-189.7547 1082.5767,-179.8149 1079.2454,-189.8724 1086.2444,-189.7547\"/>\n</g>\n<!-- 27 -->\n<g id=\"node28\" class=\"node\">\n<title>27</title>\n<path fill=\"#399de5\" stroke=\"#000000\" d=\"M1245.5,-179.5C1245.5,-179.5 1162.5,-179.5 1162.5,-179.5 1156.5,-179.5 1150.5,-173.5 1150.5,-167.5 1150.5,-167.5 1150.5,-123.5 1150.5,-123.5 1150.5,-117.5 1156.5,-111.5 1162.5,-111.5 1162.5,-111.5 1245.5,-111.5 1245.5,-111.5 1251.5,-111.5 1257.5,-117.5 1257.5,-123.5 1257.5,-123.5 1257.5,-167.5 1257.5,-167.5 1257.5,-173.5 1251.5,-179.5 1245.5,-179.5\"/>\n<text text-anchor=\"start\" x=\"1161.5\" y=\"-164.3\" font-family=\"Helvetica,sans-Serif\" font-size=\"14.00\" fill=\"#000000\">entropy = 0.0</text>\n<text text-anchor=\"start\" x=\"1160\" y=\"-149.3\" font-family=\"Helvetica,sans-Serif\" font-size=\"14.00\" fill=\"#000000\">samples = 50</text>\n<text text-anchor=\"start\" x=\"1158.5\" y=\"-134.3\" font-family=\"Helvetica,sans-Serif\" font-size=\"14.00\" fill=\"#000000\">value = [0, 50]</text>\n<text text-anchor=\"start\" x=\"1175\" y=\"-119.3\" font-family=\"Helvetica,sans-Serif\" font-size=\"14.00\" fill=\"#000000\">class = 1</text>\n</g>\n<!-- 25&#45;&gt;27 -->\n<g id=\"edge27\" class=\"edge\">\n<title>25&#45;&gt;27</title>\n<path fill=\"none\" stroke=\"#000000\" d=\"M1125.9702,-222.8796C1137.724,-211.2237 1150.4954,-198.5587 1162.2372,-186.9148\"/>\n<polygon fill=\"#000000\" stroke=\"#000000\" points=\"1164.7606,-189.3416 1169.3967,-179.8149 1159.8316,-184.3712 1164.7606,-189.3416\"/>\n</g>\n<!-- 29 -->\n<g id=\"node30\" class=\"node\">\n<title>29</title>\n<path fill=\"#e58139\" stroke=\"#000000\" d=\"M1050.5,-417.5C1050.5,-417.5 973.5,-417.5 973.5,-417.5 967.5,-417.5 961.5,-411.5 961.5,-405.5 961.5,-405.5 961.5,-361.5 961.5,-361.5 961.5,-355.5 967.5,-349.5 973.5,-349.5 973.5,-349.5 1050.5,-349.5 1050.5,-349.5 1056.5,-349.5 1062.5,-355.5 1062.5,-361.5 1062.5,-361.5 1062.5,-405.5 1062.5,-405.5 1062.5,-411.5 1056.5,-417.5 1050.5,-417.5\"/>\n<text text-anchor=\"start\" x=\"969.5\" y=\"-402.3\" font-family=\"Helvetica,sans-Serif\" font-size=\"14.00\" fill=\"#000000\">entropy = 0.0</text>\n<text text-anchor=\"start\" x=\"972.5\" y=\"-387.3\" font-family=\"Helvetica,sans-Serif\" font-size=\"14.00\" fill=\"#000000\">samples = 1</text>\n<text text-anchor=\"start\" x=\"970.5\" y=\"-372.3\" font-family=\"Helvetica,sans-Serif\" font-size=\"14.00\" fill=\"#000000\">value = [1, 0]</text>\n<text text-anchor=\"start\" x=\"983\" y=\"-357.3\" font-family=\"Helvetica,sans-Serif\" font-size=\"14.00\" fill=\"#000000\">class = 0</text>\n</g>\n<!-- 28&#45;&gt;29 -->\n<g id=\"edge29\" class=\"edge\">\n<title>28&#45;&gt;29</title>\n<path fill=\"none\" stroke=\"#000000\" d=\"M1012,-460.8796C1012,-450.2134 1012,-438.7021 1012,-427.9015\"/>\n<polygon fill=\"#000000\" stroke=\"#000000\" points=\"1015.5001,-427.8149 1012,-417.8149 1008.5001,-427.815 1015.5001,-427.8149\"/>\n</g>\n<!-- 30 -->\n<g id=\"node31\" class=\"node\">\n<title>30</title>\n<path fill=\"#399de5\" stroke=\"#000000\" d=\"M1185,-417.5C1185,-417.5 1093,-417.5 1093,-417.5 1087,-417.5 1081,-411.5 1081,-405.5 1081,-405.5 1081,-361.5 1081,-361.5 1081,-355.5 1087,-349.5 1093,-349.5 1093,-349.5 1185,-349.5 1185,-349.5 1191,-349.5 1197,-355.5 1197,-361.5 1197,-361.5 1197,-405.5 1197,-405.5 1197,-411.5 1191,-417.5 1185,-417.5\"/>\n<text text-anchor=\"start\" x=\"1096.5\" y=\"-402.3\" font-family=\"Helvetica,sans-Serif\" font-size=\"14.00\" fill=\"#000000\">entropy = 0.0</text>\n<text text-anchor=\"start\" x=\"1091\" y=\"-387.3\" font-family=\"Helvetica,sans-Serif\" font-size=\"14.00\" fill=\"#000000\">samples = 202</text>\n<text text-anchor=\"start\" x=\"1089\" y=\"-372.3\" font-family=\"Helvetica,sans-Serif\" font-size=\"14.00\" fill=\"#000000\">value = [0, 202]</text>\n<text text-anchor=\"start\" x=\"1110\" y=\"-357.3\" font-family=\"Helvetica,sans-Serif\" font-size=\"14.00\" fill=\"#000000\">class = 1</text>\n</g>\n<!-- 28&#45;&gt;30 -->\n<g id=\"edge30\" class=\"edge\">\n<title>28&#45;&gt;30</title>\n<path fill=\"none\" stroke=\"#000000\" d=\"M1056.4184,-460.8796C1068.8579,-449.2237 1082.3743,-436.5587 1094.801,-424.9148\"/>\n<polygon fill=\"#000000\" stroke=\"#000000\" points=\"1097.4741,-427.2065 1102.3782,-417.8149 1092.6879,-422.0985 1097.4741,-427.2065\"/>\n</g>\n</g>\n</svg>\n"
          },
          "metadata": {},
          "execution_count": 107
        }
      ]
    },
    {
      "cell_type": "code",
      "source": [
        "#model evaluation\n",
        "y_test_pred = DT.predict(x_test)               \n",
        "infoG_matrix = confusion_matrix(y_test, y_test_pred)\n",
        "print (infoG_matrix) \n",
        "\n",
        "print(classification_report(y_test, y_test_pred, target_names=[\"benign\", \"malignant\"]))\n",
        "\n",
        "\n",
        "import seaborn as sns\n",
        "\n",
        "ax = sns.heatmap(infoG_matrix, annot=True, cmap='Greens_r')\n",
        "\n",
        "ax.set_title('Confusion Matrix \\n\\n');\n",
        "ax.set_xlabel('\\nPredicted Values')\n",
        "ax.set_ylabel('Actual Values ');\n",
        "\n",
        "## Ticket labels - List must be in alphabetical order\n",
        "ax.xaxis.set_ticklabels(['False','True'])\n",
        "ax.yaxis.set_ticklabels(['False','True'])\n",
        "\n",
        "## Display the visualization of the Confusion Matrix.\n",
        "plt.show()"
      ],
      "metadata": {
        "colab": {
          "base_uri": "https://localhost:8080/",
          "height": 528
        },
        "id": "dBthQNvYdvLk",
        "outputId": "2ae212ef-7dbd-4bee-999e-c11e1b118c93"
      },
      "execution_count": 108,
      "outputs": [
        {
          "output_type": "stream",
          "name": "stdout",
          "text": [
            "[[60  5]\n",
            " [ 1 67]]\n",
            "              precision    recall  f1-score   support\n",
            "\n",
            "      benign       0.98      0.92      0.95        65\n",
            "   malignant       0.93      0.99      0.96        68\n",
            "\n",
            "    accuracy                           0.95       133\n",
            "   macro avg       0.96      0.95      0.95       133\n",
            "weighted avg       0.96      0.95      0.95       133\n",
            "\n"
          ]
        },
        {
          "output_type": "display_data",
          "data": {
            "text/plain": [
              "<Figure size 432x288 with 2 Axes>"
            ],
            "image/png": "[encoded data removed]"
          },
          "metadata": {
            "needs_background": "light"
          }
        }
      ]
    },
    {
      "cell_type": "code",
      "source": [
        "print(\"Accuracy:\",accuracy_score(y_test, y_test_pred)*100)"
      ],
      "metadata": {
        "colab": {
          "base_uri": "https://localhost:8080/"
        },
        "id": "1V-wyzUBdzxg",
        "outputId": "791bac5f-3331-4a89-c5f1-175c79f16d0d"
      },
      "execution_count": 109,
      "outputs": [
        {
          "output_type": "stream",
          "name": "stdout",
          "text": [
            "Accuracy: 95.48872180451127\n"
          ]
        }
      ]
    },
    {
      "cell_type": "code",
      "source": [
        "#Visualising Function\n",
        "def AUC_ROC_plot(y_test, y_test_pred):    \n",
        "    ref = [0 for _ in range(len(y_test))]\n",
        "    ref_auc = roc_auc_score(y_test, ref)\n",
        "    lr_auc = roc_auc_score(y_test, y_test_pred)\n",
        "\n",
        "    ns_fpr, ns_tpr, _ = roc_curve(y_test, ref)\n",
        "    lr_fpr, lr_tpr, _ = roc_curve(y_test, y_test_pred)\n",
        "\n",
        "    plt.plot(ns_fpr, ns_tpr, linestyle='--')\n",
        "    plt.plot(lr_fpr, lr_tpr, marker='.', label='AUC = {}'.format(round(roc_auc_score(y_test, y_test_pred)*100,2))) \n",
        "    plt.xlabel('False Positive Rate')\n",
        "    plt.ylabel('True Positive Rate')\n",
        "    plt.legend()\n",
        "    plt.show()"
      ],
      "metadata": {
        "id": "BLHs54CGnGTj"
      },
      "execution_count": 110,
      "outputs": []
    },
    {
      "cell_type": "code",
      "source": [
        "AUC_ROC_plot(y_test, y_test_pred)"
      ],
      "metadata": {
        "colab": {
          "base_uri": "https://localhost:8080/",
          "height": 279
        },
        "id": "1FOo-bxinsSi",
        "outputId": "b023b89b-5f1d-4cb1-a0a0-f8ac3161f501"
      },
      "execution_count": 111,
      "outputs": [
        {
          "output_type": "display_data",
          "data": {
            "text/plain": [
              "<Figure size 432x288 with 1 Axes>"
            ],
            "image/png": "[encoded data removed]"
          },
          "metadata": {
            "needs_background": "light"
          }
        }
      ]
    },
    {
      "cell_type": "code",
      "source": [
        "from sklearn.metrics import roc_auc_score\n",
        "auc_valid = roc_auc_score(y_test, y_test_pred)\n",
        "\n",
        "print(\"AUC Valid = {}\".format( round(auc_valid,4)))"
      ],
      "metadata": {
        "colab": {
          "base_uri": "https://localhost:8080/"
        },
        "id": "1dNBisEKoa7U",
        "outputId": "c6ead4c4-262b-477f-e94d-c66f1c8b6f4a"
      },
      "execution_count": 112,
      "outputs": [
        {
          "output_type": "stream",
          "name": "stdout",
          "text": [
            "AUC Valid = 0.9542\n"
          ]
        }
      ]
    },
    {
      "cell_type": "markdown",
      "source": [
        "##SVM CLASSIFIER"
      ],
      "metadata": {
        "id": "qNfbQ4cSqxMF"
      }
    },
    {
      "cell_type": "markdown",
      "source": [
        "1. gamma --> controls the distance of influence of a single tr point\n",
        "* high value --> decision boundary depends on the points nearby only (might be non-straight line)\n",
        "* low value --> decision boundary depends on fat=r point too \n",
        "2. C:\n",
        "* large value --> small margin (caring about classifying each point right)\n",
        "* low value --> maximizing the margin"
      ],
      "metadata": {
        "id": "4GyygqoO-FDU"
      }
    },
    {
      "cell_type": "code",
      "source": [
        "from sklearn.svm import SVC\n"
      ],
      "metadata": {
        "id": "z0qoU8-41mve"
      },
      "execution_count": 113,
      "outputs": []
    },
    {
      "cell_type": "code",
      "source": [
        "#Hyperparameter Tuning\n",
        "from sklearn.model_selection import GridSearchCV\n",
        "g=GridSearchCV(estimator=SVC(),\n",
        "             param_grid={'C': [1, 10], 'gamma': [1,0.1,0.01,0.001,0.0001,1.1,1.2],'kernel': ('linear', 'rbf')})\n",
        " \n",
        "g.fit(x_train,y_train)"
      ],
      "metadata": {
        "colab": {
          "base_uri": "https://localhost:8080/"
        },
        "id": "NPApjvpbrUTz",
        "outputId": "4bf6e9ed-bee6-4108-a1d7-f1d59b946633"
      },
      "execution_count": 114,
      "outputs": [
        {
          "output_type": "execute_result",
          "data": {
            "text/plain": [
              "GridSearchCV(estimator=SVC(),\n",
              "             param_grid={'C': [1, 10],\n",
              "                         'gamma': [1, 0.1, 0.01, 0.001, 0.0001, 1.1, 1.2],\n",
              "                         'kernel': ('linear', 'rbf')})"
            ]
          },
          "metadata": {},
          "execution_count": 114
        }
      ]
    },
    {
      "cell_type": "code",
      "source": [
        "g.best_params_"
      ],
      "metadata": {
        "colab": {
          "base_uri": "https://localhost:8080/"
        },
        "id": "E6unC0v11tJe",
        "outputId": "3855b133-627b-4509-eb5f-cbf3ba1f8732"
      },
      "execution_count": 115,
      "outputs": [
        {
          "output_type": "execute_result",
          "data": {
            "text/plain": [
              "{'C': 10, 'gamma': 0.001, 'kernel': 'rbf'}"
            ]
          },
          "metadata": {},
          "execution_count": 115
        }
      ]
    },
    {
      "cell_type": "code",
      "source": [
        "g.best_estimator_"
      ],
      "metadata": {
        "colab": {
          "base_uri": "https://localhost:8080/"
        },
        "id": "xnyVsMaK15d0",
        "outputId": "bd6792dd-69f3-4d4d-9140-0be533d08d95"
      },
      "execution_count": 116,
      "outputs": [
        {
          "output_type": "execute_result",
          "data": {
            "text/plain": [
              "SVC(C=10, gamma=0.001)"
            ]
          },
          "metadata": {},
          "execution_count": 116
        }
      ]
    },
    {
      "cell_type": "code",
      "source": [
        "grid_pred = g.predict(x_test)"
      ],
      "metadata": {
        "id": "PDFNYgff2DtL"
      },
      "execution_count": 117,
      "outputs": []
    },
    {
      "cell_type": "code",
      "source": [
        "print(confusion_matrix(y_test,grid_pred))\n",
        "sns.heatmap(confusion_matrix(y_test,grid_pred), annot=True, fmt='d', cmap='Greens_r')\n",
        "plt.show()"
      ],
      "metadata": {
        "colab": {
          "base_uri": "https://localhost:8080/",
          "height": 300
        },
        "id": "xOxDdPyF2Scx",
        "outputId": "16c1a69e-964a-400c-cbea-008b617f448a"
      },
      "execution_count": 118,
      "outputs": [
        {
          "output_type": "stream",
          "name": "stdout",
          "text": [
            "[[62  3]\n",
            " [ 1 67]]\n"
          ]
        },
        {
          "output_type": "display_data",
          "data": {
            "text/plain": [
              "<Figure size 432x288 with 2 Axes>"
            ],
            "image/png": "[encoded data removed]"
          },
          "metadata": {
            "needs_background": "light"
          }
        }
      ]
    },
    {
      "cell_type": "code",
      "source": [
        "# Print train set accuracy\n",
        "print(\"Train set accuracy: {:.2f}\".format(g.score(x_train, y_train)))\n",
        "\n",
        "# Print test set accuracy\n",
        "print(\"Test set accuracy: {:.2f}\".format(g.score(x_test, y_test)))\n",
        "\n"
      ],
      "metadata": {
        "colab": {
          "base_uri": "https://localhost:8080/"
        },
        "id": "n33b_FNo2pBX",
        "outputId": "c29b82ca-3a96-412a-e0fd-9803761ee000"
      },
      "execution_count": 119,
      "outputs": [
        {
          "output_type": "stream",
          "name": "stdout",
          "text": [
            "Train set accuracy: 0.98\n",
            "Test set accuracy: 0.97\n"
          ]
        }
      ]
    },
    {
      "cell_type": "markdown",
      "source": [
        "#BUILDING A NEURAL NETWORK "
      ],
      "metadata": {
        "id": "MnyPKYByRrMc"
      }
    },
    {
      "cell_type": "code",
      "source": [
        "import tensorflow as tf\n",
        "from tensorflow import keras\n",
        "from tensorflow.keras import layers\n",
        "from keras import Sequential,Model\n",
        "from keras.layers import Activation, Dense, Dropout, Flatten, Input, Add\n",
        "from sklearn.metrics import roc_curve\n",
        "from keras.callbacks import Callback\n"
      ],
      "metadata": {
        "id": "X0o3O3SwcLIy"
      },
      "execution_count": 120,
      "outputs": []
    },
    {
      "cell_type": "markdown",
      "source": [
        "\n",
        "\n",
        "---\n",
        "spliting the tes size into a validation set and test set\n",
        "\n",
        "---\n",
        "\n",
        "\n"
      ],
      "metadata": {
        "id": "2BbNqgfSV5eK"
      }
    },
    {
      "cell_type": "code",
      "source": [
        "X_train, X_test, y_train, y_test = train_test_split(X, Y, test_size=0.1, random_state=2)\n",
        "X_train_std = scaler.fit_transform(X_train)\n",
        "x_train= pd.DataFrame(X_train_std, columns=X.columns)\n",
        "\n",
        "X_test_std = scaler.transform(X_test)\n",
        "x_test= pd.DataFrame(X_test_std, columns=X.columns)"
      ],
      "metadata": {
        "id": "LuXG1HQ3WBM6"
      },
      "execution_count": 121,
      "outputs": []
    },
    {
      "cell_type": "code",
      "source": [
        "print( X_train.shape, X_test.shape)"
      ],
      "metadata": {
        "colab": {
          "base_uri": "https://localhost:8080/"
        },
        "id": "auUNZ7uaWiMa",
        "outputId": "2fed92c4-6fa0-4b12-8638-97044af43e47"
      },
      "execution_count": 122,
      "outputs": [
        {
          "output_type": "stream",
          "name": "stdout",
          "text": [
            "(597, 30) (67, 30)\n"
          ]
        }
      ]
    },
    {
      "cell_type": "code",
      "source": [
        "\n",
        "# setting up the layers of Neural Network\n",
        "\n",
        "model = keras.Sequential([\n",
        "                          keras.layers.Flatten(input_shape=(30,)),\n",
        "                          keras.layers.Dense(64, activation='relu'),\n",
        "                          keras.layers.Dense(1, activation='sigmoid')\n",
        "])\n",
        "\n"
      ],
      "metadata": {
        "id": "QctgvklJSEQC"
      },
      "execution_count": 123,
      "outputs": []
    },
    {
      "cell_type": "code",
      "source": [
        "# compiling the Neural Network\n",
        "\n",
        "model.compile(optimizer = keras.optimizers.Adam(lr=0.01),\n",
        "              loss='BinaryCrossentropy',\n",
        "              metrics=['accuracy'])\n",
        "\n",
        "#history = model.fit(x_train, y_train, validation_split=0.1, epochs=30)\n",
        "\n",
        "callback= tf.keras.callbacks.EarlyStopping(monitor='val_loss', patience = 15)\n",
        "history = model.fit(x_train, y_train, validation_split=0.1, epochs=15,     callbacks=[callback])\n",
        "\n"
      ],
      "metadata": {
        "colab": {
          "base_uri": "https://localhost:8080/"
        },
        "id": "xqJfTM24SXHO",
        "outputId": "60e8b95b-905f-40b6-9930-e9f973d67f8a"
      },
      "execution_count": 124,
      "outputs": [
        {
          "output_type": "stream",
          "name": "stderr",
          "text": [
            "/usr/local/lib/python3.7/dist-packages/keras/optimizer_v2/adam.py:105: UserWarning: The `lr` argument is deprecated, use `learning_rate` instead.\n",
            "  super(Adam, self).__init__(name, **kwargs)\n"
          ]
        },
        {
          "output_type": "stream",
          "name": "stdout",
          "text": [
            "Epoch 1/15\n",
            "17/17 [==============================] - 1s 18ms/step - loss: 0.2037 - accuracy: 0.9162 - val_loss: 0.0854 - val_accuracy: 0.9667\n",
            "Epoch 2/15\n",
            "17/17 [==============================] - 0s 4ms/step - loss: 0.0598 - accuracy: 0.9870 - val_loss: 0.0512 - val_accuracy: 0.9667\n",
            "Epoch 3/15\n",
            "17/17 [==============================] - 0s 4ms/step - loss: 0.0462 - accuracy: 0.9851 - val_loss: 0.0528 - val_accuracy: 0.9667\n",
            "Epoch 4/15\n",
            "17/17 [==============================] - 0s 4ms/step - loss: 0.0369 - accuracy: 0.9907 - val_loss: 0.0477 - val_accuracy: 0.9833\n",
            "Epoch 5/15\n",
            "17/17 [==============================] - 0s 4ms/step - loss: 0.0291 - accuracy: 0.9944 - val_loss: 0.0606 - val_accuracy: 0.9667\n",
            "Epoch 6/15\n",
            "17/17 [==============================] - 0s 3ms/step - loss: 0.0237 - accuracy: 0.9926 - val_loss: 0.0722 - val_accuracy: 0.9667\n",
            "Epoch 7/15\n",
            "17/17 [==============================] - 0s 4ms/step - loss: 0.0218 - accuracy: 0.9926 - val_loss: 0.0676 - val_accuracy: 0.9667\n",
            "Epoch 8/15\n",
            "17/17 [==============================] - 0s 5ms/step - loss: 0.0185 - accuracy: 0.9963 - val_loss: 0.0747 - val_accuracy: 0.9667\n",
            "Epoch 9/15\n",
            "17/17 [==============================] - 0s 4ms/step - loss: 0.0159 - accuracy: 0.9963 - val_loss: 0.0638 - val_accuracy: 0.9667\n",
            "Epoch 10/15\n",
            "17/17 [==============================] - 0s 4ms/step - loss: 0.0119 - accuracy: 0.9963 - val_loss: 0.0893 - val_accuracy: 0.9667\n",
            "Epoch 11/15\n",
            "17/17 [==============================] - 0s 4ms/step - loss: 0.0115 - accuracy: 0.9963 - val_loss: 0.0891 - val_accuracy: 0.9500\n",
            "Epoch 12/15\n",
            "17/17 [==============================] - 0s 4ms/step - loss: 0.0112 - accuracy: 0.9963 - val_loss: 0.0787 - val_accuracy: 0.9667\n",
            "Epoch 13/15\n",
            "17/17 [==============================] - 0s 4ms/step - loss: 0.0070 - accuracy: 1.0000 - val_loss: 0.0935 - val_accuracy: 0.9667\n",
            "Epoch 14/15\n",
            "17/17 [==============================] - 0s 4ms/step - loss: 0.0072 - accuracy: 0.9981 - val_loss: 0.0954 - val_accuracy: 0.9500\n",
            "Epoch 15/15\n",
            "17/17 [==============================] - 0s 3ms/step - loss: 0.0083 - accuracy: 0.9963 - val_loss: 0.0885 - val_accuracy: 0.9667\n"
          ]
        }
      ]
    },
    {
      "cell_type": "code",
      "source": [
        "plt.plot(history.history['accuracy'])\n",
        "plt.plot(history.history['val_accuracy'])\n",
        "\n",
        "plt.title('model accuracy')\n",
        "plt.ylabel('accuracy')\n",
        "plt.xlabel('epoch')\n",
        "\n",
        "plt.legend(['training data', 'validation data'], loc = 'lower right')\n",
        "\n",
        "\n",
        "\n"
      ],
      "metadata": {
        "colab": {
          "base_uri": "https://localhost:8080/",
          "height": 312
        },
        "id": "EttV23j-goVJ",
        "outputId": "fec8a8f5-f98a-4d2e-d0bf-32139cd05ed8"
      },
      "execution_count": 125,
      "outputs": [
        {
          "output_type": "execute_result",
          "data": {
            "text/plain": [
              "<matplotlib.legend.Legend at 0x7f8ac660af10>"
            ]
          },
          "metadata": {},
          "execution_count": 125
        },
        {
          "output_type": "display_data",
          "data": {
            "text/plain": [
              "<Figure size 432x288 with 1 Axes>"
            ],
            "image/png": "[encoded data removed]"
          },
          "metadata": {
            "needs_background": "light"
          }
        }
      ]
    },
    {
      "cell_type": "code",
      "source": [
        "plt.plot(history.history['loss'])\n",
        "plt.plot(history.history['val_loss'])\n",
        "\n",
        "plt.title('model loss')\n",
        "plt.ylabel('loss')\n",
        "plt.xlabel('epoch')\n",
        "\n",
        "plt.legend(['training data', 'validation data'], loc = 'upper right')"
      ],
      "metadata": {
        "colab": {
          "base_uri": "https://localhost:8080/",
          "height": 312
        },
        "id": "stWhTcoFgySm",
        "outputId": "bd7d4e13-f14a-4748-e610-b5b1eef48ec9"
      },
      "execution_count": 126,
      "outputs": [
        {
          "output_type": "execute_result",
          "data": {
            "text/plain": [
              "<matplotlib.legend.Legend at 0x7f8ac627e1d0>"
            ]
          },
          "metadata": {},
          "execution_count": 126
        },
        {
          "output_type": "display_data",
          "data": {
            "text/plain": [
              "<Figure size 432x288 with 1 Axes>"
            ],
            "image/png": "[encoded data removed]"
          },
          "metadata": {
            "needs_background": "light"
          }
        }
      ]
    },
    {
      "cell_type": "code",
      "source": [
        "loss, accuracy = model.evaluate(x_test, y_test)\n",
        "print(accuracy)"
      ],
      "metadata": {
        "colab": {
          "base_uri": "https://localhost:8080/"
        },
        "id": "FVOBNxrriTXd",
        "outputId": "21a007a2-9e83-4166-c2f3-b6239f6f05d8"
      },
      "execution_count": 127,
      "outputs": [
        {
          "output_type": "stream",
          "name": "stdout",
          "text": [
            "3/3 [==============================] - 0s 6ms/step - loss: 0.1382 - accuracy: 0.9403\n",
            "0.9402984976768494\n"
          ]
        }
      ]
    }
  ]
}